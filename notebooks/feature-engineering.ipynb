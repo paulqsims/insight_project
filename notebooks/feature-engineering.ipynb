{
 "cells": [
  {
   "cell_type": "markdown",
   "id": "97c56147",
   "metadata": {},
   "source": [
    "# Feature Engineering"
   ]
  },
  {
   "cell_type": "markdown",
   "id": "2e18997a",
   "metadata": {
    "tags": []
   },
   "source": [
    "## Setup"
   ]
  },
  {
   "cell_type": "markdown",
   "id": "2c8c1c96",
   "metadata": {},
   "source": [
    "### Import modules"
   ]
  },
  {
   "cell_type": "code",
   "execution_count": 1,
   "id": "9b4f1646",
   "metadata": {
    "ExecuteTime": {
     "end_time": "2020-12-16T01:59:10.607912Z",
     "start_time": "2020-12-16T01:59:08.724699Z"
    },
    "execution": {
     "iopub.execute_input": "2021-04-18T22:02:07.478129Z",
     "iopub.status.busy": "2021-04-18T22:02:07.477954Z",
     "iopub.status.idle": "2021-04-18T22:02:12.231233Z",
     "shell.execute_reply": "2021-04-18T22:02:12.230882Z",
     "shell.execute_reply.started": "2021-04-18T22:02:07.478115Z"
    }
   },
   "outputs": [],
   "source": [
    "# Data manipulation\n",
    "\n",
    "import pandas as pd\n",
    "pd.set_option(\"display.max_rows\", None)\n",
    "pd.set_option(\"display.max_columns\", None)\n",
    "\n",
    "import numpy as np\n",
    "import re\n",
    "import sklearn \n",
    "\n",
    "# NLP\n",
    "\n",
    "import textdistance as td\n",
    "\n",
    "# Plotting\n",
    "\n",
    "import matplotlib.pyplot as plt\n",
    "%matplotlib inline\n",
    "%config InlineBackend.figure_format = 'retina'  \n",
    "import seaborn as sns\n",
    "sns.set_context(\"poster\")\n",
    "sns.set(rc={'figure.figsize': (16, 9.)})\n",
    "sns.set_style(\"whitegrid\")\n",
    "sns.set(font_scale = 1.5)\n",
    "\n",
    "# Miscellaneous\n",
    "\n",
    "import rootpath\n",
    "import glob"
   ]
  },
  {
   "cell_type": "markdown",
   "id": "d1a53b54",
   "metadata": {},
   "source": [
    "### Locate files"
   ]
  },
  {
   "cell_type": "code",
   "execution_count": 2,
   "id": "53e81d2f",
   "metadata": {
    "execution": {
     "iopub.execute_input": "2021-04-18T22:02:12.232446Z",
     "iopub.status.busy": "2021-04-18T22:02:12.232344Z",
     "iopub.status.idle": "2021-04-18T22:02:12.234601Z",
     "shell.execute_reply": "2021-04-18T22:02:12.234256Z",
     "shell.execute_reply.started": "2021-04-18T22:02:12.232434Z"
    }
   },
   "outputs": [],
   "source": [
    "# Set root path for project\n",
    "\n",
    "rpath = rootpath.detect()"
   ]
  },
  {
   "cell_type": "markdown",
   "id": "5cf6ad51",
   "metadata": {},
   "source": [
    "### Compile data"
   ]
  },
  {
   "cell_type": "code",
   "execution_count": 3,
   "id": "08f085ea",
   "metadata": {
    "execution": {
     "iopub.execute_input": "2021-04-18T22:02:12.235523Z",
     "iopub.status.busy": "2021-04-18T22:02:12.235425Z",
     "iopub.status.idle": "2021-04-18T22:02:12.388743Z",
     "shell.execute_reply": "2021-04-18T22:02:12.388289Z",
     "shell.execute_reply.started": "2021-04-18T22:02:12.235511Z"
    }
   },
   "outputs": [],
   "source": [
    "# Concatenate dataframes rowwise\n"
   ]
  }
 ],
 "metadata": {
  "kernelspec": {
   "display_name": "Python [conda env:data_chall] *",
   "language": "python",
   "name": "conda-env-data_chall-py"
  },
  "language_info": {
   "codemirror_mode": {
    "name": "ipython",
    "version": 3
   },
   "file_extension": ".py",
   "mimetype": "text/x-python",
   "name": "python",
   "nbconvert_exporter": "python",
   "pygments_lexer": "ipython3",
   "version": "3.8.8"
  }
 },
 "nbformat": 4,
 "nbformat_minor": 5
}
