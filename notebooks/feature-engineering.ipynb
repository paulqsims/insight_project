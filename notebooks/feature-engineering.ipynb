{
 "cells": [
  {
   "cell_type": "markdown",
   "id": "13896261",
   "metadata": {},
   "source": [
    "# Feature Engineering"
   ]
  },
  {
   "cell_type": "markdown",
   "id": "c84cd83e",
   "metadata": {
    "tags": []
   },
   "source": [
    "## Setup"
   ]
  },
  {
   "cell_type": "markdown",
   "id": "9bb6cfc3",
   "metadata": {},
   "source": [
    "### Import modules"
   ]
  },
  {
   "cell_type": "code",
   "execution_count": 1,
   "id": "e4beb90e",
   "metadata": {
    "ExecuteTime": {
     "end_time": "2020-12-16T01:59:10.607912Z",
     "start_time": "2020-12-16T01:59:08.724699Z"
    },
    "execution": {
     "iopub.execute_input": "2021-04-18T22:02:07.478129Z",
     "iopub.status.busy": "2021-04-18T22:02:07.477954Z",
     "iopub.status.idle": "2021-04-18T22:02:12.231233Z",
     "shell.execute_reply": "2021-04-18T22:02:12.230882Z",
     "shell.execute_reply.started": "2021-04-18T22:02:07.478115Z"
    }
   },
   "outputs": [],
   "source": [
    "# Data manipulation\n",
    "\n",
    "import pandas as pd\n",
    "pd.set_option(\"display.max_rows\", None)\n",
    "pd.set_option(\"display.max_columns\", None)\n",
    "\n",
    "import numpy as np\n",
    "import re\n",
    "import sklearn \n",
    "\n",
    "# NLP\n",
    "\n",
    "import textdistance as td\n",
    "\n",
    "# Plotting\n",
    "\n",
    "import matplotlib.pyplot as plt\n",
    "%matplotlib inline\n",
    "%config InlineBackend.figure_format = 'retina'  \n",
    "import seaborn as sns\n",
    "sns.set_context(\"poster\")\n",
    "sns.set(rc={'figure.figsize': (16, 9.)})\n",
    "sns.set_style(\"whitegrid\")\n",
    "sns.set(font_scale = 1.5)\n",
    "\n",
    "# Miscellaneous\n",
    "\n",
    "import rootpath\n",
    "import glob"
   ]
  },
  {
   "cell_type": "markdown",
   "id": "3fecf3f6",
   "metadata": {},
   "source": [
    "### Locate files"
   ]
  },
  {
   "cell_type": "code",
   "execution_count": 2,
   "id": "d3b0a88e",
   "metadata": {
    "execution": {
     "iopub.execute_input": "2021-04-18T22:02:12.232446Z",
     "iopub.status.busy": "2021-04-18T22:02:12.232344Z",
     "iopub.status.idle": "2021-04-18T22:02:12.234601Z",
     "shell.execute_reply": "2021-04-18T22:02:12.234256Z",
     "shell.execute_reply.started": "2021-04-18T22:02:12.232434Z"
    }
   },
   "outputs": [],
   "source": [
    "# Set root path for project\n",
    "\n",
    "rpath = rootpath.detect()"
   ]
  },
  {
   "cell_type": "markdown",
   "id": "8f52aead",
   "metadata": {},
   "source": [
    "### Compile data"
   ]
  },
  {
   "cell_type": "code",
   "execution_count": 3,
   "id": "4ed17424",
   "metadata": {
    "execution": {
     "iopub.execute_input": "2021-04-18T22:02:12.235523Z",
     "iopub.status.busy": "2021-04-18T22:02:12.235425Z",
     "iopub.status.idle": "2021-04-18T22:02:12.388743Z",
     "shell.execute_reply": "2021-04-18T22:02:12.388289Z",
     "shell.execute_reply.started": "2021-04-18T22:02:12.235511Z"
    }
   },
   "outputs": [],
   "source": [
    "df_products = pd.read_csv(rpath+'data/clean/data_clean.csv')"
   ]
  },
  {
   "cell_type": "markdown",
   "id": "8a1ea867",
   "metadata": {
    "tags": []
   },
   "source": [
    "#### MOVE COUNTS TO LATER, AFTER INGREDIENT LENGTH ISSUE FIXED"
   ]
  },
  {
   "cell_type": "code",
   "execution_count": 328,
   "id": "ebff82d5",
   "metadata": {},
   "outputs": [],
   "source": [
    "# Count how many occurences of each ingredient\n",
    "\n",
    "ingred_cts = df_temp['ingredients'].value_counts().to_frame()"
   ]
  },
  {
   "cell_type": "code",
   "execution_count": 329,
   "id": "9f07b629",
   "metadata": {},
   "outputs": [],
   "source": [
    "# Turn counts into df and rename columns\n",
    "\n",
    "ingred_cts = (\n",
    "    ingred_cts.reset_index() \\\n",
    "    .rename({'index':'ingredient','ingredients':'cts'}, axis = 'columns')\n",
    ")"
   ]
  },
  {
   "cell_type": "code",
   "execution_count": 299,
   "id": "7a9f8672",
   "metadata": {},
   "outputs": [
    {
     "data": {
      "text/html": [
       "<div>\n",
       "<style scoped>\n",
       "    .dataframe tbody tr th:only-of-type {\n",
       "        vertical-align: middle;\n",
       "    }\n",
       "\n",
       "    .dataframe tbody tr th {\n",
       "        vertical-align: top;\n",
       "    }\n",
       "\n",
       "    .dataframe thead th {\n",
       "        text-align: right;\n",
       "    }\n",
       "</style>\n",
       "<table border=\"1\" class=\"dataframe\">\n",
       "  <thead>\n",
       "    <tr style=\"text-align: right;\">\n",
       "      <th></th>\n",
       "      <th>ingredient</th>\n",
       "      <th>cts</th>\n",
       "    </tr>\n",
       "  </thead>\n",
       "  <tbody>\n",
       "    <tr>\n",
       "      <th>0</th>\n",
       "      <td></td>\n",
       "      <td>0.080532</td>\n",
       "    </tr>\n",
       "    <tr>\n",
       "      <th>1</th>\n",
       "      <td>glycerin</td>\n",
       "      <td>0.021536</td>\n",
       "    </tr>\n",
       "    <tr>\n",
       "      <th>2</th>\n",
       "      <td>phenoxyethanol</td>\n",
       "      <td>0.017794</td>\n",
       "    </tr>\n",
       "    <tr>\n",
       "      <th>3</th>\n",
       "      <td>butylene glycol</td>\n",
       "      <td>0.012833</td>\n",
       "    </tr>\n",
       "    <tr>\n",
       "      <th>4</th>\n",
       "      <td>disodium edta</td>\n",
       "      <td>0.011378</td>\n",
       "    </tr>\n",
       "  </tbody>\n",
       "</table>\n",
       "</div>"
      ],
      "text/plain": [
       "        ingredient       cts\n",
       "0                   0.080532\n",
       "1         glycerin  0.021536\n",
       "2   phenoxyethanol  0.017794\n",
       "3  butylene glycol  0.012833\n",
       "4    disodium edta  0.011378"
      ]
     },
     "execution_count": 299,
     "metadata": {},
     "output_type": "execute_result"
    }
   ],
   "source": [
    "ingred_cts.head()"
   ]
  }
 ],
 "metadata": {
  "kernelspec": {
   "display_name": "Python [conda env:data_chall] *",
   "language": "python",
   "name": "conda-env-data_chall-py"
  },
  "language_info": {
   "codemirror_mode": {
    "name": "ipython",
    "version": 3
   },
   "file_extension": ".py",
   "mimetype": "text/x-python",
   "name": "python",
   "nbconvert_exporter": "python",
   "pygments_lexer": "ipython3",
   "version": "3.8.8"
  }
 },
 "nbformat": 4,
 "nbformat_minor": 5
}
