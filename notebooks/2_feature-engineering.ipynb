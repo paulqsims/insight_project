{
 "cells": [
  {
   "cell_type": "markdown",
   "id": "9e6f3e96",
   "metadata": {},
   "source": [
    "# Feature Engineering"
   ]
  },
  {
   "cell_type": "markdown",
   "id": "863a0d53",
   "metadata": {
    "tags": []
   },
   "source": [
    "## Setup"
   ]
  },
  {
   "cell_type": "markdown",
   "id": "942540b2",
   "metadata": {},
   "source": [
    "### Import modules"
   ]
  },
  {
   "cell_type": "code",
   "execution_count": 3,
   "id": "d5853dfa",
   "metadata": {
    "ExecuteTime": {
     "end_time": "2020-12-16T01:59:10.607912Z",
     "start_time": "2020-12-16T01:59:08.724699Z"
    },
    "execution": {
     "iopub.execute_input": "2021-05-26T18:20:31.553974Z",
     "iopub.status.busy": "2021-05-26T18:20:31.553622Z",
     "iopub.status.idle": "2021-05-26T18:20:33.304320Z",
     "shell.execute_reply": "2021-05-26T18:20:33.303941Z",
     "shell.execute_reply.started": "2021-05-26T18:20:31.553940Z"
    },
    "tags": []
   },
   "outputs": [],
   "source": [
    "# Data manipulation\n",
    "\n",
    "import pandas as pd\n",
    "pd.set_option(\"display.max_rows\", None)\n",
    "pd.set_option(\"display.max_columns\", None)\n",
    "\n",
    "import numpy as np\n",
    "import re\n",
    "import sklearn \n",
    "\n",
    "# NLP\n",
    "\n",
    "import textdistance as td\n",
    "from sklearn.feature_extraction.text import CountVectorizer\n",
    "\n",
    "# Machine learning\n",
    "\n",
    "from sklearn.model_selection import train_test_split\n",
    "from sklearn.decomposition import TruncatedSVD\n",
    "\n",
    "# Plotting\n",
    "\n",
    "import matplotlib.pyplot as plt\n",
    "%matplotlib inline\n",
    "%config InlineBackend.figure_format = 'retina'  \n",
    "import seaborn as sns\n",
    "sns.set_context(\"poster\")\n",
    "sns.set(rc={'figure.figsize': (16, 9.)})\n",
    "sns.set_style(\"whitegrid\")\n",
    "sns.set(font_scale = 1.5)\n",
    "\n",
    "# Miscellaneous\n",
    "\n",
    "import rootpath\n",
    "import glob"
   ]
  },
  {
   "cell_type": "markdown",
   "id": "a200a04e",
   "metadata": {},
   "source": [
    "### Locate files"
   ]
  },
  {
   "cell_type": "code",
   "execution_count": 4,
   "id": "047eae7e",
   "metadata": {
    "execution": {
     "iopub.execute_input": "2021-05-26T18:20:33.306033Z",
     "iopub.status.busy": "2021-05-26T18:20:33.305838Z",
     "iopub.status.idle": "2021-05-26T18:20:33.310261Z",
     "shell.execute_reply": "2021-05-26T18:20:33.309244Z",
     "shell.execute_reply.started": "2021-05-26T18:20:33.306017Z"
    },
    "tags": []
   },
   "outputs": [],
   "source": [
    "# Set root path for project\n",
    "\n",
    "rpath = rootpath.detect()"
   ]
  },
  {
   "cell_type": "markdown",
   "id": "bd52c718",
   "metadata": {},
   "source": [
    "### Compile data"
   ]
  },
  {
   "cell_type": "code",
   "execution_count": 5,
   "id": "d94603e3",
   "metadata": {
    "execution": {
     "iopub.execute_input": "2021-05-26T18:20:33.312332Z",
     "iopub.status.busy": "2021-05-26T18:20:33.312192Z",
     "iopub.status.idle": "2021-05-26T18:20:33.586334Z",
     "shell.execute_reply": "2021-05-26T18:20:33.583757Z",
     "shell.execute_reply.started": "2021-05-26T18:20:33.312319Z"
    },
    "tags": []
   },
   "outputs": [],
   "source": [
    "df_products = pd.read_csv(f\"{rpath}/data/clean/data_clean.csv\", index_col=0)"
   ]
  },
  {
   "cell_type": "code",
   "execution_count": 6,
   "id": "8d90f7c7",
   "metadata": {
    "execution": {
     "iopub.execute_input": "2021-05-26T18:20:33.589079Z",
     "iopub.status.busy": "2021-05-26T18:20:33.588516Z",
     "iopub.status.idle": "2021-05-26T18:20:33.618201Z",
     "shell.execute_reply": "2021-05-26T18:20:33.617522Z",
     "shell.execute_reply.started": "2021-05-26T18:20:33.589055Z"
    },
    "tags": []
   },
   "outputs": [
    {
     "data": {
      "text/html": [
       "<div>\n",
       "<style scoped>\n",
       "    .dataframe tbody tr th:only-of-type {\n",
       "        vertical-align: middle;\n",
       "    }\n",
       "\n",
       "    .dataframe tbody tr th {\n",
       "        vertical-align: top;\n",
       "    }\n",
       "\n",
       "    .dataframe thead th {\n",
       "        text-align: right;\n",
       "    }\n",
       "</style>\n",
       "<table border=\"1\" class=\"dataframe\">\n",
       "  <thead>\n",
       "    <tr style=\"text-align: right;\">\n",
       "      <th></th>\n",
       "      <th>product_type</th>\n",
       "      <th>brand_generic</th>\n",
       "      <th>brand</th>\n",
       "      <th>product</th>\n",
       "      <th>size</th>\n",
       "      <th>price</th>\n",
       "      <th>details</th>\n",
       "      <th>og_ingred</th>\n",
       "      <th>ratings</th>\n",
       "      <th>perc_respondrec</th>\n",
       "      <th>total_reviews</th>\n",
       "      <th>link</th>\n",
       "      <th>page</th>\n",
       "      <th>use_category</th>\n",
       "      <th>ingred_len</th>\n",
       "      <th>ingred_rev</th>\n",
       "    </tr>\n",
       "  </thead>\n",
       "  <tbody>\n",
       "    <tr>\n",
       "      <th>0</th>\n",
       "      <td>face wash</td>\n",
       "      <td>non_generic</td>\n",
       "      <td>Philosophy</td>\n",
       "      <td>The Microdelivery Exfoliating Facial Wash</td>\n",
       "      <td>8.0</td>\n",
       "      <td>29.0</td>\n",
       "      <td>Daily exfoliation is vital to healthy-looking ...</td>\n",
       "      <td>water</td>\n",
       "      <td>4.5</td>\n",
       "      <td>NaN</td>\n",
       "      <td>812.0</td>\n",
       "      <td>https://www.ulta.com/microdelivery-exfoliating...</td>\n",
       "      <td>1.0</td>\n",
       "      <td>cleanser</td>\n",
       "      <td>5</td>\n",
       "      <td>water</td>\n",
       "    </tr>\n",
       "    <tr>\n",
       "      <th>0</th>\n",
       "      <td>face wash</td>\n",
       "      <td>non_generic</td>\n",
       "      <td>Philosophy</td>\n",
       "      <td>The Microdelivery Exfoliating Facial Wash</td>\n",
       "      <td>8.0</td>\n",
       "      <td>29.0</td>\n",
       "      <td>Daily exfoliation is vital to healthy-looking ...</td>\n",
       "      <td>solum diatomeae/diatomaceous earth/terre de di...</td>\n",
       "      <td>4.5</td>\n",
       "      <td>NaN</td>\n",
       "      <td>812.0</td>\n",
       "      <td>https://www.ulta.com/microdelivery-exfoliating...</td>\n",
       "      <td>1.0</td>\n",
       "      <td>cleanser</td>\n",
       "      <td>53</td>\n",
       "      <td>solum diatomeae/diatomaceous earth/terre de di...</td>\n",
       "    </tr>\n",
       "    <tr>\n",
       "      <th>0</th>\n",
       "      <td>face wash</td>\n",
       "      <td>non_generic</td>\n",
       "      <td>Philosophy</td>\n",
       "      <td>The Microdelivery Exfoliating Facial Wash</td>\n",
       "      <td>8.0</td>\n",
       "      <td>29.0</td>\n",
       "      <td>Daily exfoliation is vital to healthy-looking ...</td>\n",
       "      <td>glycerin</td>\n",
       "      <td>4.5</td>\n",
       "      <td>NaN</td>\n",
       "      <td>812.0</td>\n",
       "      <td>https://www.ulta.com/microdelivery-exfoliating...</td>\n",
       "      <td>1.0</td>\n",
       "      <td>cleanser</td>\n",
       "      <td>8</td>\n",
       "      <td>glycerin</td>\n",
       "    </tr>\n",
       "    <tr>\n",
       "      <th>0</th>\n",
       "      <td>face wash</td>\n",
       "      <td>non_generic</td>\n",
       "      <td>Philosophy</td>\n",
       "      <td>The Microdelivery Exfoliating Facial Wash</td>\n",
       "      <td>8.0</td>\n",
       "      <td>29.0</td>\n",
       "      <td>Daily exfoliation is vital to healthy-looking ...</td>\n",
       "      <td>acrylates/steareth-20 methacrylate copolymer</td>\n",
       "      <td>4.5</td>\n",
       "      <td>NaN</td>\n",
       "      <td>812.0</td>\n",
       "      <td>https://www.ulta.com/microdelivery-exfoliating...</td>\n",
       "      <td>1.0</td>\n",
       "      <td>cleanser</td>\n",
       "      <td>44</td>\n",
       "      <td>acrylates/steareth-20 methacrylate copolymer</td>\n",
       "    </tr>\n",
       "    <tr>\n",
       "      <th>0</th>\n",
       "      <td>face wash</td>\n",
       "      <td>non_generic</td>\n",
       "      <td>Philosophy</td>\n",
       "      <td>The Microdelivery Exfoliating Facial Wash</td>\n",
       "      <td>8.0</td>\n",
       "      <td>29.0</td>\n",
       "      <td>Daily exfoliation is vital to healthy-looking ...</td>\n",
       "      <td>acrylates copolymer</td>\n",
       "      <td>4.5</td>\n",
       "      <td>NaN</td>\n",
       "      <td>812.0</td>\n",
       "      <td>https://www.ulta.com/microdelivery-exfoliating...</td>\n",
       "      <td>1.0</td>\n",
       "      <td>cleanser</td>\n",
       "      <td>19</td>\n",
       "      <td>acrylates copolymer</td>\n",
       "    </tr>\n",
       "  </tbody>\n",
       "</table>\n",
       "</div>"
      ],
      "text/plain": [
       "  product_type brand_generic       brand  \\\n",
       "0    face wash   non_generic  Philosophy   \n",
       "0    face wash   non_generic  Philosophy   \n",
       "0    face wash   non_generic  Philosophy   \n",
       "0    face wash   non_generic  Philosophy   \n",
       "0    face wash   non_generic  Philosophy   \n",
       "\n",
       "                                     product  size  price  \\\n",
       "0  The Microdelivery Exfoliating Facial Wash   8.0   29.0   \n",
       "0  The Microdelivery Exfoliating Facial Wash   8.0   29.0   \n",
       "0  The Microdelivery Exfoliating Facial Wash   8.0   29.0   \n",
       "0  The Microdelivery Exfoliating Facial Wash   8.0   29.0   \n",
       "0  The Microdelivery Exfoliating Facial Wash   8.0   29.0   \n",
       "\n",
       "                                             details  \\\n",
       "0  Daily exfoliation is vital to healthy-looking ...   \n",
       "0  Daily exfoliation is vital to healthy-looking ...   \n",
       "0  Daily exfoliation is vital to healthy-looking ...   \n",
       "0  Daily exfoliation is vital to healthy-looking ...   \n",
       "0  Daily exfoliation is vital to healthy-looking ...   \n",
       "\n",
       "                                           og_ingred  ratings perc_respondrec  \\\n",
       "0                                              water      4.5             NaN   \n",
       "0  solum diatomeae/diatomaceous earth/terre de di...      4.5             NaN   \n",
       "0                                           glycerin      4.5             NaN   \n",
       "0       acrylates/steareth-20 methacrylate copolymer      4.5             NaN   \n",
       "0                                acrylates copolymer      4.5             NaN   \n",
       "\n",
       "   total_reviews                                               link  page  \\\n",
       "0          812.0  https://www.ulta.com/microdelivery-exfoliating...   1.0   \n",
       "0          812.0  https://www.ulta.com/microdelivery-exfoliating...   1.0   \n",
       "0          812.0  https://www.ulta.com/microdelivery-exfoliating...   1.0   \n",
       "0          812.0  https://www.ulta.com/microdelivery-exfoliating...   1.0   \n",
       "0          812.0  https://www.ulta.com/microdelivery-exfoliating...   1.0   \n",
       "\n",
       "  use_category  ingred_len                                         ingred_rev  \n",
       "0     cleanser           5                                              water  \n",
       "0     cleanser          53  solum diatomeae/diatomaceous earth/terre de di...  \n",
       "0     cleanser           8                                           glycerin  \n",
       "0     cleanser          44       acrylates/steareth-20 methacrylate copolymer  \n",
       "0     cleanser          19                                acrylates copolymer  "
      ]
     },
     "execution_count": 6,
     "metadata": {},
     "output_type": "execute_result"
    }
   ],
   "source": [
    "df_products.head()"
   ]
  },
  {
   "cell_type": "code",
   "execution_count": 7,
   "id": "5ccd6c39",
   "metadata": {
    "execution": {
     "iopub.execute_input": "2021-05-26T18:20:33.619805Z",
     "iopub.status.busy": "2021-05-26T18:20:33.619569Z",
     "iopub.status.idle": "2021-05-26T18:20:33.627149Z",
     "shell.execute_reply": "2021-05-26T18:20:33.626686Z",
     "shell.execute_reply.started": "2021-05-26T18:20:33.619788Z"
    }
   },
   "outputs": [
    {
     "data": {
      "text/plain": [
       "array(['face wash', 'face moisturizer', 'toner', 'face serum',\n",
       "       'toothpaste'], dtype=object)"
      ]
     },
     "execution_count": 7,
     "metadata": {},
     "output_type": "execute_result"
    }
   ],
   "source": [
    "df_products.product_type.unique()"
   ]
  },
  {
   "cell_type": "code",
   "execution_count": 8,
   "id": "d500fffb",
   "metadata": {
    "execution": {
     "iopub.execute_input": "2021-05-26T18:20:33.628168Z",
     "iopub.status.busy": "2021-05-26T18:20:33.628055Z",
     "iopub.status.idle": "2021-05-26T18:20:33.632441Z",
     "shell.execute_reply": "2021-05-26T18:20:33.632007Z",
     "shell.execute_reply.started": "2021-05-26T18:20:33.628154Z"
    },
    "tags": []
   },
   "outputs": [
    {
     "data": {
      "text/plain": [
       "array(['non_generic', 'Aveeno_generic', 'CC_generic', 'StIves_generic',\n",
       "       'BB_generic', 'Cetaphil_cream_generic',\n",
       "       'Cetaphil_cleanser_generic'], dtype=object)"
      ]
     },
     "execution_count": 8,
     "metadata": {},
     "output_type": "execute_result"
    }
   ],
   "source": [
    "df_products.brand_generic.unique()"
   ]
  },
  {
   "cell_type": "code",
   "execution_count": 9,
   "id": "d71c8aa4",
   "metadata": {
    "execution": {
     "iopub.execute_input": "2021-05-26T18:20:33.633230Z",
     "iopub.status.busy": "2021-05-26T18:20:33.633125Z",
     "iopub.status.idle": "2021-05-26T18:20:33.652284Z",
     "shell.execute_reply": "2021-05-26T18:20:33.651612Z",
     "shell.execute_reply.started": "2021-05-26T18:20:33.633217Z"
    },
    "tags": []
   },
   "outputs": [
    {
     "name": "stdout",
     "output_type": "stream",
     "text": [
      "<class 'pandas.core.frame.DataFrame'>\n",
      "Int64Index: 22587 entries, 0 to 20\n",
      "Data columns (total 16 columns):\n",
      " #   Column           Non-Null Count  Dtype  \n",
      "---  ------           --------------  -----  \n",
      " 0   product_type     22587 non-null  object \n",
      " 1   brand_generic    22587 non-null  object \n",
      " 2   brand            22587 non-null  object \n",
      " 3   product          22587 non-null  object \n",
      " 4   size             22227 non-null  float64\n",
      " 5   price            22227 non-null  float64\n",
      " 6   details          22520 non-null  object \n",
      " 7   og_ingred        22587 non-null  object \n",
      " 8   ratings          20080 non-null  float64\n",
      " 9   perc_respondrec  7936 non-null   object \n",
      " 10  total_reviews    20309 non-null  float64\n",
      " 11  link             22587 non-null  object \n",
      " 12  page             22520 non-null  float64\n",
      " 13  use_category     22520 non-null  object \n",
      " 14  ingred_len       22587 non-null  int64  \n",
      " 15  ingred_rev       22587 non-null  object \n",
      "dtypes: float64(5), int64(1), object(10)\n",
      "memory usage: 2.9+ MB\n"
     ]
    }
   ],
   "source": [
    "df_products.info()"
   ]
  },
  {
   "cell_type": "markdown",
   "id": "838187c5",
   "metadata": {},
   "source": [
    "## Train test split\n",
    "- Need to do a grouped split in order to preserve ingredient associations with each product since each row of df is an ingredient \n",
    "- Need a stratified split to ensure equal proportion of product types in train and test sets\n",
    "- Have to aggregate df ingredients by product into lists before split to avoid ingredients associated with a product being split between training and test set (data leakage) since the same product could be in both data sets"
   ]
  },
  {
   "cell_type": "markdown",
   "id": "b578bdf7",
   "metadata": {},
   "source": [
    "**Aggregate data for train test split**"
   ]
  },
  {
   "cell_type": "code",
   "execution_count": 10,
   "id": "3b3e1d3a",
   "metadata": {
    "execution": {
     "iopub.execute_input": "2021-05-26T18:20:41.198899Z",
     "iopub.status.busy": "2021-05-26T18:20:41.198561Z",
     "iopub.status.idle": "2021-05-26T18:20:41.239800Z",
     "shell.execute_reply": "2021-05-26T18:20:41.238822Z",
     "shell.execute_reply.started": "2021-05-26T18:20:41.198867Z"
    },
    "tags": []
   },
   "outputs": [],
   "source": [
    "# Aggregate ingredients into lists by product\n",
    "\n",
    "df_prod_agg = (\n",
    "    df_products.groupby('product', as_index=False).agg({'ingred_rev':lambda x: list(x)})\n",
    ")"
   ]
  },
  {
   "cell_type": "code",
   "execution_count": 11,
   "id": "9aee136d",
   "metadata": {
    "execution": {
     "iopub.execute_input": "2021-05-26T18:20:41.241402Z",
     "iopub.status.busy": "2021-05-26T18:20:41.241198Z",
     "iopub.status.idle": "2021-05-26T18:20:41.244358Z",
     "shell.execute_reply": "2021-05-26T18:20:41.243973Z",
     "shell.execute_reply.started": "2021-05-26T18:20:41.241380Z"
    },
    "tags": []
   },
   "outputs": [
    {
     "data": {
      "text/plain": [
       "(969, 2)"
      ]
     },
     "execution_count": 11,
     "metadata": {},
     "output_type": "execute_result"
    }
   ],
   "source": [
    "df_prod_agg.shape"
   ]
  },
  {
   "cell_type": "code",
   "execution_count": 12,
   "id": "42f63495",
   "metadata": {
    "execution": {
     "iopub.execute_input": "2021-05-26T18:20:41.247119Z",
     "iopub.status.busy": "2021-05-26T18:20:41.246930Z",
     "iopub.status.idle": "2021-05-26T18:20:41.254076Z",
     "shell.execute_reply": "2021-05-26T18:20:41.253700Z",
     "shell.execute_reply.started": "2021-05-26T18:20:41.247102Z"
    },
    "tags": []
   },
   "outputs": [
    {
     "name": "stdout",
     "output_type": "stream",
     "text": [
      "<class 'pandas.core.frame.DataFrame'>\n",
      "Int64Index: 969 entries, 0 to 968\n",
      "Data columns (total 2 columns):\n",
      " #   Column      Non-Null Count  Dtype \n",
      "---  ------      --------------  ----- \n",
      " 0   product     969 non-null    object\n",
      " 1   ingred_rev  969 non-null    object\n",
      "dtypes: object(2)\n",
      "memory usage: 22.7+ KB\n"
     ]
    }
   ],
   "source": [
    "df_prod_agg.info()"
   ]
  },
  {
   "cell_type": "code",
   "execution_count": 13,
   "id": "e6450874",
   "metadata": {
    "execution": {
     "iopub.execute_input": "2021-05-26T18:20:41.255585Z",
     "iopub.status.busy": "2021-05-26T18:20:41.255335Z",
     "iopub.status.idle": "2021-05-26T18:20:41.294229Z",
     "shell.execute_reply": "2021-05-26T18:20:41.293890Z",
     "shell.execute_reply.started": "2021-05-26T18:20:41.255551Z"
    },
    "tags": []
   },
   "outputs": [],
   "source": [
    "# Merge original df on aggregated dataframe to get rest of product information\n",
    "# Remove product duplicates\n",
    "\n",
    "df_prod_agg = df_prod_agg.merge(\n",
    "    df_products.drop('ingred_rev', axis=1), on='product', how='left'\n",
    "    ) \\\n",
    "    .drop_duplicates(subset=['product'], ignore_index=True) "
   ]
  },
  {
   "cell_type": "code",
   "execution_count": 14,
   "id": "40caaefd",
   "metadata": {
    "execution": {
     "iopub.execute_input": "2021-05-26T18:20:41.294953Z",
     "iopub.status.busy": "2021-05-26T18:20:41.294849Z",
     "iopub.status.idle": "2021-05-26T18:20:41.298975Z",
     "shell.execute_reply": "2021-05-26T18:20:41.298568Z",
     "shell.execute_reply.started": "2021-05-26T18:20:41.294940Z"
    },
    "tags": []
   },
   "outputs": [
    {
     "data": {
      "text/plain": [
       "(969, 16)"
      ]
     },
     "execution_count": 14,
     "metadata": {},
     "output_type": "execute_result"
    }
   ],
   "source": [
    "df_prod_agg.shape"
   ]
  },
  {
   "cell_type": "code",
   "execution_count": 15,
   "id": "3363114c",
   "metadata": {
    "execution": {
     "iopub.execute_input": "2021-05-26T18:20:41.300171Z",
     "iopub.status.busy": "2021-05-26T18:20:41.299946Z",
     "iopub.status.idle": "2021-05-26T18:20:41.313994Z",
     "shell.execute_reply": "2021-05-26T18:20:41.313642Z",
     "shell.execute_reply.started": "2021-05-26T18:20:41.300155Z"
    },
    "tags": []
   },
   "outputs": [
    {
     "data": {
      "text/html": [
       "<div>\n",
       "<style scoped>\n",
       "    .dataframe tbody tr th:only-of-type {\n",
       "        vertical-align: middle;\n",
       "    }\n",
       "\n",
       "    .dataframe tbody tr th {\n",
       "        vertical-align: top;\n",
       "    }\n",
       "\n",
       "    .dataframe thead th {\n",
       "        text-align: right;\n",
       "    }\n",
       "</style>\n",
       "<table border=\"1\" class=\"dataframe\">\n",
       "  <thead>\n",
       "    <tr style=\"text-align: right;\">\n",
       "      <th></th>\n",
       "      <th>product</th>\n",
       "      <th>ingred_rev</th>\n",
       "      <th>product_type</th>\n",
       "      <th>brand_generic</th>\n",
       "      <th>brand</th>\n",
       "      <th>size</th>\n",
       "      <th>price</th>\n",
       "      <th>details</th>\n",
       "      <th>og_ingred</th>\n",
       "      <th>ratings</th>\n",
       "      <th>perc_respondrec</th>\n",
       "      <th>total_reviews</th>\n",
       "      <th>link</th>\n",
       "      <th>page</th>\n",
       "      <th>use_category</th>\n",
       "      <th>ingred_len</th>\n",
       "    </tr>\n",
       "  </thead>\n",
       "  <tbody>\n",
       "    <tr>\n",
       "      <th>0</th>\n",
       "      <td>''Buffet''</td>\n",
       "      <td>[water, glycerin, lactococcus ferment lysate, ...</td>\n",
       "      <td>face serum</td>\n",
       "      <td>non_generic</td>\n",
       "      <td>The Ordinary</td>\n",
       "      <td>1.0</td>\n",
       "      <td>14.8</td>\n",
       "      <td>''Buffet'' from The Ordinary combines a compre...</td>\n",
       "      <td>water</td>\n",
       "      <td>4.4</td>\n",
       "      <td>NaN</td>\n",
       "      <td>333.0</td>\n",
       "      <td>https://www.ulta.com/buffet?productId=pimprod2...</td>\n",
       "      <td>1.0</td>\n",
       "      <td>treatments and serums</td>\n",
       "      <td>5</td>\n",
       "    </tr>\n",
       "    <tr>\n",
       "      <th>1</th>\n",
       "      <td>''Buffet'' + Copper Peptides 1%</td>\n",
       "      <td>[water, glycerin, lactococcus ferment lysate, ...</td>\n",
       "      <td>face serum</td>\n",
       "      <td>non_generic</td>\n",
       "      <td>The Ordinary</td>\n",
       "      <td>1.0</td>\n",
       "      <td>28.9</td>\n",
       "      <td>''Buffet'' + Copper Peptides 1% from The Ordin...</td>\n",
       "      <td>water</td>\n",
       "      <td>4.3</td>\n",
       "      <td>NaN</td>\n",
       "      <td>52.0</td>\n",
       "      <td>https://www.ulta.com/buffet-copper-peptides-1?...</td>\n",
       "      <td>1.0</td>\n",
       "      <td>treatments and serums</td>\n",
       "      <td>5</td>\n",
       "    </tr>\n",
       "    <tr>\n",
       "      <th>2</th>\n",
       "      <td>+Retinol Vita C Power Serum Firming + Brighten...</td>\n",
       "      <td>[retinol, water, dimethicone, propanediol, pol...</td>\n",
       "      <td>face serum</td>\n",
       "      <td>non_generic</td>\n",
       "      <td>Kate Somerville</td>\n",
       "      <td>1.0</td>\n",
       "      <td>98.0</td>\n",
       "      <td>Uniquely formulated with the gold standards in...</td>\n",
       "      <td>retinol</td>\n",
       "      <td>4.3</td>\n",
       "      <td>NaN</td>\n",
       "      <td>47.0</td>\n",
       "      <td>https://www.ulta.com/retinol-vita-c-power-seru...</td>\n",
       "      <td>1.0</td>\n",
       "      <td>treatments and serums</td>\n",
       "      <td>7</td>\n",
       "    </tr>\n",
       "    <tr>\n",
       "      <th>3</th>\n",
       "      <td>+Retinol Vitamin C Moisturizer</td>\n",
       "      <td>[water, neopentyl glycol dicaprylate/dicaprate...</td>\n",
       "      <td>face moisturizer</td>\n",
       "      <td>non_generic</td>\n",
       "      <td>Kate Somerville</td>\n",
       "      <td>1.7</td>\n",
       "      <td>90.0</td>\n",
       "      <td>Packed with anti-aging powerhouses Retinol and...</td>\n",
       "      <td>water</td>\n",
       "      <td>3.7</td>\n",
       "      <td>NaN</td>\n",
       "      <td>10.0</td>\n",
       "      <td>https://www.ulta.com/retinol-vitamin-c-moistur...</td>\n",
       "      <td>2.0</td>\n",
       "      <td>moisturizer</td>\n",
       "      <td>5</td>\n",
       "    </tr>\n",
       "    <tr>\n",
       "      <th>4</th>\n",
       "      <td>100% Plant-Derived Squalane</td>\n",
       "      <td>[ecocert approved]</td>\n",
       "      <td>face serum</td>\n",
       "      <td>non_generic</td>\n",
       "      <td>The Ordinary</td>\n",
       "      <td>1.0</td>\n",
       "      <td>7.9</td>\n",
       "      <td>100% Plant-Derived Squalane from The Ordinary ...</td>\n",
       "      <td>ecocert approved</td>\n",
       "      <td>4.5</td>\n",
       "      <td>NaN</td>\n",
       "      <td>192.0</td>\n",
       "      <td>https://www.ulta.com/100-plant-derived-squalan...</td>\n",
       "      <td>1.0</td>\n",
       "      <td>treatments and serums</td>\n",
       "      <td>16</td>\n",
       "    </tr>\n",
       "  </tbody>\n",
       "</table>\n",
       "</div>"
      ],
      "text/plain": [
       "                                             product  \\\n",
       "0                                         ''Buffet''   \n",
       "1                    ''Buffet'' + Copper Peptides 1%   \n",
       "2  +Retinol Vita C Power Serum Firming + Brighten...   \n",
       "3                     +Retinol Vitamin C Moisturizer   \n",
       "4                        100% Plant-Derived Squalane   \n",
       "\n",
       "                                          ingred_rev      product_type  \\\n",
       "0  [water, glycerin, lactococcus ferment lysate, ...        face serum   \n",
       "1  [water, glycerin, lactococcus ferment lysate, ...        face serum   \n",
       "2  [retinol, water, dimethicone, propanediol, pol...        face serum   \n",
       "3  [water, neopentyl glycol dicaprylate/dicaprate...  face moisturizer   \n",
       "4                                 [ecocert approved]        face serum   \n",
       "\n",
       "  brand_generic            brand  size  price  \\\n",
       "0   non_generic     The Ordinary   1.0   14.8   \n",
       "1   non_generic     The Ordinary   1.0   28.9   \n",
       "2   non_generic  Kate Somerville   1.0   98.0   \n",
       "3   non_generic  Kate Somerville   1.7   90.0   \n",
       "4   non_generic     The Ordinary   1.0    7.9   \n",
       "\n",
       "                                             details         og_ingred  \\\n",
       "0  ''Buffet'' from The Ordinary combines a compre...             water   \n",
       "1  ''Buffet'' + Copper Peptides 1% from The Ordin...             water   \n",
       "2  Uniquely formulated with the gold standards in...           retinol   \n",
       "3  Packed with anti-aging powerhouses Retinol and...             water   \n",
       "4  100% Plant-Derived Squalane from The Ordinary ...  ecocert approved   \n",
       "\n",
       "   ratings perc_respondrec  total_reviews  \\\n",
       "0      4.4             NaN          333.0   \n",
       "1      4.3             NaN           52.0   \n",
       "2      4.3             NaN           47.0   \n",
       "3      3.7             NaN           10.0   \n",
       "4      4.5             NaN          192.0   \n",
       "\n",
       "                                                link  page  \\\n",
       "0  https://www.ulta.com/buffet?productId=pimprod2...   1.0   \n",
       "1  https://www.ulta.com/buffet-copper-peptides-1?...   1.0   \n",
       "2  https://www.ulta.com/retinol-vita-c-power-seru...   1.0   \n",
       "3  https://www.ulta.com/retinol-vitamin-c-moistur...   2.0   \n",
       "4  https://www.ulta.com/100-plant-derived-squalan...   1.0   \n",
       "\n",
       "            use_category  ingred_len  \n",
       "0  treatments and serums           5  \n",
       "1  treatments and serums           5  \n",
       "2  treatments and serums           7  \n",
       "3            moisturizer           5  \n",
       "4  treatments and serums          16  "
      ]
     },
     "execution_count": 15,
     "metadata": {},
     "output_type": "execute_result"
    }
   ],
   "source": [
    "df_prod_agg.head()"
   ]
  },
  {
   "cell_type": "markdown",
   "id": "d3db6ac8",
   "metadata": {},
   "source": [
    "**Check class imbalance in product type and ground truth labels**"
   ]
  },
  {
   "cell_type": "code",
   "execution_count": 16,
   "id": "90a0daf4",
   "metadata": {
    "execution": {
     "iopub.execute_input": "2021-05-26T18:20:41.315198Z",
     "iopub.status.busy": "2021-05-26T18:20:41.315042Z",
     "iopub.status.idle": "2021-05-26T18:20:41.503891Z",
     "shell.execute_reply": "2021-05-26T18:20:41.502469Z",
     "shell.execute_reply.started": "2021-05-26T18:20:41.315181Z"
    },
    "tags": []
   },
   "outputs": [
    {
     "data": {
      "text/plain": [
       "<AxesSubplot:title={'center':'Relative class frequencies for product types'}>"
      ]
     },
     "execution_count": 16,
     "metadata": {},
     "output_type": "execute_result"
    },
    {
     "data": {
      "image/png": "[encoded data removed]",
      "text/plain": [
       "<Figure size 1152x648 with 1 Axes>"
      ]
     },
     "metadata": {
      "image/png": {
       "height": 522,
       "width": 595
      }
     },
     "output_type": "display_data"
    }
   ],
   "source": [
    "df_prod_agg['product_type'] \\\n",
    "            .value_counts() \\\n",
    "            .plot.pie(autopct='%1.1f%%',\n",
    "                      title='Relative class frequencies for product types',\n",
    "                      ylabel='')"
   ]
  },
  {
   "cell_type": "markdown",
   "id": "7568a70f",
   "metadata": {},
   "source": [
    "- Some imbalance, particularly in face serum and toner relative to face wash and face moisturizer and the toothpaste control"
   ]
  },
  {
   "cell_type": "code",
   "execution_count": 17,
   "id": "f4dd8883",
   "metadata": {
    "execution": {
     "iopub.execute_input": "2021-05-26T18:20:51.856220Z",
     "iopub.status.busy": "2021-05-26T18:20:51.855720Z",
     "iopub.status.idle": "2021-05-26T18:20:52.027826Z",
     "shell.execute_reply": "2021-05-26T18:20:52.026850Z",
     "shell.execute_reply.started": "2021-05-26T18:20:51.856176Z"
    },
    "tags": []
   },
   "outputs": [
    {
     "data": {
      "text/plain": [
       "<AxesSubplot:title={'center':'Relative class frequencies for ground truth labels'}>"
      ]
     },
     "execution_count": 17,
     "metadata": {},
     "output_type": "execute_result"
    },
    {
     "data": {
      "image/png": "[encoded data removed]",
      "text/plain": [
       "<Figure size 1152x648 with 1 Axes>"
      ]
     },
     "metadata": {
      "image/png": {
       "height": 522,
       "width": 730
      }
     },
     "output_type": "display_data"
    }
   ],
   "source": [
    "df_prod_agg['brand_generic'] \\\n",
    "            .value_counts() \\\n",
    "            .plot \\\n",
    "            .pie(autopct='%1.1f%%',\n",
    "                 title='Relative class frequencies for ground truth labels',\n",
    "                 ylabel='')"
   ]
  },
  {
   "cell_type": "markdown",
   "id": "b2e59d1f",
   "metadata": {},
   "source": [
    "**Pivot df from long to wide for ingredients as columns**"
   ]
  },
  {
   "cell_type": "code",
   "execution_count": 18,
   "id": "10a75704",
   "metadata": {
    "execution": {
     "iopub.execute_input": "2021-05-26T18:20:52.029659Z",
     "iopub.status.busy": "2021-05-26T18:20:52.029499Z",
     "iopub.status.idle": "2021-05-26T18:20:52.063391Z",
     "shell.execute_reply": "2021-05-26T18:20:52.062806Z",
     "shell.execute_reply.started": "2021-05-26T18:20:52.029644Z"
    },
    "tags": []
   },
   "outputs": [],
   "source": [
    "# Expand ingredient lists per product to a \n",
    "# row for each ingredient with repeated rows\n",
    "# for each product\n",
    "\n",
    "df_ingred = df_prod_agg.explode('ingred_rev')"
   ]
  },
  {
   "cell_type": "markdown",
   "id": "b7657398",
   "metadata": {},
   "source": [
    "**Convert long df to wide with ingredients as the columns**"
   ]
  },
  {
   "cell_type": "code",
   "execution_count": 19,
   "id": "f5039926",
   "metadata": {
    "execution": {
     "iopub.execute_input": "2021-05-26T18:20:52.065649Z",
     "iopub.status.busy": "2021-05-26T18:20:52.065478Z",
     "iopub.status.idle": "2021-05-26T18:20:52.070009Z",
     "shell.execute_reply": "2021-05-26T18:20:52.069098Z",
     "shell.execute_reply.started": "2021-05-26T18:20:52.065634Z"
    },
    "tags": []
   },
   "outputs": [],
   "source": [
    "# Create a column of 1's for the values to indicate presence of an ingredient\n",
    "\n",
    "df_ingred['fill_value'] = 1"
   ]
  },
  {
   "cell_type": "code",
   "execution_count": 20,
   "id": "995887bf",
   "metadata": {
    "execution": {
     "iopub.execute_input": "2021-05-26T18:20:52.071163Z",
     "iopub.status.busy": "2021-05-26T18:20:52.071048Z",
     "iopub.status.idle": "2021-05-26T18:20:52.073507Z",
     "shell.execute_reply": "2021-05-26T18:20:52.073066Z",
     "shell.execute_reply.started": "2021-05-26T18:20:52.071149Z"
    },
    "tags": []
   },
   "outputs": [],
   "source": [
    "pivot_indices = (\n",
    "   ['product','use_category','product_type','brand_generic',\n",
    "    'brand','size','price','ratings','total_reviews',\n",
    "    'link']\n",
    ")"
   ]
  },
  {
   "cell_type": "code",
   "execution_count": 21,
   "id": "58ac4b9f",
   "metadata": {
    "execution": {
     "iopub.execute_input": "2021-05-26T18:20:52.074421Z",
     "iopub.status.busy": "2021-05-26T18:20:52.074315Z",
     "iopub.status.idle": "2021-05-26T18:20:52.105031Z",
     "shell.execute_reply": "2021-05-26T18:20:52.104636Z",
     "shell.execute_reply.started": "2021-05-26T18:20:52.074408Z"
    }
   },
   "outputs": [],
   "source": [
    "# Fill NAs with \"blank\" text\n",
    "# Can't do dropna=False b/c of a memory issue\n",
    "# NaNs in some of the non-relevant columns of the brand_generics\n",
    "# So those get dropped from pivoting if NaNs aren't replaced\n",
    "\n",
    "df_ingred = df_ingred.fillna(\"blank\")"
   ]
  },
  {
   "cell_type": "code",
   "execution_count": 22,
   "id": "8363a21f",
   "metadata": {
    "execution": {
     "iopub.execute_input": "2021-05-26T18:20:52.105851Z",
     "iopub.status.busy": "2021-05-26T18:20:52.105729Z",
     "iopub.status.idle": "2021-05-26T18:20:52.441542Z",
     "shell.execute_reply": "2021-05-26T18:20:52.440924Z",
     "shell.execute_reply.started": "2021-05-26T18:20:52.105836Z"
    },
    "tags": []
   },
   "outputs": [],
   "source": [
    "# Pivot table from long to wide \n",
    "\n",
    "ingred_counts = pd.pivot_table(df_ingred, values='fill_value',\n",
    "                                 index=pivot_indices, \n",
    "                                 columns='ingred_rev',\n",
    "                                 fill_value=0,\n",
    "                                 aggfunc=np.sum,\n",
    "                                 dropna=True) \\\n",
    "                  .reset_index()       "
   ]
  },
  {
   "cell_type": "code",
   "execution_count": 23,
   "id": "2ee87bff",
   "metadata": {
    "execution": {
     "iopub.execute_input": "2021-05-26T18:20:52.442447Z",
     "iopub.status.busy": "2021-05-26T18:20:52.442320Z",
     "iopub.status.idle": "2021-05-26T18:20:52.445085Z",
     "shell.execute_reply": "2021-05-26T18:20:52.444572Z",
     "shell.execute_reply.started": "2021-05-26T18:20:52.442432Z"
    },
    "tags": []
   },
   "outputs": [],
   "source": [
    "# Rename column name index to none\n",
    "\n",
    "ingred_counts.columns.names = [None]"
   ]
  },
  {
   "cell_type": "markdown",
   "id": "568fca6a",
   "metadata": {},
   "source": [
    "**Split training and test sets using stratification for class imbalance**"
   ]
  },
  {
   "cell_type": "code",
   "execution_count": 24,
   "id": "2766e958",
   "metadata": {
    "execution": {
     "iopub.execute_input": "2021-05-26T18:21:02.844024Z",
     "iopub.status.busy": "2021-05-26T18:21:02.843708Z",
     "iopub.status.idle": "2021-05-26T18:21:02.851343Z",
     "shell.execute_reply": "2021-05-26T18:21:02.850229Z",
     "shell.execute_reply.started": "2021-05-26T18:21:02.843992Z"
    },
    "tags": []
   },
   "outputs": [],
   "source": [
    "# Function to return training and test set splits \n",
    "\n",
    "def get_train_test(target, df, test_size=0.2):\n",
    "    '''\n",
    "    Purpose: Return train and test set splits based on the target variable and\n",
    "    data frame. Since the target is categorical in this case, splits are\n",
    "    stratified. \n",
    "    \n",
    "    target: the string name of the dataframe column with the target variable\n",
    "    df: a pandas dataframe holding the features\n",
    "    '''\n",
    "    X = df.drop(target, axis=1)\n",
    "    y = df[target]\n",
    "    X_train, X_test, y_train, y_test = (\n",
    "        train_test_split(\n",
    "            X, y, test_size=test_size, random_state=42, stratify=y\n",
    "        )\n",
    "    )\n",
    "    return X_train, X_test, y_train, y_test"
   ]
  },
  {
   "cell_type": "code",
   "execution_count": 25,
   "id": "d1ccb59d",
   "metadata": {
    "execution": {
     "iopub.execute_input": "2021-05-26T18:21:15.906362Z",
     "iopub.status.busy": "2021-05-26T18:21:15.905881Z",
     "iopub.status.idle": "2021-05-26T18:21:15.932052Z",
     "shell.execute_reply": "2021-05-26T18:21:15.931564Z",
     "shell.execute_reply.started": "2021-05-26T18:21:15.906322Z"
    },
    "tags": []
   },
   "outputs": [],
   "source": [
    "# Split into train and test for prod type\n",
    "\n",
    "X_train_prodtype, X_test_prodtype, y_train_prodtype, y_test_prodtype = (\n",
    "    get_train_test('product_type', ingred_counts)\n",
    ")"
   ]
  },
  {
   "cell_type": "code",
   "execution_count": 26,
   "id": "e179b54d",
   "metadata": {
    "execution": {
     "iopub.execute_input": "2021-05-26T18:21:15.933187Z",
     "iopub.status.busy": "2021-05-26T18:21:15.933057Z",
     "iopub.status.idle": "2021-05-26T18:21:15.938675Z",
     "shell.execute_reply": "2021-05-26T18:21:15.937512Z",
     "shell.execute_reply.started": "2021-05-26T18:21:15.933173Z"
    },
    "tags": []
   },
   "outputs": [
    {
     "name": "stdout",
     "output_type": "stream",
     "text": [
      "Training set relative class frequencies\n"
     ]
    },
    {
     "data": {
      "text/plain": [
       "face moisturizer    0.357419\n",
       "face wash           0.304516\n",
       "face serum          0.238710\n",
       "toner               0.092903\n",
       "toothpaste          0.006452\n",
       "Name: product_type, dtype: float64"
      ]
     },
     "execution_count": 26,
     "metadata": {},
     "output_type": "execute_result"
    }
   ],
   "source": [
    "# Check class proportions are equal in train and test set\n",
    "\n",
    "print('Training set relative class frequencies')\n",
    "y_train_prodtype.value_counts()/len(y_train_prodtype)"
   ]
  },
  {
   "cell_type": "code",
   "execution_count": 27,
   "id": "0252d8bf",
   "metadata": {
    "execution": {
     "iopub.execute_input": "2021-05-26T18:21:15.940596Z",
     "iopub.status.busy": "2021-05-26T18:21:15.940464Z",
     "iopub.status.idle": "2021-05-26T18:21:15.945376Z",
     "shell.execute_reply": "2021-05-26T18:21:15.944859Z",
     "shell.execute_reply.started": "2021-05-26T18:21:15.940582Z"
    },
    "tags": []
   },
   "outputs": [
    {
     "name": "stdout",
     "output_type": "stream",
     "text": [
      "Test set relative class frequencies\n"
     ]
    },
    {
     "data": {
      "text/plain": [
       "face moisturizer    0.360825\n",
       "face wash           0.304124\n",
       "face serum          0.237113\n",
       "toner               0.092784\n",
       "toothpaste          0.005155\n",
       "Name: product_type, dtype: float64"
      ]
     },
     "execution_count": 27,
     "metadata": {},
     "output_type": "execute_result"
    }
   ],
   "source": [
    "print('Test set relative class frequencies')\n",
    "y_test_prodtype.value_counts()/len(y_test_prodtype)"
   ]
  },
  {
   "cell_type": "code",
   "execution_count": 28,
   "id": "d88e78b3",
   "metadata": {
    "execution": {
     "iopub.execute_input": "2021-05-26T18:21:15.946616Z",
     "iopub.status.busy": "2021-05-26T18:21:15.946497Z",
     "iopub.status.idle": "2021-05-26T18:21:15.959782Z",
     "shell.execute_reply": "2021-05-26T18:21:15.958872Z",
     "shell.execute_reply.started": "2021-05-26T18:21:15.946603Z"
    },
    "tags": []
   },
   "outputs": [],
   "source": [
    "# Split into train and test for generic labels\n",
    "# Note test size is 0.5 because there are so few instances of each class!\n",
    "# Otherwise, for smaller test sizes, we don't get one of each class\n",
    "# instance in both the training and the test sets\n",
    "\n",
    "X_train_brandgen, X_test_brandgen, y_train_brandgen, y_test_brandgen = (\n",
    "    get_train_test('brand_generic', ingred_counts, test_size=0.5)\n",
    ")"
   ]
  },
  {
   "cell_type": "code",
   "execution_count": 29,
   "id": "219fd6fc",
   "metadata": {
    "execution": {
     "iopub.execute_input": "2021-05-26T18:21:15.962196Z",
     "iopub.status.busy": "2021-05-26T18:21:15.962021Z",
     "iopub.status.idle": "2021-05-26T18:21:15.966170Z",
     "shell.execute_reply": "2021-05-26T18:21:15.965818Z",
     "shell.execute_reply.started": "2021-05-26T18:21:15.962181Z"
    },
    "tags": []
   },
   "outputs": [
    {
     "data": {
      "text/plain": [
       "(484, 1642)"
      ]
     },
     "execution_count": 29,
     "metadata": {},
     "output_type": "execute_result"
    }
   ],
   "source": [
    "X_train_brandgen.shape"
   ]
  },
  {
   "cell_type": "code",
   "execution_count": 30,
   "id": "441b1cb4",
   "metadata": {
    "execution": {
     "iopub.execute_input": "2021-05-26T18:21:15.967024Z",
     "iopub.status.busy": "2021-05-26T18:21:15.966844Z",
     "iopub.status.idle": "2021-05-26T18:21:15.972131Z",
     "shell.execute_reply": "2021-05-26T18:21:15.971048Z",
     "shell.execute_reply.started": "2021-05-26T18:21:15.967008Z"
    },
    "tags": []
   },
   "outputs": [
    {
     "data": {
      "text/plain": [
       "(485, 1642)"
      ]
     },
     "execution_count": 30,
     "metadata": {},
     "output_type": "execute_result"
    }
   ],
   "source": [
    "X_test_brandgen.shape"
   ]
  },
  {
   "cell_type": "code",
   "execution_count": 31,
   "id": "4f0411b7",
   "metadata": {
    "execution": {
     "iopub.execute_input": "2021-05-26T18:21:15.975410Z",
     "iopub.status.busy": "2021-05-26T18:21:15.974636Z",
     "iopub.status.idle": "2021-05-26T18:21:15.983963Z",
     "shell.execute_reply": "2021-05-26T18:21:15.982555Z",
     "shell.execute_reply.started": "2021-05-26T18:21:15.975361Z"
    },
    "tags": []
   },
   "outputs": [
    {
     "name": "stdout",
     "output_type": "stream",
     "text": [
      "Training set relative class frequencies\n"
     ]
    },
    {
     "data": {
      "text/plain": [
       "non_generic                  0.987603\n",
       "BB_generic                   0.002066\n",
       "Cetaphil_cream_generic       0.002066\n",
       "Cetaphil_cleanser_generic    0.002066\n",
       "Aveeno_generic               0.002066\n",
       "StIves_generic               0.002066\n",
       "CC_generic                   0.002066\n",
       "Name: brand_generic, dtype: float64"
      ]
     },
     "execution_count": 31,
     "metadata": {},
     "output_type": "execute_result"
    }
   ],
   "source": [
    "# Check class proportions are equal in train and test set\n",
    "\n",
    "print('Training set relative class frequencies')\n",
    "y_train_brandgen.value_counts()/len(y_train_brandgen)"
   ]
  },
  {
   "cell_type": "code",
   "execution_count": 32,
   "id": "6f090fee",
   "metadata": {
    "execution": {
     "iopub.execute_input": "2021-05-26T18:21:15.989312Z",
     "iopub.status.busy": "2021-05-26T18:21:15.988793Z",
     "iopub.status.idle": "2021-05-26T18:21:15.998740Z",
     "shell.execute_reply": "2021-05-26T18:21:15.997579Z",
     "shell.execute_reply.started": "2021-05-26T18:21:15.989268Z"
    },
    "tags": []
   },
   "outputs": [
    {
     "name": "stdout",
     "output_type": "stream",
     "text": [
      "Test set relative class frequencies\n"
     ]
    },
    {
     "data": {
      "text/plain": [
       "non_generic                  0.987629\n",
       "Aveeno_generic               0.002062\n",
       "Cetaphil_cleanser_generic    0.002062\n",
       "Cetaphil_cream_generic       0.002062\n",
       "StIves_generic               0.002062\n",
       "BB_generic                   0.002062\n",
       "CC_generic                   0.002062\n",
       "Name: brand_generic, dtype: float64"
      ]
     },
     "execution_count": 32,
     "metadata": {},
     "output_type": "execute_result"
    }
   ],
   "source": [
    "print('Test set relative class frequencies')\n",
    "y_test_brandgen.value_counts()/len(y_test_brandgen)"
   ]
  },
  {
   "cell_type": "code",
   "execution_count": 33,
   "id": "1433c0de",
   "metadata": {
    "execution": {
     "iopub.execute_input": "2021-05-26T18:21:16.001364Z",
     "iopub.status.busy": "2021-05-26T18:21:16.001012Z",
     "iopub.status.idle": "2021-05-26T18:21:16.007438Z",
     "shell.execute_reply": "2021-05-26T18:21:16.006185Z",
     "shell.execute_reply.started": "2021-05-26T18:21:16.001345Z"
    },
    "tags": []
   },
   "outputs": [
    {
     "data": {
      "text/plain": [
       "458    non_generic\n",
       "420    non_generic\n",
       "449    non_generic\n",
       "295    non_generic\n",
       "807    non_generic\n",
       "Name: brand_generic, dtype: object"
      ]
     },
     "execution_count": 33,
     "metadata": {},
     "output_type": "execute_result"
    }
   ],
   "source": [
    "y_train_brandgen.head()"
   ]
  },
  {
   "cell_type": "markdown",
   "id": "a61d369d",
   "metadata": {
    "tags": []
   },
   "source": [
    "## TF-IDF "
   ]
  },
  {
   "cell_type": "markdown",
   "id": "f8004d99",
   "metadata": {},
   "source": [
    "- Need to create term frequency matrix grouped by product \n",
    "- Can't use the sklearn TF-IDF vectorizer because of the long format, e.g. multiple rows of ingredients for each product since it will read each ingredient product combination as a separate product"
   ]
  },
  {
   "cell_type": "markdown",
   "id": "b1a230e2",
   "metadata": {},
   "source": [
    "**Transform term frequency matrix to idf**"
   ]
  },
  {
   "cell_type": "code",
   "execution_count": 34,
   "id": "f8f5316e",
   "metadata": {
    "execution": {
     "iopub.execute_input": "2021-05-26T18:21:19.595445Z",
     "iopub.status.busy": "2021-05-26T18:21:19.595067Z",
     "iopub.status.idle": "2021-05-26T18:21:19.601043Z",
     "shell.execute_reply": "2021-05-26T18:21:19.600000Z",
     "shell.execute_reply.started": "2021-05-26T18:21:19.595411Z"
    },
    "tags": []
   },
   "outputs": [],
   "source": [
    "# Get product info columns without product\n",
    "\n",
    "prod_info = [string for string in pivot_indices if string != 'product']"
   ]
  },
  {
   "cell_type": "code",
   "execution_count": 36,
   "id": "6ea1fba9",
   "metadata": {
    "execution": {
     "iopub.execute_input": "2021-05-26T18:25:20.288616Z",
     "iopub.status.busy": "2021-05-26T18:25:20.287056Z",
     "iopub.status.idle": "2021-05-26T18:25:20.322625Z",
     "shell.execute_reply": "2021-05-26T18:25:20.320934Z",
     "shell.execute_reply.started": "2021-05-26T18:25:20.288588Z"
    },
    "tags": []
   },
   "outputs": [],
   "source": [
    "def filter_string(list_of_strings, string_to_remove):\n",
    "    \"\"\"\n",
    "    Purpose: filters a string(s) from a list of strings\n",
    "    Returns: a list without the indicated string(s)\n",
    "    string_to_remove: MUST BE A LIST\n",
    "    \"\"\"\n",
    "    new_list = [string for string in list_of_strings \\\n",
    "                    if string not in string_to_remove]\n",
    "    return new_list"
   ]
  },
  {
   "cell_type": "code",
   "execution_count": 37,
   "id": "a9325350",
   "metadata": {
    "execution": {
     "iopub.execute_input": "2021-05-26T18:25:20.325876Z",
     "iopub.status.busy": "2021-05-26T18:25:20.325154Z",
     "iopub.status.idle": "2021-05-26T18:25:20.331123Z",
     "shell.execute_reply": "2021-05-26T18:25:20.330775Z",
     "shell.execute_reply.started": "2021-05-26T18:25:20.325850Z"
    },
    "tags": []
   },
   "outputs": [],
   "source": [
    "def get_prod_info(df, col_to_remove=[]):\n",
    "    \"\"\"\n",
    "    Purpose: returns ingredient col names and product row names from df \n",
    "        to be assigned to tf-idf df\n",
    "    col_to_remove: list, columns in prod info that are not present in the\n",
    "        df and need to be removed from prod info since they are not present\n",
    "        in that df. \n",
    "    \"\"\"\n",
    "    # Extract ingredient col names\n",
    "    ingred_cols = df.drop(col_to_remove,\n",
    "                               axis=1).columns.values\n",
    "    # Extract product row names\n",
    "    prod_names = df['product'].values\n",
    "    return ingred_cols, prod_names"
   ]
  },
  {
   "cell_type": "code",
   "execution_count": 38,
   "id": "599f4894",
   "metadata": {
    "execution": {
     "iopub.execute_input": "2021-05-26T18:25:20.333774Z",
     "iopub.status.busy": "2021-05-26T18:25:20.333591Z",
     "iopub.status.idle": "2021-05-26T18:25:20.422625Z",
     "shell.execute_reply": "2021-05-26T18:25:20.421545Z",
     "shell.execute_reply.started": "2021-05-26T18:25:20.333756Z"
    },
    "tags": []
   },
   "outputs": [],
   "source": [
    "# get column and product names for tf-idf dataframe\n",
    "\n",
    "brandgen_ingred_names, brandgen_prod_names = (\n",
    "    get_prod_info(ingred_counts, col_to_remove=prod_info)\n",
    ")\n",
    "\n",
    "X_train_brandgen_ingred_names, X_train_brandgen_prod_names = (\n",
    "    get_prod_info(X_train_brandgen,\n",
    "                  col_to_remove=filter_string(prod_info,['brand_generic']))\n",
    ")\n",
    "\n",
    "X_test_brandgen_ingred_names, X_test_brandgen_prod_names = (\n",
    "    get_prod_info(X_test_brandgen,\n",
    "                  col_to_remove=filter_string(prod_info,['brand_generic']))\n",
    ")"
   ]
  },
  {
   "cell_type": "code",
   "execution_count": 39,
   "id": "2e1b733d",
   "metadata": {
    "execution": {
     "iopub.execute_input": "2021-05-26T18:25:20.426618Z",
     "iopub.status.busy": "2021-05-26T18:25:20.426146Z",
     "iopub.status.idle": "2021-05-26T18:25:20.434274Z",
     "shell.execute_reply": "2021-05-26T18:25:20.432982Z",
     "shell.execute_reply.started": "2021-05-26T18:25:20.426570Z"
    },
    "tags": []
   },
   "outputs": [],
   "source": [
    "def get_tf(df, col_to_keep):\n",
    "    \"\"\"\n",
    "    Purpose: Get term frequencies from dataframe\n",
    "    Returns the tf matrix (not df!)\n",
    "    col_to_keep: List of strings. These should be ingredient column names.\n",
    "    \"\"\"\n",
    "    # Select columns with product name and ingredients only\n",
    "    # This removes the other columns, e.g. product info \n",
    "    df = df[df.columns.intersection(col_to_keep)].set_index(keys='product')\n",
    "    # convert df to tf matrix\n",
    "    ingred_tf = df.to_numpy()\n",
    "    return ingred_tf"
   ]
  },
  {
   "cell_type": "markdown",
   "id": "5d8d26b1",
   "metadata": {},
   "source": [
    "**Calculate IDF values for frequency matrix**"
   ]
  },
  {
   "cell_type": "code",
   "execution_count": 40,
   "id": "75627c60",
   "metadata": {
    "execution": {
     "iopub.execute_input": "2021-05-26T18:25:20.437043Z",
     "iopub.status.busy": "2021-05-26T18:25:20.436779Z",
     "iopub.status.idle": "2021-05-26T18:25:20.442775Z",
     "shell.execute_reply": "2021-05-26T18:25:20.442065Z",
     "shell.execute_reply.started": "2021-05-26T18:25:20.437025Z"
    },
    "tags": []
   },
   "outputs": [],
   "source": [
    "def reorder_first_cols(df, col_order):\n",
    "    '''\n",
    "    Reorder columns in dataframe with col_order as a list of column names\n",
    "    in the order you want them in to appear at the beginner of the dataframe.\n",
    "    The rest of the columns will remain in the same order as before. \n",
    "    '''\n",
    "    # Create new column ordering\n",
    "    new_col_order = (\n",
    "          col_order + [col for col in df.columns if col not in col_order]\n",
    "    )\n",
    "    # Reindex columns based on new order\n",
    "    df = df.reindex(columns=new_col_order)\n",
    "    \n",
    "    return df"
   ]
  },
  {
   "cell_type": "code",
   "execution_count": 41,
   "id": "e8b17aa5",
   "metadata": {
    "execution": {
     "iopub.execute_input": "2021-05-26T18:25:20.447883Z",
     "iopub.status.busy": "2021-05-26T18:25:20.447282Z",
     "iopub.status.idle": "2021-05-26T18:25:20.545611Z",
     "shell.execute_reply": "2021-05-26T18:25:20.544174Z",
     "shell.execute_reply.started": "2021-05-26T18:25:20.447821Z"
    },
    "tags": []
   },
   "outputs": [],
   "source": [
    "def get_idf(tf_matrix, col_names, prod_names):\n",
    "    \"\"\"\n",
    "    Purpose: Get idf values from matrix of term frequencies.\n",
    "    Returns df of tf-idf values\n",
    "    tf_matrix: Term frequency matrix from get_tf() above\n",
    "    col_names: List of column names for tf_matrix used when constructing df\n",
    "    prod_names: List of row names for products in the tf-idf df when \n",
    "        constructing the tf-idf df\n",
    "    \"\"\"\n",
    "    # Import tfidf transformer\n",
    "    from sklearn.feature_extraction.text import TfidfTransformer\n",
    "    # Set transformer arguments \n",
    "    transformer = TfidfTransformer(norm='l2',\n",
    "                               use_idf=True, smooth_idf=True,\n",
    "                               sublinear_tf=True)\n",
    "    # Get the TF-IDF weighted ingredient matrix\n",
    "    tfidf_res = transformer.fit_transform(tf_matrix)\n",
    "    # Convert to df\n",
    "    df_tf_idf = pd.DataFrame(tfidf_res.toarray())\n",
    "    # Add ingredient column names\n",
    "    df_tf_idf.columns = col_names\n",
    "    # add product names to df\n",
    "    df_tf_idf['product'] = prod_names\n",
    "    # Re-order columns with product being first\n",
    "    df_tf_idf = reorder_first_cols(df_tf_idf, ['product'])\n",
    "    return df_tf_idf"
   ]
  },
  {
   "cell_type": "code",
   "execution_count": 42,
   "id": "2e956cd8",
   "metadata": {
    "execution": {
     "iopub.execute_input": "2021-05-26T18:25:20.546744Z",
     "iopub.status.busy": "2021-05-26T18:25:20.546604Z",
     "iopub.status.idle": "2021-05-26T18:25:20.552272Z",
     "shell.execute_reply": "2021-05-26T18:25:20.551282Z",
     "shell.execute_reply.started": "2021-05-26T18:25:20.546718Z"
    },
    "tags": []
   },
   "outputs": [],
   "source": [
    "def get_tf_idf(df, col_names, prod_names):\n",
    "    \"\"\"\n",
    "    Purpose: get tf-idf matrix from a frequency count table and convert to a\n",
    "    pandas df. Return the df.\n",
    "    \"\"\"\n",
    "    # Get term frequency matrix for ingredients for brand generic\n",
    "    ingred_tf = get_tf(df, col_to_keep=col_names)\n",
    "    # Get idf values \n",
    "    df_tf_idf = get_idf(ingred_tf, \n",
    "                        col_names=filter_string(col_names, 'product'),  \n",
    "                        prod_names=prod_names)\n",
    "    return df_tf_idf"
   ]
  },
  {
   "cell_type": "code",
   "execution_count": 43,
   "id": "ed2fc9ff",
   "metadata": {
    "execution": {
     "iopub.execute_input": "2021-05-26T18:25:20.554961Z",
     "iopub.status.busy": "2021-05-26T18:25:20.554398Z",
     "iopub.status.idle": "2021-05-26T18:25:20.969150Z",
     "shell.execute_reply": "2021-05-26T18:25:20.968758Z",
     "shell.execute_reply.started": "2021-05-26T18:25:20.554905Z"
    },
    "tags": []
   },
   "outputs": [],
   "source": [
    "# Get tf-idf values\n",
    "\n",
    "df_tf_idf = get_tf_idf(ingred_counts,\n",
    "                       brandgen_ingred_names, \n",
    "                       brandgen_prod_names)\n",
    "\n",
    "df_train_tf_idf = get_tf_idf(X_train_brandgen,\n",
    "                             X_train_brandgen_ingred_names,\n",
    "                             X_train_brandgen_prod_names)\n",
    "\n",
    "df_test_tf_idf = get_tf_idf(X_test_brandgen,\n",
    "                            X_test_brandgen_ingred_names,\n",
    "                            X_test_brandgen_prod_names)"
   ]
  },
  {
   "cell_type": "markdown",
   "id": "82ad114b",
   "metadata": {},
   "source": [
    "## Ingredient weighting "
   ]
  },
  {
   "cell_type": "markdown",
   "id": "5baad918",
   "metadata": {},
   "source": [
    "### Ordinal encoding"
   ]
  },
  {
   "cell_type": "markdown",
   "id": "f9ef4601",
   "metadata": {},
   "source": [
    "### Ordinal encoding for ingredients"
   ]
  },
  {
   "cell_type": "code",
   "execution_count": 44,
   "id": "13c257c6",
   "metadata": {
    "execution": {
     "iopub.execute_input": "2021-05-26T18:25:20.971749Z",
     "iopub.status.busy": "2021-05-26T18:25:20.971578Z",
     "iopub.status.idle": "2021-05-26T18:25:20.975553Z",
     "shell.execute_reply": "2021-05-26T18:25:20.974524Z",
     "shell.execute_reply.started": "2021-05-26T18:25:20.971735Z"
    },
    "tags": []
   },
   "outputs": [],
   "source": [
    "# Get unique products in df\n",
    "\n",
    "prod_original = ingred_counts['product'].values\n",
    "prod_train = X_train_brandgen['product'].values\n",
    "prod_test = X_test_brandgen['product'].values"
   ]
  },
  {
   "cell_type": "code",
   "execution_count": 45,
   "id": "bfcb628a",
   "metadata": {
    "execution": {
     "iopub.execute_input": "2021-05-26T18:25:20.977084Z",
     "iopub.status.busy": "2021-05-26T18:25:20.976956Z",
     "iopub.status.idle": "2021-05-26T18:25:21.022507Z",
     "shell.execute_reply": "2021-05-26T18:25:21.021736Z",
     "shell.execute_reply.started": "2021-05-26T18:25:20.977070Z"
    },
    "tags": []
   },
   "outputs": [],
   "source": [
    "# Subset original long ingredient df for only products in the training set\n",
    "\n",
    "df_original_ingred = df_ingred.query('product in @prod_original').copy()\n",
    "df_train_ingred = df_ingred.query('product in @prod_train').copy()\n",
    "df_test_ingred = df_ingred.query('product in @prod_test').copy()"
   ]
  },
  {
   "cell_type": "code",
   "execution_count": 46,
   "id": "55569aec",
   "metadata": {
    "execution": {
     "iopub.execute_input": "2021-05-26T18:25:21.024575Z",
     "iopub.status.busy": "2021-05-26T18:25:21.024064Z",
     "iopub.status.idle": "2021-05-26T18:25:21.031175Z",
     "shell.execute_reply": "2021-05-26T18:25:21.030705Z",
     "shell.execute_reply.started": "2021-05-26T18:25:21.024552Z"
    },
    "tags": []
   },
   "outputs": [],
   "source": [
    "def add_ord(df):\n",
    "    \"\"\"\n",
    "    Purpose: Create new column with ordinal encodings for ingredient \n",
    "    order within each product \n",
    "    Returns: dataframe with ordinal encodings\n",
    "    \"\"\"\n",
    "    # Create temporary placeholder constant for ordering\n",
    "    df['ingred_value'] = 1\n",
    "    # Add order numbering for ingredients within each product\n",
    "    df['ingred_order'] = (\n",
    "        df.groupby('product')['ingred_value'] \\\n",
    "                 .rank(method=\"first\")\n",
    "    )\n",
    "    # Count total number of ingredients per product and expand \n",
    "    # result into main df\n",
    "    df = df.assign(\n",
    "        total_ingred = df.groupby('product')['ingred_order'] \\\n",
    "                                .transform('max')\n",
    "    )\n",
    "    # Take difference of ordinal max from ingredient order to get ordinal\n",
    "    # values for ingredients in decreasing order\n",
    "    # Add 1 so that the ingredient with the smallest concentration is\n",
    "    # 1 and not 0 (because 0 would mean it is not present)\n",
    "    df['ingred_ordinal'] = (\n",
    "        (df[\"total_ingred\"] - df[\"ingred_order\"])+1\n",
    "    )\n",
    "    return df"
   ]
  },
  {
   "cell_type": "code",
   "execution_count": 47,
   "id": "9260f7c1",
   "metadata": {
    "execution": {
     "iopub.execute_input": "2021-05-26T18:25:21.033070Z",
     "iopub.status.busy": "2021-05-26T18:25:21.032787Z",
     "iopub.status.idle": "2021-05-26T18:25:21.069440Z",
     "shell.execute_reply": "2021-05-26T18:25:21.069009Z",
     "shell.execute_reply.started": "2021-05-26T18:25:21.033051Z"
    },
    "tags": []
   },
   "outputs": [],
   "source": [
    "# Add ordinal weighting to ingredients\n",
    "\n",
    "df_orginal_ingred_ord = add_ord(df_original_ingred)\n",
    "df_train_ingred_ord = add_ord(df_train_ingred)\n",
    "df_test_ingred_ord = add_ord(df_test_ingred)"
   ]
  },
  {
   "cell_type": "code",
   "execution_count": 48,
   "id": "c543feee",
   "metadata": {
    "execution": {
     "iopub.execute_input": "2021-05-26T18:25:21.070720Z",
     "iopub.status.busy": "2021-05-26T18:25:21.070563Z",
     "iopub.status.idle": "2021-05-26T18:25:21.075508Z",
     "shell.execute_reply": "2021-05-26T18:25:21.073677Z",
     "shell.execute_reply.started": "2021-05-26T18:25:21.070702Z"
    },
    "tags": []
   },
   "outputs": [],
   "source": [
    "def scale_ord(df):\n",
    "    \"\"\"\n",
    "    Scale by the number of ingredients in the product so products with \n",
    "    different numbers of ingredients are on the same scale\n",
    "    Minus 1 because added 1 before so last ingredient would not be zero\n",
    "    \"\"\"\n",
    "    df['ingred_ordinal_sc'] = (\n",
    "        df['ingred_ordinal']/(df[\"total_ingred\"])\n",
    "    )\n",
    "    return df"
   ]
  },
  {
   "cell_type": "code",
   "execution_count": 49,
   "id": "796ad535",
   "metadata": {
    "execution": {
     "iopub.execute_input": "2021-05-26T18:25:21.076585Z",
     "iopub.status.busy": "2021-05-26T18:25:21.076446Z",
     "iopub.status.idle": "2021-05-26T18:25:21.081749Z",
     "shell.execute_reply": "2021-05-26T18:25:21.081369Z",
     "shell.execute_reply.started": "2021-05-26T18:25:21.076571Z"
    },
    "tags": []
   },
   "outputs": [],
   "source": [
    "# Scale ordinal encodings\n",
    "\n",
    "df_orginal_ingred_ord_sc = scale_ord(df_orginal_ingred_ord)\n",
    "df_train_ingred_ord_sc = scale_ord(df_train_ingred_ord)\n",
    "df_test_ingred_ord_sc = scale_ord(df_test_ingred_ord)"
   ]
  },
  {
   "cell_type": "code",
   "execution_count": 57,
   "id": "7f74b2d6",
   "metadata": {
    "execution": {
     "iopub.execute_input": "2021-05-26T18:34:25.908075Z",
     "iopub.status.busy": "2021-05-26T18:34:25.907755Z",
     "iopub.status.idle": "2021-05-26T18:34:25.919958Z",
     "shell.execute_reply": "2021-05-26T18:34:25.918624Z",
     "shell.execute_reply.started": "2021-05-26T18:34:25.908044Z"
    },
    "tags": []
   },
   "outputs": [],
   "source": [
    "def add_ord_wts(df_ord_wts, df_tf_idf, df_ingred, add_prodtype=False):\n",
    "    \"\"\"\n",
    "    Purpose: Multiplies scaled ordinal encodings to tf-idf \n",
    "    for ingredient values\n",
    "    Returns: df\n",
    "    df_ord_wts: df of ingredients with ordinal weightings that\n",
    "        are also scaled\n",
    "    df_tf_idf: tf_idf df\n",
    "    add_prodtype: add product_type to prod info. \n",
    "    \"\"\"\n",
    "    # Convert ordinal weights df from long to wide \n",
    "    # with ingredients as the columns and \n",
    "    # products as the rows\n",
    "    df_ingred_ord = df_ord_wts.pivot_table(\n",
    "                                            index='product',\n",
    "                                            columns='ingred_rev',\n",
    "                                            values='ingred_ordinal_sc',\n",
    "                                            aggfunc='max',\n",
    "                                            fill_value=0) \\\n",
    "                              .reset_index()   \n",
    "    # Rename column name index to none\n",
    "    df_ingred_ord.columns.names = [None]\n",
    "    # Multiply ingredient tf-idf values by ordinal weightings\n",
    "    df_ingred_wt = (\n",
    "        df_tf_idf.drop('product',axis=1) \\\n",
    "                 .mul(df_ingred_ord.drop('product',axis=1),\n",
    "                      fill_value=0)\n",
    "    )\n",
    "    # Add product names and reorder\n",
    "    df_ingred_wt['product'] = df_tf_idf['product']\n",
    "    # Product information\n",
    "    prod_info = ['use_category','brand', 'brand_generic',\n",
    "                  'size','price','link']\n",
    "    # Add product type \n",
    "    if add_prodtype:\n",
    "        prod_info.append(str('product_type'))\n",
    "    # Extract product information for first row only \n",
    "    # (same values for all rows of each product)\n",
    "    # Use category, price, link, brand, size    \n",
    "    df_prod_info = (\n",
    "            df_ingred.groupby('product') \\\n",
    "            [prod_info].first().reset_index()\n",
    "        )\n",
    "    # Add product info to main ingredient df and reorder\n",
    "    df_ingred_final = (\n",
    "        pd.merge(df_ingred_wt, df_prod_info, how='inner',on='product')\n",
    "    )\n",
    "    if add_prodtype:\n",
    "        cols_order = ['product', 'use_category','brand','brand_generic',\n",
    "                      'product_type', 'size','price','link']\n",
    "    else:\n",
    "        cols_order = ['product', 'use_category','brand','brand_generic',\n",
    "                      'size','price','link']\n",
    "    df_ingred_final = reorder_first_cols(df_ingred_final, cols_order)\n",
    "    return df_ingred_final"
   ]
  },
  {
   "cell_type": "code",
   "execution_count": 58,
   "id": "68f0f839",
   "metadata": {
    "execution": {
     "iopub.execute_input": "2021-05-26T18:34:26.865908Z",
     "iopub.status.busy": "2021-05-26T18:34:26.865327Z",
     "iopub.status.idle": "2021-05-26T18:34:27.819283Z",
     "shell.execute_reply": "2021-05-26T18:34:27.818677Z",
     "shell.execute_reply.started": "2021-05-26T18:34:26.865870Z"
    },
    "tags": []
   },
   "outputs": [],
   "source": [
    "# Weight tf-idf values by ordinal weights\n",
    "\n",
    "df_original_ingred_final = add_ord_wts(df_orginal_ingred_ord_sc,\n",
    "                                       df_tf_idf,\n",
    "                                       df_original_ingred,\n",
    "                                      add_prodtype=True)\n",
    "df_train_ingred_final = add_ord_wts(df_train_ingred_ord_sc,\n",
    "                                    df_train_tf_idf,\n",
    "                                    df_train_ingred)\n",
    "df_test_ingred_final = add_ord_wts(df_test_ingred_ord_sc,\n",
    "                                   df_test_tf_idf, \n",
    "                                   df_test_ingred)"
   ]
  },
  {
   "cell_type": "markdown",
   "id": "8ac6dec2",
   "metadata": {},
   "source": [
    "## Dimensionality Reduction: TSVD"
   ]
  },
  {
   "cell_type": "code",
   "execution_count": 86,
   "id": "798c3c5d",
   "metadata": {
    "execution": {
     "iopub.execute_input": "2021-05-26T18:49:47.551626Z",
     "iopub.status.busy": "2021-05-26T18:49:47.550889Z",
     "iopub.status.idle": "2021-05-26T18:49:47.558713Z",
     "shell.execute_reply": "2021-05-26T18:49:47.557090Z",
     "shell.execute_reply.started": "2021-05-26T18:49:47.551552Z"
    },
    "tags": []
   },
   "outputs": [],
   "source": [
    "# Import libraries\n",
    "\n",
    "from sklearn.decomposition import TruncatedSVD\n",
    "import seaborn as sns"
   ]
  },
  {
   "cell_type": "code",
   "execution_count": 87,
   "id": "70bba0d9",
   "metadata": {
    "execution": {
     "iopub.execute_input": "2021-05-26T18:49:48.476999Z",
     "iopub.status.busy": "2021-05-26T18:49:48.476680Z",
     "iopub.status.idle": "2021-05-26T18:49:48.519338Z",
     "shell.execute_reply": "2021-05-26T18:49:48.518271Z",
     "shell.execute_reply.started": "2021-05-26T18:49:48.476967Z"
    },
    "tags": []
   },
   "outputs": [],
   "source": [
    "# Create feature matrix\n",
    "\n",
    "cols_to_drop = ['use_category','brand','brand_generic', 'size','price','link']\n",
    "df_train_feat = df_train_ingred_final.drop(cols_to_drop,\n",
    "                                     axis=1).set_index('product')\n",
    "df_test_feat = df_test_ingred_final.drop(cols_to_drop,\n",
    "                                     axis=1).set_index('product')\n",
    "\n",
    "cols_to_drop_original = cols_to_drop + [str('product_type')]\n",
    "df_original_feat = df_original_ingred_final.drop(cols_to_drop_original,\n",
    "                                                 axis=1).set_index('product')"
   ]
  },
  {
   "cell_type": "code",
   "execution_count": 88,
   "id": "1a90e1dc",
   "metadata": {
    "execution": {
     "iopub.execute_input": "2021-05-26T18:49:50.392214Z",
     "iopub.status.busy": "2021-05-26T18:49:50.390556Z",
     "iopub.status.idle": "2021-05-26T18:49:50.398572Z",
     "shell.execute_reply": "2021-05-26T18:49:50.397626Z",
     "shell.execute_reply.started": "2021-05-26T18:49:50.392114Z"
    },
    "tags": []
   },
   "outputs": [],
   "source": [
    "# Create a TSVD instance\n",
    "\n",
    "tsvd = TruncatedSVD(n_components=400, random_state=42)"
   ]
  },
  {
   "cell_type": "code",
   "execution_count": 89,
   "id": "daf7e5e0",
   "metadata": {
    "execution": {
     "iopub.execute_input": "2021-05-26T18:49:51.036722Z",
     "iopub.status.busy": "2021-05-26T18:49:51.036524Z",
     "iopub.status.idle": "2021-05-26T18:49:54.246822Z",
     "shell.execute_reply": "2021-05-26T18:49:54.246289Z",
     "shell.execute_reply.started": "2021-05-26T18:49:51.036707Z"
    },
    "tags": []
   },
   "outputs": [],
   "source": [
    "# Conduct TSVD on features matrix\n",
    "\n",
    "tsvd_original_res = tsvd.fit(df_original_feat)\n",
    "df_original_tsvd = pd.DataFrame(tsvd.transform(df_original_feat))\n",
    "\n",
    "tsvd_train_res = tsvd.fit(df_train_feat)\n",
    "df_train_tsvd = pd.DataFrame(tsvd.transform(df_train_feat))"
   ]
  },
  {
   "cell_type": "code",
   "execution_count": 93,
   "id": "555daaff",
   "metadata": {
    "execution": {
     "iopub.execute_input": "2021-05-26T18:53:00.644139Z",
     "iopub.status.busy": "2021-05-26T18:53:00.643762Z",
     "iopub.status.idle": "2021-05-26T18:53:00.678150Z",
     "shell.execute_reply": "2021-05-26T18:53:00.677156Z",
     "shell.execute_reply.started": "2021-05-26T18:53:00.644106Z"
    },
    "tags": []
   },
   "outputs": [],
   "source": [
    "def add_prod_info(tsvd_df, original_df, col_names, prod_names_col,\n",
    "                  prod_type=False):\n",
    "    \"\"\"\n",
    "    Purpose: Add product information to TSVD dataframe\n",
    "    Returns: dataframe with product information in rows and columns\n",
    "    tsvd_df: df with tsvd results\n",
    "    original_df: df before tsvd with product information\n",
    "    col_names: List of strings of column names to be added into tsvd df\n",
    "    prod_names_col: Name of column with product names, string\n",
    "    prod_type: Whether to include product type in the product info\n",
    "    \"\"\"\n",
    "    # Add product names\n",
    "    tsvd_df['product']=original_df[prod_names_col]\n",
    "    # Copy columns to new df\n",
    "    col_copy = original_df[col_names].copy()\n",
    "    # Copy product names to col names df\n",
    "    col_copy['product'] = original_df[prod_names_col]\n",
    "    # Join with tsvd df on product\n",
    "    tsvd_df = pd.merge(tsvd_df, col_copy, how='inner', on='product')\n",
    "    # Reorder df columns\n",
    "    if prod_type:\n",
    "        cols_order = ['product', 'use_category','brand','brand_generic',\n",
    "                      'product_type', 'size','price','link']\n",
    "    else:\n",
    "        cols_order = ['product', 'use_category','brand','brand_generic',\n",
    "                      'product_type', 'size','price','link']\n",
    "    tsvd_df = reorder_first_cols(tsvd_df, cols_order)\n",
    "    return tsvd_df"
   ]
  },
  {
   "cell_type": "code",
   "execution_count": 97,
   "id": "21ceaafc",
   "metadata": {
    "execution": {
     "iopub.execute_input": "2021-05-26T18:54:17.514145Z",
     "iopub.status.busy": "2021-05-26T18:54:17.511504Z",
     "iopub.status.idle": "2021-05-26T18:54:17.605637Z",
     "shell.execute_reply": "2021-05-26T18:54:17.604439Z",
     "shell.execute_reply.started": "2021-05-26T18:54:17.514045Z"
    },
    "tags": []
   },
   "outputs": [],
   "source": [
    "# Add product info to tsvd df\n",
    "\n",
    "df_original_tsvd_export = add_prod_info(df_original_tsvd,\n",
    "                                         df_original_ingred_final,\n",
    "                                         cols_to_drop_original,\n",
    "                                         'product',\n",
    "                                        prod_type=True)"
   ]
  },
  {
   "cell_type": "code",
   "execution_count": 99,
   "id": "2af22085",
   "metadata": {
    "execution": {
     "iopub.execute_input": "2021-05-26T18:54:23.909629Z",
     "iopub.status.busy": "2021-05-26T18:54:23.909290Z",
     "iopub.status.idle": "2021-05-26T18:54:24.767586Z",
     "shell.execute_reply": "2021-05-26T18:54:24.765412Z",
     "shell.execute_reply.started": "2021-05-26T18:54:23.909596Z"
    },
    "tags": []
   },
   "outputs": [],
   "source": [
    "# Export tsvd df for analysis\n",
    "\n",
    "directory_name = '/data/clean/'\n",
    "file_name = 'data_tsvd_full.csv'\n",
    "df_original_tsvd_export.to_csv(rpath+directory_name+file_name)"
   ]
  },
  {
   "cell_type": "code",
   "execution_count": null,
   "id": "3e607028",
   "metadata": {},
   "outputs": [],
   "source": []
  },
  {
   "cell_type": "code",
   "execution_count": null,
   "id": "dc00ecd7",
   "metadata": {},
   "outputs": [],
   "source": []
  },
  {
   "cell_type": "code",
   "execution_count": 829,
   "id": "7f010153",
   "metadata": {
    "execution": {
     "iopub.execute_input": "2021-05-24T18:08:27.682393Z",
     "iopub.status.busy": "2021-05-24T18:08:27.682031Z",
     "iopub.status.idle": "2021-05-24T18:08:27.954114Z",
     "shell.execute_reply": "2021-05-24T18:08:27.953231Z",
     "shell.execute_reply.started": "2021-05-24T18:08:27.682358Z"
    },
    "tags": []
   },
   "outputs": [
    {
     "data": {
      "text/plain": [
       "Text(0, 0.5, 'Cumulative explained variance')"
      ]
     },
     "execution_count": 829,
     "metadata": {},
     "output_type": "execute_result"
    },
    {
     "data": {
      "image/png": "[encoded data removed]",
      "text/plain": [
       "<Figure size 1152x648 with 1 Axes>"
      ]
     },
     "metadata": {
      "image/png": {
       "height": 549,
       "width": 960
      }
     },
     "output_type": "display_data"
    }
   ],
   "source": [
    "# Plot cumulative explained variance vs. number of components for original\n",
    "\n",
    "import matplotlib.pyplot as plt\n",
    "plt.plot(np.cumsum(tsvd_original_res.explained_variance_ratio_))\n",
    "plt.xlabel('Number of components')\n",
    "plt.ylabel('Cumulative explained variance')"
   ]
  },
  {
   "cell_type": "code",
   "execution_count": 428,
   "id": "c20c9083",
   "metadata": {
    "execution": {
     "iopub.execute_input": "2021-05-21T20:25:38.043692Z",
     "iopub.status.busy": "2021-05-21T20:25:38.043523Z",
     "iopub.status.idle": "2021-05-21T20:25:38.336016Z",
     "shell.execute_reply": "2021-05-21T20:25:38.335455Z",
     "shell.execute_reply.started": "2021-05-21T20:25:38.043677Z"
    },
    "tags": []
   },
   "outputs": [
    {
     "data": {
      "text/plain": [
       "Text(0, 0.5, 'Cumulative explained variance')"
      ]
     },
     "execution_count": 428,
     "metadata": {},
     "output_type": "execute_result"
    },
    {
     "data": {
      "image/png": "[encoded data removed]",
      "text/plain": [
       "<Figure size 1152x648 with 1 Axes>"
      ]
     },
     "metadata": {
      "image/png": {
       "height": 549,
       "width": 960
      }
     },
     "output_type": "display_data"
    }
   ],
   "source": [
    "# Plot cumulative explained variance vs. number of components for train\n",
    "\n",
    "import matplotlib.pyplot as plt\n",
    "plt.plot(np.cumsum(tsvd_train_res.explained_variance_ratio_))\n",
    "plt.xlabel('Number of components')\n",
    "plt.ylabel('Cumulative explained variance')"
   ]
  },
  {
   "cell_type": "code",
   "execution_count": 414,
   "id": "c9f3c9dc",
   "metadata": {
    "execution": {
     "iopub.execute_input": "2021-05-21T19:44:09.694740Z",
     "iopub.status.busy": "2021-05-21T19:44:09.694411Z",
     "iopub.status.idle": "2021-05-21T19:44:09.701748Z",
     "shell.execute_reply": "2021-05-21T19:44:09.700505Z",
     "shell.execute_reply.started": "2021-05-21T19:44:09.694706Z"
    },
    "tags": []
   },
   "outputs": [
    {
     "data": {
      "text/plain": [
       "0.9771234523694606"
      ]
     },
     "execution_count": 414,
     "metadata": {},
     "output_type": "execute_result"
    }
   ],
   "source": [
    "# Check variance explained at 100 components\n",
    "\n",
    "tsvd_res.explained_variance_ratio_[0:80].sum()"
   ]
  },
  {
   "cell_type": "code",
   "execution_count": 519,
   "id": "1f780f31",
   "metadata": {
    "execution": {
     "iopub.execute_input": "2021-05-21T20:59:16.906545Z",
     "iopub.status.busy": "2021-05-21T20:59:16.906219Z",
     "iopub.status.idle": "2021-05-21T20:59:16.942995Z",
     "shell.execute_reply": "2021-05-21T20:59:16.942379Z",
     "shell.execute_reply.started": "2021-05-21T20:59:16.906512Z"
    },
    "tags": []
   },
   "outputs": [],
   "source": [
    "# Transform test set from training\n",
    "\n",
    "df_tsvd_test = pd.DataFrame(tsvd_res.transform(df_test_feat))"
   ]
  }
 ],
 "metadata": {
  "kernelspec": {
   "display_name": "Python [conda env:data_chall] *",
   "language": "python",
   "name": "conda-env-data_chall-py"
  },
  "language_info": {
   "codemirror_mode": {
    "name": "ipython",
    "version": 3
   },
   "file_extension": ".py",
   "mimetype": "text/x-python",
   "name": "python",
   "nbconvert_exporter": "python",
   "pygments_lexer": "ipython3",
   "version": "3.8.8"
  }
 },
 "nbformat": 4,
 "nbformat_minor": 5
}
