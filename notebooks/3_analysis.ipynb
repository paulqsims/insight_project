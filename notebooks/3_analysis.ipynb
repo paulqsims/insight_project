{
 "cells": [
  {
   "cell_type": "markdown",
   "id": "23ad6e0a",
   "metadata": {},
   "source": [
    "# Analysis for Insight Project"
   ]
  },
  {
   "cell_type": "markdown",
   "id": "2dc0879f",
   "metadata": {},
   "source": [
    "## Setup"
   ]
  },
  {
   "cell_type": "code",
   "execution_count": 3,
   "id": "9831939a",
   "metadata": {
    "execution": {
     "iopub.execute_input": "2021-05-24T19:16:07.649510Z",
     "iopub.status.busy": "2021-05-24T19:16:07.649116Z",
     "iopub.status.idle": "2021-05-24T19:16:09.833573Z",
     "shell.execute_reply": "2021-05-24T19:16:09.833165Z",
     "shell.execute_reply.started": "2021-05-24T19:16:07.649476Z"
    }
   },
   "outputs": [],
   "source": [
    "# import modules\n",
    "import pandas as pd\n",
    "import numpy as np\n",
    "import rootpath\n",
    "from sklearn.cluster import KMeans\n",
    "from sklearn.metrics import silhouette_score\n",
    "import sklearn.metrics as metrics\n",
    "from sklearn.utils import resample\n",
    "\n",
    "from sklearn.metrics.pairwise import cosine_similarity\n",
    "\n",
    "#import qgrid\n",
    "import matplotlib.pyplot as plt\n",
    "import seaborn as sns"
   ]
  },
  {
   "cell_type": "markdown",
   "id": "6782f35e",
   "metadata": {},
   "source": [
    "### Locate files"
   ]
  },
  {
   "cell_type": "code",
   "execution_count": 4,
   "id": "97f74656",
   "metadata": {
    "execution": {
     "iopub.execute_input": "2021-05-24T19:16:11.243306Z",
     "iopub.status.busy": "2021-05-24T19:16:11.242960Z",
     "iopub.status.idle": "2021-05-24T19:16:11.248501Z",
     "shell.execute_reply": "2021-05-24T19:16:11.247526Z",
     "shell.execute_reply.started": "2021-05-24T19:16:11.243274Z"
    },
    "tags": []
   },
   "outputs": [],
   "source": [
    "# Set paths for project\n",
    "\n",
    "# Set rootpath for project\n",
    "rpath = rootpath.detect()\n",
    "\n",
    "# Set directory\n",
    "directory_name = '/data/clean/'\n",
    "\n",
    "# Set filename\n",
    "file_name = 'data_tsvd_full.csv'"
   ]
  },
  {
   "cell_type": "markdown",
   "id": "caa0121c",
   "metadata": {},
   "source": [
    "### Compile data"
   ]
  },
  {
   "cell_type": "code",
   "execution_count": 5,
   "id": "2939313d",
   "metadata": {
    "execution": {
     "iopub.execute_input": "2021-05-24T19:16:13.443594Z",
     "iopub.status.busy": "2021-05-24T19:16:13.443199Z",
     "iopub.status.idle": "2021-05-24T19:16:13.556825Z",
     "shell.execute_reply": "2021-05-24T19:16:13.556493Z",
     "shell.execute_reply.started": "2021-05-24T19:16:13.443556Z"
    },
    "tags": []
   },
   "outputs": [],
   "source": [
    "df_tsvd_full = pd.read_csv(rpath+directory_name+file_name, index_col=0)"
   ]
  },
  {
   "cell_type": "code",
   "execution_count": null,
   "id": "936c3ed9",
   "metadata": {},
   "outputs": [],
   "source": []
  }
 ],
 "metadata": {
  "kernelspec": {
   "display_name": "Python [conda env:data_chall] *",
   "language": "python",
   "name": "conda-env-data_chall-py"
  },
  "language_info": {
   "codemirror_mode": {
    "name": "ipython",
    "version": 3
   },
   "file_extension": ".py",
   "mimetype": "text/x-python",
   "name": "python",
   "nbconvert_exporter": "python",
   "pygments_lexer": "ipython3",
   "version": "3.8.8"
  }
 },
 "nbformat": 4,
 "nbformat_minor": 5
}
