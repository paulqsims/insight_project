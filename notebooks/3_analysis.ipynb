{
 "cells": [
  {
   "cell_type": "markdown",
   "id": "fd5f8735",
   "metadata": {},
   "source": [
    "# Analysis for Insight Project"
   ]
  },
  {
   "cell_type": "markdown",
   "id": "a47212a6",
   "metadata": {},
   "source": [
    "## Setup"
   ]
  },
  {
   "cell_type": "code",
   "execution_count": 1,
   "id": "0f837460",
   "metadata": {
    "execution": {
     "iopub.execute_input": "2021-05-25T20:11:30.551496Z",
     "iopub.status.busy": "2021-05-25T20:11:30.551403Z",
     "iopub.status.idle": "2021-05-25T20:11:32.741677Z",
     "shell.execute_reply": "2021-05-25T20:11:32.741315Z",
     "shell.execute_reply.started": "2021-05-25T20:11:30.551483Z"
    },
    "tags": []
   },
   "outputs": [],
   "source": [
    "# import modules\n",
    "import pandas as pd\n",
    "import numpy as np\n",
    "import rootpath\n",
    "from sklearn.cluster import KMeans\n",
    "from sklearn.metrics import silhouette_score\n",
    "import sklearn.metrics as metrics\n",
    "from sklearn.utils import resample\n",
    "\n",
    "from sklearn.metrics.pairwise import cosine_similarity as cos_sim\n",
    "\n",
    "#import qgrid\n",
    "import matplotlib.pyplot as plt\n",
    "import seaborn as sns"
   ]
  },
  {
   "cell_type": "markdown",
   "id": "893ebdcd",
   "metadata": {},
   "source": [
    "### Locate files"
   ]
  },
  {
   "cell_type": "code",
   "execution_count": 2,
   "id": "905559cb",
   "metadata": {
    "execution": {
     "iopub.execute_input": "2021-05-25T20:11:32.742823Z",
     "iopub.status.busy": "2021-05-25T20:11:32.742721Z",
     "iopub.status.idle": "2021-05-25T20:11:32.746801Z",
     "shell.execute_reply": "2021-05-25T20:11:32.746133Z",
     "shell.execute_reply.started": "2021-05-25T20:11:32.742811Z"
    },
    "tags": []
   },
   "outputs": [],
   "source": [
    "# Set paths for project\n",
    "\n",
    "# Set rootpath for project\n",
    "rpath = rootpath.detect()\n",
    "\n",
    "# Set directory\n",
    "directory_name = '/data/clean/'\n",
    "\n",
    "# Set filename\n",
    "file_name = 'data_tsvd_full.csv'"
   ]
  },
  {
   "cell_type": "markdown",
   "id": "5970ea43",
   "metadata": {},
   "source": [
    "### Compile data"
   ]
  },
  {
   "cell_type": "code",
   "execution_count": 3,
   "id": "6e49f29c",
   "metadata": {
    "execution": {
     "iopub.execute_input": "2021-05-25T20:11:33.124530Z",
     "iopub.status.busy": "2021-05-25T20:11:33.124177Z",
     "iopub.status.idle": "2021-05-25T20:11:33.233006Z",
     "shell.execute_reply": "2021-05-25T20:11:33.232460Z",
     "shell.execute_reply.started": "2021-05-25T20:11:33.124498Z"
    },
    "tags": []
   },
   "outputs": [],
   "source": [
    "df_tsvd_full = pd.read_csv(rpath+directory_name+file_name, index_col=0)"
   ]
  },
  {
   "cell_type": "markdown",
   "id": "1891185e",
   "metadata": {},
   "source": [
    "# Analysis: Cosine similarity"
   ]
  },
  {
   "cell_type": "markdown",
   "id": "31228ce1",
   "metadata": {},
   "source": [
    "## Validation\n",
    "### Recommendations for brand vs. generic versions"
   ]
  },
  {
   "cell_type": "code",
   "execution_count": 4,
   "id": "0bb6bc35",
   "metadata": {
    "execution": {
     "iopub.execute_input": "2021-05-25T20:11:42.895994Z",
     "iopub.status.busy": "2021-05-25T20:11:42.895658Z",
     "iopub.status.idle": "2021-05-25T20:11:42.901094Z",
     "shell.execute_reply": "2021-05-25T20:11:42.900312Z",
     "shell.execute_reply.started": "2021-05-25T20:11:42.895962Z"
    }
   },
   "outputs": [],
   "source": [
    "def get_features(df, prod_info):\n",
    "    \"\"\"\n",
    "    Purpose: extract ingredient features from tsvd dataframe\n",
    "    Returns: df of ingredient features only\n",
    "    df: df of tsvd and product info\n",
    "    prod_info: list of strings of column names to remove\n",
    "    \"\"\"\n",
    "    df_tsvd_full_features = df.drop(prod_info, axis=1) \\\n",
    "                                    .set_index('product')\n",
    "    \n",
    "    return df_tsvd_full_features"
   ]
  },
  {
   "cell_type": "code",
   "execution_count": 5,
   "id": "ddaba69f",
   "metadata": {
    "execution": {
     "iopub.execute_input": "2021-05-25T20:11:42.903063Z",
     "iopub.status.busy": "2021-05-25T20:11:42.902804Z",
     "iopub.status.idle": "2021-05-25T20:11:42.913914Z",
     "shell.execute_reply": "2021-05-25T20:11:42.913442Z",
     "shell.execute_reply.started": "2021-05-25T20:11:42.903034Z"
    }
   },
   "outputs": [],
   "source": [
    "# Separate features from product information\n",
    "\n",
    "prod_info = ['use_category', 'brand', 'brand_generic',\n",
    "             'size', 'price', 'link']\n",
    "\n",
    "df_tsvd_full_features = get_features(df_tsvd_full, prod_info)"
   ]
  },
  {
   "cell_type": "code",
   "execution_count": 6,
   "id": "e52ad562",
   "metadata": {
    "execution": {
     "iopub.execute_input": "2021-05-25T20:11:42.915655Z",
     "iopub.status.busy": "2021-05-25T20:11:42.915503Z",
     "iopub.status.idle": "2021-05-25T20:11:42.918047Z",
     "shell.execute_reply": "2021-05-25T20:11:42.917676Z",
     "shell.execute_reply.started": "2021-05-25T20:11:42.915638Z"
    }
   },
   "outputs": [],
   "source": [
    "def filter_string(list_of_strings, string_to_remove):\n",
    "    \"\"\"\n",
    "    Purpose: filters a string(s) from a list of strings\n",
    "    Returns: a list without the indicated string(s)\n",
    "    string_to_remove: MUST BE A LIST\n",
    "    \"\"\"\n",
    "    new_list = [string for string in list_of_strings \\\n",
    "                    if string not in string_to_remove]\n",
    "    return new_list"
   ]
  },
  {
   "cell_type": "code",
   "execution_count": 7,
   "id": "c9485e3b",
   "metadata": {
    "execution": {
     "iopub.execute_input": "2021-05-25T20:11:42.919344Z",
     "iopub.status.busy": "2021-05-25T20:11:42.919199Z",
     "iopub.status.idle": "2021-05-25T20:11:42.921669Z",
     "shell.execute_reply": "2021-05-25T20:11:42.921202Z",
     "shell.execute_reply.started": "2021-05-25T20:11:42.919329Z"
    },
    "tags": []
   },
   "outputs": [],
   "source": [
    "# Extract brand_generic product labels\n",
    "\n",
    "brand_gen_labels = (\n",
    "    filter_string(df_tsvd_full['brand_generic'].unique(),'non_generic')\n",
    ")"
   ]
  },
  {
   "cell_type": "code",
   "execution_count": 8,
   "id": "ae6d53c0",
   "metadata": {
    "execution": {
     "iopub.execute_input": "2021-05-25T20:11:42.922479Z",
     "iopub.status.busy": "2021-05-25T20:11:42.922283Z",
     "iopub.status.idle": "2021-05-25T20:11:42.924609Z",
     "shell.execute_reply": "2021-05-25T20:11:42.924240Z",
     "shell.execute_reply.started": "2021-05-25T20:11:42.922463Z"
    }
   },
   "outputs": [],
   "source": [
    "# List of brand name product brands \n",
    "# This does not include their generic versions\n",
    "\n",
    "brand_names = ['Aveeno','Banana boat','Cetaphil','Clean and Clear',\n",
    "               'St. Ives']"
   ]
  },
  {
   "cell_type": "code",
   "execution_count": 9,
   "id": "624522c3",
   "metadata": {
    "execution": {
     "iopub.execute_input": "2021-05-25T20:11:42.925385Z",
     "iopub.status.busy": "2021-05-25T20:11:42.925272Z",
     "iopub.status.idle": "2021-05-25T20:11:42.932219Z",
     "shell.execute_reply": "2021-05-25T20:11:42.931774Z",
     "shell.execute_reply.started": "2021-05-25T20:11:42.925372Z"
    },
    "tags": []
   },
   "outputs": [],
   "source": [
    "# Extract df of brand_generic products for comparison to similarity output\n",
    "\n",
    "# Get columns of product info only\n",
    "\n",
    "df_brand_gen = (\n",
    "    df_tsvd_full[df_tsvd_full.columns.intersection(prod_info)].copy()\n",
    ")\n",
    "\n",
    "# Add product\n",
    "\n",
    "df_brand_gen['product'] = df_tsvd_full['product']\n",
    "\n",
    "# Filter out only brand_generic products\n",
    "\n",
    "df_brand_gen = df_brand_gen.query('brand_generic == @brand_gen_labels')"
   ]
  },
  {
   "cell_type": "code",
   "execution_count": 10,
   "id": "a9ddd167",
   "metadata": {
    "execution": {
     "iopub.execute_input": "2021-05-25T20:11:42.932932Z",
     "iopub.status.busy": "2021-05-25T20:11:42.932833Z",
     "iopub.status.idle": "2021-05-25T20:11:42.947801Z",
     "shell.execute_reply": "2021-05-25T20:11:42.947359Z",
     "shell.execute_reply.started": "2021-05-25T20:11:42.932919Z"
    },
    "tags": []
   },
   "outputs": [],
   "source": [
    "# Extract product names for brand name products only\n",
    "# These are the input products for checking recommendation\n",
    "#   accuracy for specific products\n",
    "\n",
    "brand_name_prod = (\n",
    "    df_tsvd_full.query('brand_generic == @brand_gen_labels and \\\n",
    "                        brand == @brand_names')['product']\n",
    ")"
   ]
  },
  {
   "cell_type": "code",
   "execution_count": 11,
   "id": "60b6e824",
   "metadata": {
    "execution": {
     "iopub.execute_input": "2021-05-25T20:11:42.949349Z",
     "iopub.status.busy": "2021-05-25T20:11:42.949136Z",
     "iopub.status.idle": "2021-05-25T20:11:42.952876Z",
     "shell.execute_reply": "2021-05-25T20:11:42.952148Z",
     "shell.execute_reply.started": "2021-05-25T20:11:42.949304Z"
    },
    "tags": []
   },
   "outputs": [],
   "source": [
    "def reorder_first_cols(df, col_order):\n",
    "    '''\n",
    "    Reorder columns in dataframe with col_order as a list of column names\n",
    "    in the order you want them in to appear at the beginner of the dataframe.\n",
    "    The rest of the columns will remain in the same order as before. \n",
    "    '''\n",
    "    # Create new column ordering\n",
    "    new_col_order = (\n",
    "          col_order + [col for col in df.columns if col not in col_order]\n",
    "    )\n",
    "    # Reindex columns based on new order\n",
    "    df = df.reindex(columns=new_col_order)\n",
    "    \n",
    "    return df"
   ]
  },
  {
   "cell_type": "code",
   "execution_count": 12,
   "id": "f788932a",
   "metadata": {
    "execution": {
     "iopub.execute_input": "2021-05-25T20:11:42.955921Z",
     "iopub.status.busy": "2021-05-25T20:11:42.955686Z",
     "iopub.status.idle": "2021-05-25T20:11:42.959483Z",
     "shell.execute_reply": "2021-05-25T20:11:42.958952Z",
     "shell.execute_reply.started": "2021-05-25T20:11:42.955874Z"
    },
    "tags": []
   },
   "outputs": [],
   "source": [
    "def add_prod_info(new_df, original_df, col_names, prod_names_col):\n",
    "    \"\"\"\n",
    "    Purpose: Add product information to TSVD dataframe\n",
    "    Returns: dataframe with product information in rows and columns\n",
    "    new_df: df with cosine similarity results results\n",
    "    original_df: df before tsvd with product information\n",
    "    col_names: List of strings of column names to be added into tsvd df\n",
    "    prod_names_col: Name of column with product names, string\n",
    "    \"\"\"\n",
    "    # Add product names\n",
    "    new_df['product']=original_df[prod_names_col]\n",
    "    # Copy columns to new df\n",
    "    col_copy = original_df[col_names].copy()\n",
    "    # Copy product names to col names df\n",
    "    col_copy['product'] = original_df[prod_names_col]\n",
    "    # Join with tsvd df on product\n",
    "    new_df = pd.merge(new_df, col_copy, how='inner', on='product')\n",
    "    # Reorder df columns\n",
    "    cols_order = ['product','cosine_sim', 'use_category','brand',\n",
    "                  'brand_generic','size','price','link']\n",
    "    new_df = reorder_first_cols(new_df, cols_order)\n",
    "    return new_df"
   ]
  },
  {
   "cell_type": "code",
   "execution_count": 13,
   "id": "060fe024",
   "metadata": {
    "execution": {
     "iopub.execute_input": "2021-05-25T20:11:42.960562Z",
     "iopub.status.busy": "2021-05-25T20:11:42.960457Z",
     "iopub.status.idle": "2021-05-25T20:11:42.966355Z",
     "shell.execute_reply": "2021-05-25T20:11:42.966013Z",
     "shell.execute_reply.started": "2021-05-25T20:11:42.960548Z"
    },
    "tags": []
   },
   "outputs": [],
   "source": [
    "def get_prod_rec_acc(prod_list, prod_df, feat_df):\n",
    "    \"\"\"\n",
    "    Purpose: Check performance of recommendations for list of products.\n",
    "    Returns: df of the results for each input product in prod_list\n",
    "    prod_list: list of product names for calculating cosine similarities\n",
    "    prod_df: dataframe of cosine sim with products as rows \n",
    "    feat_df: dataframe of cosine sim only with products as indices\n",
    "    \"\"\"\n",
    "    # Set initial value for number of valid recommendations\n",
    "    correct_rec = []\n",
    "    input_prod = []\n",
    "    top_output_prod = []\n",
    "    top_cos_sim = []    \n",
    "    \n",
    "    # Check recommendation accuracy for each product in prod_list\n",
    "    for product in prod_list:\n",
    "        # Calculate Cosine Similarities\n",
    "        res_cosine = (\n",
    "            cos_sim(feat_df.loc[[product],:],\n",
    "                              feat_df)\n",
    "        )\n",
    "        # Convert to df\n",
    "        res_cosine = pd.DataFrame(res_cosine.transpose()) \\\n",
    "                       .rename(columns={0:'cosine_sim'})\n",
    "        # Add product info to cosine sim results\n",
    "        df_cos_sim = add_prod_info(new_df=res_cosine,\n",
    "                                   original_df=prod_df,\n",
    "                                   col_names=prod_info, \n",
    "                                   prod_names_col='product')\n",
    "        # Round to 4 digits\n",
    "        df_cos_sim['cosine_sim'] = df_cos_sim['cosine_sim'].round(4)\n",
    "        # Extract top 6 most similar results\n",
    "        df_cos_sim_topres = df_cos_sim.nlargest(6,'cosine_sim')\n",
    "        # Filter df without input product \n",
    "        #   (should always be with cosine sim of 1)\n",
    "        df_cos_sim_topres = (\n",
    "            df_cos_sim_topres[~df_cos_sim_topres['product'].isin([product])]\n",
    "        )\n",
    "        # Get brand generic label for input product\n",
    "        input_prod_label = (\n",
    "            df_brand_gen.query('product in @product')['brand_generic']\n",
    "        )\n",
    "        # Get brand_generic label for top result\n",
    "        top_res_prod_label = (\n",
    "            df_cos_sim_topres.nlargest(1,'cosine_sim')['brand_generic']\n",
    "        )\n",
    "        # Compare brand_generic label of input product and add 1 if it matches\n",
    "        if input_prod_label.values == top_res_prod_label.values:\n",
    "            correct_rec.append(True)\n",
    "        else:\n",
    "            correct_rec.append(False)\n",
    "        # Save the input product, comparison product, similarity \n",
    "        input_prod.append(product)\n",
    "        top_output_prod.extend(\n",
    "            df_cos_sim_topres.nlargest(1,'cosine_sim')['product'].tolist()\n",
    "        )\n",
    "        top_cos_sim.extend(\n",
    "            df_cos_sim_topres.nlargest(1,'cosine_sim')['cosine_sim'].tolist()\n",
    "        )\n",
    "\n",
    "    # Add lists together and turn into df \n",
    "    df_valid_res = (\n",
    "        pd.DataFrame(list(zip(input_prod, top_output_prod, top_cos_sim, \n",
    "                              correct_rec)),\n",
    "                     columns=['input_prod','top_output_prod','cos_sim',\n",
    "                                      'correct_rec'])\n",
    "    )\n",
    "    \n",
    "    return df_valid_res"
   ]
  },
  {
   "cell_type": "code",
   "execution_count": 14,
   "id": "71888edb",
   "metadata": {
    "execution": {
     "iopub.execute_input": "2021-05-25T20:11:42.967083Z",
     "iopub.status.busy": "2021-05-25T20:11:42.966994Z",
     "iopub.status.idle": "2021-05-25T20:11:43.029244Z",
     "shell.execute_reply": "2021-05-25T20:11:43.028679Z",
     "shell.execute_reply.started": "2021-05-25T20:11:42.967072Z"
    },
    "tags": []
   },
   "outputs": [],
   "source": [
    "# Get recommendation accuracy for list of brand name products\n",
    "\n",
    "df_valid_res = get_prod_rec_acc(brand_name_prod, prod_df=df_tsvd_full,\n",
    "                                feat_df=df_tsvd_full_features)"
   ]
  },
  {
   "cell_type": "code",
   "execution_count": 23,
   "id": "689a638c",
   "metadata": {
    "execution": {
     "iopub.execute_input": "2021-05-25T20:12:38.089212Z",
     "iopub.status.busy": "2021-05-25T20:12:38.088442Z",
     "iopub.status.idle": "2021-05-25T20:12:38.099948Z",
     "shell.execute_reply": "2021-05-25T20:12:38.098955Z",
     "shell.execute_reply.started": "2021-05-25T20:12:38.089137Z"
    },
    "tags": []
   },
   "outputs": [],
   "source": [
    "def get_overall_rec_acc(df, print_res=True):\n",
    "    \"\"\"\n",
    "    Purpose: print proportion and percent correct results from cos_sim results\n",
    "    Returns:\n",
    "    df: df of cosine sim results for a list of products\n",
    "    \"\"\"\n",
    "    # Calculate percentage of correct recommendations\n",
    "    num_correct = sum(df['correct_rec'].values)\n",
    "    per_correct = [round((num_correct/6) * 100,2)]\n",
    "    # convert num_correct to list for zip\n",
    "    num_correct = [num_correct]\n",
    "    df_acc_res = pd.DataFrame(list(zip(num_correct, per_correct)),\n",
    "                              columns=['num_correct','perc_correct'])\n",
    "    if print_res:\n",
    "        print(f\"Correct recommendations out of 6 labeled products: \\\n",
    "        {num_correct[0]}/6 or {per_correct[0]}%\")\n",
    "    \n",
    "    return df_acc_res"
   ]
  },
  {
   "cell_type": "code",
   "execution_count": 42,
   "id": "6f9195cc",
   "metadata": {
    "execution": {
     "iopub.execute_input": "2021-05-25T20:52:34.727969Z",
     "iopub.status.busy": "2021-05-25T20:52:34.723827Z",
     "iopub.status.idle": "2021-05-25T20:52:34.826656Z",
     "shell.execute_reply": "2021-05-25T20:52:34.823535Z",
     "shell.execute_reply.started": "2021-05-25T20:52:34.727891Z"
    },
    "tags": []
   },
   "outputs": [
    {
     "name": "stdout",
     "output_type": "stream",
     "text": [
      "Correct recommendations out of 6 labeled products:         5/6 or 83.33%\n"
     ]
    },
    {
     "data": {
      "text/html": [
       "<div>\n",
       "<style scoped>\n",
       "    .dataframe tbody tr th:only-of-type {\n",
       "        vertical-align: middle;\n",
       "    }\n",
       "\n",
       "    .dataframe tbody tr th {\n",
       "        vertical-align: top;\n",
       "    }\n",
       "\n",
       "    .dataframe thead th {\n",
       "        text-align: right;\n",
       "    }\n",
       "</style>\n",
       "<table border=\"1\" class=\"dataframe\">\n",
       "  <thead>\n",
       "    <tr style=\"text-align: right;\">\n",
       "      <th></th>\n",
       "      <th>num_correct</th>\n",
       "      <th>perc_correct</th>\n",
       "    </tr>\n",
       "  </thead>\n",
       "  <tbody>\n",
       "    <tr>\n",
       "      <th>0</th>\n",
       "      <td>5</td>\n",
       "      <td>83.33</td>\n",
       "    </tr>\n",
       "  </tbody>\n",
       "</table>\n",
       "</div>"
      ],
      "text/plain": [
       "   num_correct  perc_correct\n",
       "0            5         83.33"
      ]
     },
     "execution_count": 42,
     "metadata": {},
     "output_type": "execute_result"
    }
   ],
   "source": [
    "# Check recommendation accuracy for list of brand name products\n",
    "\n",
    "df_cos_sim_val_res = get_overall_rec_acc(df_valid_res)\n",
    "df_cos_sim_val_res"
   ]
  },
  {
   "cell_type": "markdown",
   "id": "b3f9bbb8",
   "metadata": {},
   "source": [
    "### Recommendations for brand vs. generic versions - randomization result"
   ]
  },
  {
   "cell_type": "code",
   "execution_count": 31,
   "id": "b6280857",
   "metadata": {
    "execution": {
     "iopub.execute_input": "2021-05-25T20:14:33.701780Z",
     "iopub.status.busy": "2021-05-25T20:14:33.701386Z",
     "iopub.status.idle": "2021-05-25T20:14:33.711558Z",
     "shell.execute_reply": "2021-05-25T20:14:33.710365Z",
     "shell.execute_reply.started": "2021-05-25T20:14:33.701740Z"
    },
    "tags": []
   },
   "outputs": [],
   "source": [
    "def get_prod_rec_acc_rand(prod_list, df_tsvd, randiter):\n",
    "    \"\"\"\n",
    "    Purpose: Gets recommendation accuracy results from randomization with \n",
    "        randiter reshuffling. Recommended minimum is 1000\n",
    "    Returns: df of randomization results\n",
    "    prod_list: list of product names for calculating cosine similarities\n",
    "    df_tsvd: dataframe of tsvd results\n",
    "    randiter: Number of randomization iterations to run\n",
    "    \"\"\"\n",
    "\n",
    "    from numpy import random\n",
    "    import sys, os\n",
    "    \n",
    "    # Initialize empty lists for storing results\n",
    "    iteration = []\n",
    "    prop_correct = []\n",
    "    \n",
    "    # create list of non-feature columns for the get_features function\n",
    "    prod_info = ['use_category', 'brand', 'brand_generic',\n",
    "                 'size', 'price', 'link']\n",
    "    \n",
    "    # Perform randomization and calculate correct recommendations each time\n",
    "    for i in range(randiter-1):\n",
    "        # Randomize the product names for tsvd results df \n",
    "        df_tsvd['product'] = random.permutation(df_tsvd['product'].values)\n",
    "        # get df of randomized features\n",
    "        df_tsvd_feat = get_features(df_tsvd, prod_info)\n",
    "        # Get accuracy of recommendations\n",
    "        df_valid_res = get_prod_rec_acc(prod_list, \n",
    "                                        prod_df=df_tsvd,\n",
    "                                        feat_df=df_tsvd_feat)\n",
    "        # Check recommendation accuracy for list of brand name products\n",
    "        df_valid_acc = get_overall_rec_acc(df_valid_res, print_res=False)\n",
    "        # Append results to lists\n",
    "        iteration.append(i)\n",
    "        prop_correct.extend(df_valid_acc['perc_correct'].tolist())\n",
    "    \n",
    "    # Concatenate results into df\n",
    "    df_overall_acc_res = pd.DataFrame(list(zip(iteration, prop_correct)),\n",
    "                                      columns=['iteration','perc_correct'])\n",
    "    \n",
    "    return df_overall_acc_res"
   ]
  },
  {
   "cell_type": "code",
   "execution_count": 35,
   "id": "d8c1f6aa",
   "metadata": {
    "execution": {
     "iopub.execute_input": "2021-05-25T20:15:12.762105Z",
     "iopub.status.busy": "2021-05-25T20:15:12.761675Z",
     "iopub.status.idle": "2021-05-25T20:16:03.204213Z",
     "shell.execute_reply": "2021-05-25T20:16:03.203308Z",
     "shell.execute_reply.started": "2021-05-25T20:15:12.762065Z"
    },
    "tags": []
   },
   "outputs": [],
   "source": [
    "# Get results from randomization\n",
    "\n",
    "df_rand_res = get_prod_rec_acc_rand(prod_list=brand_name_prod,\n",
    "                                    df_tsvd=df_tsvd_full,\n",
    "                                    randiter=1000)"
   ]
  },
  {
   "cell_type": "code",
   "execution_count": 41,
   "id": "e8a37059",
   "metadata": {
    "execution": {
     "iopub.execute_input": "2021-05-25T20:50:42.415177Z",
     "iopub.status.busy": "2021-05-25T20:50:42.408159Z",
     "iopub.status.idle": "2021-05-25T20:50:42.588045Z",
     "shell.execute_reply": "2021-05-25T20:50:42.587497Z",
     "shell.execute_reply.started": "2021-05-25T20:50:42.414688Z"
    }
   },
   "outputs": [],
   "source": [
    "# Save randomization output\n",
    "\n",
    "filename = 'data_brand_gen_rand.csv'\n",
    "df_rand_res.to_csv(rpath+directory_name+filename)"
   ]
  },
  {
   "cell_type": "code",
   "execution_count": 81,
   "id": "76c524df",
   "metadata": {
    "execution": {
     "iopub.execute_input": "2021-05-25T21:15:36.462086Z",
     "iopub.status.busy": "2021-05-25T21:15:36.461560Z",
     "iopub.status.idle": "2021-05-25T21:15:36.470386Z",
     "shell.execute_reply": "2021-05-25T21:15:36.469394Z",
     "shell.execute_reply.started": "2021-05-25T21:15:36.462040Z"
    },
    "tags": []
   },
   "outputs": [],
   "source": [
    "def get_acc_p_val(original_df, rand_df):\n",
    "    \"\"\"\n",
    "    Purpose: Print the p-value for the results observed compared to random \n",
    "        chance expectation\n",
    "    Returns:\n",
    "    original_df: df of results from original \n",
    "        accuracy assessment of recs\n",
    "    rand_df: df of results from randomization\n",
    "    \"\"\"\n",
    "    # Get original accuracy \n",
    "    perc_corr_original = original_df['perc_correct'][0]\n",
    "\n",
    "    # Get the proportion of randomization results that were equal to \n",
    "    #   or greater than the original accuracy\n",
    "    rand_p_val = (\n",
    "        (rand_df.perc_correct[rand_df['perc_correct'] >= \\\n",
    "                             perc_corr_original].sum()/1000) * 100\n",
    "    )\n",
    "    \n",
    "    text = f\"The probability of observing the original recommendation \" \\\n",
    "           f\"accuracy of {perc_corr_original}% if the results were due \" \\\n",
    "           f\"to random chance is {rand_p_val}%\"\n",
    "\n",
    "    print(text)\n",
    "    \n",
    "    return rand_p_val"
   ]
  },
  {
   "cell_type": "code",
   "execution_count": 83,
   "id": "db528b32",
   "metadata": {
    "execution": {
     "iopub.execute_input": "2021-05-25T21:15:50.039051Z",
     "iopub.status.busy": "2021-05-25T21:15:50.038540Z",
     "iopub.status.idle": "2021-05-25T21:15:50.045123Z",
     "shell.execute_reply": "2021-05-25T21:15:50.044282Z",
     "shell.execute_reply.started": "2021-05-25T21:15:50.039008Z"
    },
    "tags": []
   },
   "outputs": [
    {
     "name": "stdout",
     "output_type": "stream",
     "text": [
      "The probability of observing the original recommendation accuracy of 83.33% if the results were due to random chance is 0.0%\n"
     ]
    }
   ],
   "source": [
    "rand_p_val = get_acc_p_val(df_cos_sim_val_res, df_rand_res)"
   ]
  },
  {
   "cell_type": "code",
   "execution_count": 90,
   "id": "429a3aed",
   "metadata": {
    "execution": {
     "iopub.execute_input": "2021-05-25T21:23:31.222320Z",
     "iopub.status.busy": "2021-05-25T21:23:31.221977Z",
     "iopub.status.idle": "2021-05-25T21:23:31.231201Z",
     "shell.execute_reply": "2021-05-25T21:23:31.230226Z",
     "shell.execute_reply.started": "2021-05-25T21:23:31.222286Z"
    },
    "tags": []
   },
   "outputs": [
    {
     "name": "stdout",
     "output_type": "stream",
     "text": [
      "The average recommendation accuracy for the 1000 randomizationsis: 0.28%\n",
      "The median recommendation accuracy for the 1000 randomizationsis: 0.0%\n"
     ]
    }
   ],
   "source": [
    "# calculate the average accuracy from the randomization results\n",
    "\n",
    "rand_mean_acc = round(df_rand_res['perc_correct'].mean(),2)\n",
    "rand_med_acc = round(df_rand_res['perc_correct'].median(),2)\n",
    "\n",
    "print(f\"The average recommendation accuracy for the 1000 randomizations\" \\\n",
    "      f\"is: {rand_mean_acc}%\")\n",
    "print(f\"The median recommendation accuracy for the 1000 randomizations\" \\\n",
    "      f\"is: {rand_med_acc}%\")"
   ]
  },
  {
   "cell_type": "code",
   "execution_count": 88,
   "id": "8142468a",
   "metadata": {
    "execution": {
     "iopub.execute_input": "2021-05-25T21:21:58.948961Z",
     "iopub.status.busy": "2021-05-25T21:21:58.948571Z",
     "iopub.status.idle": "2021-05-25T21:21:58.955992Z",
     "shell.execute_reply": "2021-05-25T21:21:58.954785Z",
     "shell.execute_reply.started": "2021-05-25T21:21:58.948922Z"
    },
    "tags": []
   },
   "outputs": [
    {
     "data": {
      "text/plain": [
       "0.28"
      ]
     },
     "execution_count": 88,
     "metadata": {},
     "output_type": "execute_result"
    }
   ],
   "source": [
    "rand_mean_acc"
   ]
  },
  {
   "cell_type": "code",
   "execution_count": null,
   "id": "cbe920b0",
   "metadata": {},
   "outputs": [],
   "source": [
    "# Randomly shuffle product names\n",
    "\n",
    "df_rand['product'] = random.permutation(df['product'].values)\n",
    "\n",
    "\n",
    "\n",
    "df_tsvd_full_rand = resample(df_tsvd_full, replace=True,\n",
    "                             n_samples=len(df_tsvd_full))\n",
    "df_tmp_boot"
   ]
  },
  {
   "cell_type": "code",
   "execution_count": 169,
   "id": "85928036",
   "metadata": {
    "execution": {
     "iopub.execute_input": "2021-05-25T14:49:21.287960Z",
     "iopub.status.busy": "2021-05-25T14:49:21.287612Z",
     "iopub.status.idle": "2021-05-25T14:49:21.294855Z",
     "shell.execute_reply": "2021-05-25T14:49:21.293916Z",
     "shell.execute_reply.started": "2021-05-25T14:49:21.287928Z"
    },
    "tags": []
   },
   "outputs": [],
   "source": [
    "# Get example product to test\n",
    "\n",
    "ex_prod = brand_name_prod[:1].values"
   ]
  },
  {
   "cell_type": "code",
   "execution_count": 159,
   "id": "a2ef96da",
   "metadata": {
    "execution": {
     "iopub.execute_input": "2021-05-25T14:43:15.496550Z",
     "iopub.status.busy": "2021-05-25T14:43:15.496158Z",
     "iopub.status.idle": "2021-05-25T14:43:15.594058Z",
     "shell.execute_reply": "2021-05-25T14:43:15.593318Z",
     "shell.execute_reply.started": "2021-05-25T14:43:15.496517Z"
    },
    "tags": []
   },
   "outputs": [],
   "source": [
    "# Calculate Cosine Similarities\n",
    "\n",
    "res_cosine = (\n",
    "    cos_sim(df_tsvd_full_features.loc[ex_prod,:],\n",
    "                      df_tsvd_full_features)\n",
    ")"
   ]
  },
  {
   "cell_type": "code",
   "execution_count": 160,
   "id": "95694a29",
   "metadata": {
    "execution": {
     "iopub.execute_input": "2021-05-25T14:43:16.409709Z",
     "iopub.status.busy": "2021-05-25T14:43:16.409342Z",
     "iopub.status.idle": "2021-05-25T14:43:16.424814Z",
     "shell.execute_reply": "2021-05-25T14:43:16.423982Z",
     "shell.execute_reply.started": "2021-05-25T14:43:16.409675Z"
    },
    "tags": []
   },
   "outputs": [],
   "source": [
    "# Convert to df\n",
    "\n",
    "res_cosine = pd.DataFrame(res_cosine.transpose()) \\\n",
    "               .rename(columns={0:'cosine_sim'})"
   ]
  },
  {
   "cell_type": "code",
   "execution_count": 163,
   "id": "e2f15726",
   "metadata": {
    "execution": {
     "iopub.execute_input": "2021-05-25T14:43:18.652560Z",
     "iopub.status.busy": "2021-05-25T14:43:18.651990Z",
     "iopub.status.idle": "2021-05-25T14:43:18.683195Z",
     "shell.execute_reply": "2021-05-25T14:43:18.682749Z",
     "shell.execute_reply.started": "2021-05-25T14:43:18.652496Z"
    },
    "tags": []
   },
   "outputs": [],
   "source": [
    "# Add product info to cosine sim results\n",
    "\n",
    "df_cos_sim = add_prod_info(new_df=res_cosine, original_df=df_tsvd_full,\n",
    "                           col_names=prod_info, prod_names_col='product')"
   ]
  },
  {
   "cell_type": "code",
   "execution_count": 164,
   "id": "94235c5d",
   "metadata": {
    "execution": {
     "iopub.execute_input": "2021-05-25T14:43:19.781291Z",
     "iopub.status.busy": "2021-05-25T14:43:19.780865Z",
     "iopub.status.idle": "2021-05-25T14:43:19.787799Z",
     "shell.execute_reply": "2021-05-25T14:43:19.786839Z",
     "shell.execute_reply.started": "2021-05-25T14:43:19.781252Z"
    },
    "tags": []
   },
   "outputs": [],
   "source": [
    "# Round to 4 digits\n",
    "\n",
    "df_cos_sim['cosine_sim'] = df_cos_sim['cosine_sim'].round(4)"
   ]
  },
  {
   "cell_type": "code",
   "execution_count": 177,
   "id": "4e15f9c3",
   "metadata": {
    "execution": {
     "iopub.execute_input": "2021-05-25T14:53:55.937193Z",
     "iopub.status.busy": "2021-05-25T14:53:55.936792Z",
     "iopub.status.idle": "2021-05-25T14:53:55.946434Z",
     "shell.execute_reply": "2021-05-25T14:53:55.945651Z",
     "shell.execute_reply.started": "2021-05-25T14:53:55.937161Z"
    },
    "tags": []
   },
   "outputs": [],
   "source": [
    "# Extract top 6 most similar results\n",
    "\n",
    "df_cos_sim_topres = df_cos_sim.nlargest(6,'cosine_sim')"
   ]
  },
  {
   "cell_type": "code",
   "execution_count": 192,
   "id": "bce2a8c6",
   "metadata": {
    "execution": {
     "iopub.execute_input": "2021-05-25T15:16:10.980166Z",
     "iopub.status.busy": "2021-05-25T15:16:10.976555Z",
     "iopub.status.idle": "2021-05-25T15:16:11.046145Z",
     "shell.execute_reply": "2021-05-25T15:16:11.045288Z",
     "shell.execute_reply.started": "2021-05-25T15:16:10.979664Z"
    },
    "tags": []
   },
   "outputs": [],
   "source": [
    "# Filter df without input product (should always be with cosine sim of 1)\n",
    "\n",
    "df_cos_sim_topres = (\n",
    "    df_cos_sim_topres[~df_cos_sim_topres['product'].isin(ex_prod)]\n",
    ")"
   ]
  },
  {
   "cell_type": "code",
   "execution_count": 173,
   "id": "7a92c1ef",
   "metadata": {
    "execution": {
     "iopub.execute_input": "2021-05-25T14:50:16.573274Z",
     "iopub.status.busy": "2021-05-25T14:50:16.572713Z",
     "iopub.status.idle": "2021-05-25T14:50:16.587134Z",
     "shell.execute_reply": "2021-05-25T14:50:16.586219Z",
     "shell.execute_reply.started": "2021-05-25T14:50:16.573212Z"
    },
    "tags": []
   },
   "outputs": [
    {
     "data": {
      "text/plain": [
       "74    Cetaphil_cleanser_generic\n",
       "Name: brand_generic, dtype: object"
      ]
     },
     "execution_count": 173,
     "metadata": {},
     "output_type": "execute_result"
    }
   ],
   "source": [
    "# Check if top result matches by \n",
    "# 1 remove top result\n",
    "# 2 compare brand_generic ID to itself\n",
    "\n",
    "ex_prod\n",
    "\n",
    "df_brand_gen.query('product in @ex_prod')['brand_generic']"
   ]
  },
  {
   "cell_type": "code",
   "execution_count": 198,
   "id": "e8ed13ae",
   "metadata": {
    "execution": {
     "iopub.execute_input": "2021-05-25T15:24:27.649781Z",
     "iopub.status.busy": "2021-05-25T15:24:27.649438Z",
     "iopub.status.idle": "2021-05-25T15:24:27.683105Z",
     "shell.execute_reply": "2021-05-25T15:24:27.681988Z",
     "shell.execute_reply.started": "2021-05-25T15:24:27.649749Z"
    }
   },
   "outputs": [],
   "source": [
    "# Get brand generic label for input product\n",
    "\n",
    "input_prod_label = df_brand_gen.query('product in @ex_prod')['brand_generic']"
   ]
  },
  {
   "cell_type": "code",
   "execution_count": 199,
   "id": "317da52f",
   "metadata": {
    "execution": {
     "iopub.execute_input": "2021-05-25T15:24:27.983142Z",
     "iopub.status.busy": "2021-05-25T15:24:27.982804Z",
     "iopub.status.idle": "2021-05-25T15:24:27.989622Z",
     "shell.execute_reply": "2021-05-25T15:24:27.988671Z",
     "shell.execute_reply.started": "2021-05-25T15:24:27.983110Z"
    },
    "tags": []
   },
   "outputs": [],
   "source": [
    "# Get brand_generic label for top result\n",
    "\n",
    "top_res_prod_label = (\n",
    "    df_cos_sim_topres.nlargest(1,'cosine_sim')['brand_generic']\n",
    ")"
   ]
  },
  {
   "cell_type": "code",
   "execution_count": null,
   "id": "2529bb46",
   "metadata": {},
   "outputs": [],
   "source": [
    "# Compare brand_generic label of input product \n",
    "\n",
    "input_prod_label == top_res_prod_label"
   ]
  },
  {
   "cell_type": "code",
   "execution_count": null,
   "id": "80df4c4e",
   "metadata": {},
   "outputs": [],
   "source": []
  },
  {
   "cell_type": "code",
   "execution_count": null,
   "id": "a2fc2091",
   "metadata": {},
   "outputs": [],
   "source": []
  },
  {
   "cell_type": "code",
   "execution_count": null,
   "id": "a263bc7c",
   "metadata": {},
   "outputs": [],
   "source": [
    "# Calculate cosine similarity for feature 1 \n",
    "res_cosine = cosine_similarity(features.loc['A+ High-Dose Retinoid Serum',:].to_frame().transpose(), features) #[0:1] .loc[\"Essential-C Cleanser\",:]\n",
    "res_cosine = res_cosine.reshape(-1)\n",
    "res_cosine = pd.DataFrame(res_cosine)\n",
    "res_sim=df[['product','brand','product_type','price','size','ratings', 'active','vit_a',\n",
    "            'total_reviews','link','price_oz']].copy()\n",
    "res_sim['similarity']=res_cosine[[0]]\n",
    "# Round similarity metric\n",
    "#res_sim['similarity']=round(res_sim['similarity'],2)\n",
    "# Maybe don't round so you don't have to deal with ties?\n",
    "#indexNames = res_sim[res_sim['product']=='Essential-C Cleanser'].index\n",
    "#res_sim.drop(indexNames, inplace=True)\n",
    "# Sort from top similarity metrics and ignoring self, so starting at 1, not zero\n",
    "test = res_sim.nlargest(5, 'similarity')[1:5]\n",
    "#res_sim.head()\n",
    "# Select top match\n",
    "test[:10]\n",
    "#Good Genes All-In-One Lactic Acid Treatment\n",
    "#A+ High-Dose Retinoid Serum\n",
    "# Generic vs similar validation\n",
    "# Cetaphil Daily Facial Cleanser\n",
    "# Cetaphil Fragrance Free Moisturizing Cream : 0.959282\n",
    "# Banana Boat Ultra Sport Sunscreen Lotion, Broad Spectum SPF 30 : 0.999971\n",
    "# St. Ives Fresh Skin Face Scrub, Apricot : 0.999748\n",
    "# Clean & Clear Essentials Deep Cleaning Toner Sensitive Skin : 0.999994\n",
    "# Aveeno Positively Radiant Brightening & Exfoliating Face Scrub : 0.990599\n",
    "\n",
    "#test[test['vit_a']==1]"
   ]
  },
  {
   "cell_type": "code",
   "execution_count": null,
   "id": "d1dfd4c2",
   "metadata": {},
   "outputs": [],
   "source": []
  },
  {
   "cell_type": "code",
   "execution_count": null,
   "id": "8f4cfbb1",
   "metadata": {},
   "outputs": [],
   "source": []
  },
  {
   "cell_type": "code",
   "execution_count": null,
   "id": "1b1f201e",
   "metadata": {},
   "outputs": [],
   "source": []
  },
  {
   "cell_type": "code",
   "execution_count": null,
   "id": "da6231e1",
   "metadata": {},
   "outputs": [],
   "source": []
  },
  {
   "cell_type": "code",
   "execution_count": null,
   "id": "8bdce084",
   "metadata": {},
   "outputs": [],
   "source": []
  }
 ],
 "metadata": {
  "kernelspec": {
   "display_name": "Python [conda env:data_chall] *",
   "language": "python",
   "name": "conda-env-data_chall-py"
  },
  "language_info": {
   "codemirror_mode": {
    "name": "ipython",
    "version": 3
   },
   "file_extension": ".py",
   "mimetype": "text/x-python",
   "name": "python",
   "nbconvert_exporter": "python",
   "pygments_lexer": "ipython3",
   "version": "3.8.8"
  }
 },
 "nbformat": 4,
 "nbformat_minor": 5
}
