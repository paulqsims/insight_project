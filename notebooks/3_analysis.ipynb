{
 "cells": [
  {
   "cell_type": "markdown",
   "id": "359627de",
   "metadata": {},
   "source": [
    "# Analysis for Insight Project"
   ]
  },
  {
   "cell_type": "markdown",
   "id": "78c385a3",
   "metadata": {},
   "source": [
    "## Setup"
   ]
  },
  {
   "cell_type": "code",
   "execution_count": 17,
   "id": "4eadc6eb",
   "metadata": {
    "execution": {
     "iopub.execute_input": "2021-05-24T19:43:46.758253Z",
     "iopub.status.busy": "2021-05-24T19:43:46.757751Z",
     "iopub.status.idle": "2021-05-24T19:43:46.771746Z",
     "shell.execute_reply": "2021-05-24T19:43:46.770328Z",
     "shell.execute_reply.started": "2021-05-24T19:43:46.758198Z"
    },
    "tags": []
   },
   "outputs": [],
   "source": [
    "# import modules\n",
    "import pandas as pd\n",
    "import numpy as np\n",
    "import rootpath\n",
    "from sklearn.cluster import KMeans\n",
    "from sklearn.metrics import silhouette_score\n",
    "import sklearn.metrics as metrics\n",
    "from sklearn.utils import resample\n",
    "\n",
    "from sklearn.metrics.pairwise import cosine_similarity as cos_sim\n",
    "\n",
    "#import qgrid\n",
    "import matplotlib.pyplot as plt\n",
    "import seaborn as sns"
   ]
  },
  {
   "cell_type": "markdown",
   "id": "dacb5628",
   "metadata": {},
   "source": [
    "### Locate files"
   ]
  },
  {
   "cell_type": "code",
   "execution_count": 4,
   "id": "adc5c41d",
   "metadata": {
    "execution": {
     "iopub.execute_input": "2021-05-24T19:16:11.243306Z",
     "iopub.status.busy": "2021-05-24T19:16:11.242960Z",
     "iopub.status.idle": "2021-05-24T19:16:11.248501Z",
     "shell.execute_reply": "2021-05-24T19:16:11.247526Z",
     "shell.execute_reply.started": "2021-05-24T19:16:11.243274Z"
    },
    "tags": []
   },
   "outputs": [],
   "source": [
    "# Set paths for project\n",
    "\n",
    "# Set rootpath for project\n",
    "rpath = rootpath.detect()\n",
    "\n",
    "# Set directory\n",
    "directory_name = '/data/clean/'\n",
    "\n",
    "# Set filename\n",
    "file_name = 'data_tsvd_full.csv'"
   ]
  },
  {
   "cell_type": "markdown",
   "id": "ca656eb7",
   "metadata": {},
   "source": [
    "### Compile data"
   ]
  },
  {
   "cell_type": "code",
   "execution_count": 5,
   "id": "acfd2d80",
   "metadata": {
    "execution": {
     "iopub.execute_input": "2021-05-24T19:16:13.443594Z",
     "iopub.status.busy": "2021-05-24T19:16:13.443199Z",
     "iopub.status.idle": "2021-05-24T19:16:13.556825Z",
     "shell.execute_reply": "2021-05-24T19:16:13.556493Z",
     "shell.execute_reply.started": "2021-05-24T19:16:13.443556Z"
    },
    "tags": []
   },
   "outputs": [],
   "source": [
    "df_tsvd_full = pd.read_csv(rpath+directory_name+file_name, index_col=0)"
   ]
  },
  {
   "cell_type": "markdown",
   "id": "76ec9238",
   "metadata": {},
   "source": [
    "# Analysis: Cosine similarity"
   ]
  },
  {
   "cell_type": "code",
   "execution_count": 6,
   "id": "d6bc2bb6",
   "metadata": {
    "execution": {
     "iopub.execute_input": "2021-05-24T19:34:57.338374Z",
     "iopub.status.busy": "2021-05-24T19:34:57.337893Z",
     "iopub.status.idle": "2021-05-24T19:34:57.387390Z",
     "shell.execute_reply": "2021-05-24T19:34:57.386732Z",
     "shell.execute_reply.started": "2021-05-24T19:34:57.338328Z"
    }
   },
   "outputs": [
    {
     "data": {
      "text/html": [
       "<div>\n",
       "<style scoped>\n",
       "    .dataframe tbody tr th:only-of-type {\n",
       "        vertical-align: middle;\n",
       "    }\n",
       "\n",
       "    .dataframe tbody tr th {\n",
       "        vertical-align: top;\n",
       "    }\n",
       "\n",
       "    .dataframe thead th {\n",
       "        text-align: right;\n",
       "    }\n",
       "</style>\n",
       "<table border=\"1\" class=\"dataframe\">\n",
       "  <thead>\n",
       "    <tr style=\"text-align: right;\">\n",
       "      <th></th>\n",
       "      <th>product</th>\n",
       "      <th>use_category</th>\n",
       "      <th>brand</th>\n",
       "      <th>brand_generic</th>\n",
       "      <th>size</th>\n",
       "      <th>price</th>\n",
       "      <th>link</th>\n",
       "      <th>0</th>\n",
       "      <th>1</th>\n",
       "      <th>2</th>\n",
       "      <th>...</th>\n",
       "      <th>390</th>\n",
       "      <th>391</th>\n",
       "      <th>392</th>\n",
       "      <th>393</th>\n",
       "      <th>394</th>\n",
       "      <th>395</th>\n",
       "      <th>396</th>\n",
       "      <th>397</th>\n",
       "      <th>398</th>\n",
       "      <th>399</th>\n",
       "    </tr>\n",
       "  </thead>\n",
       "  <tbody>\n",
       "    <tr>\n",
       "      <th>0</th>\n",
       "      <td>''Buffet''</td>\n",
       "      <td>treatments and serums</td>\n",
       "      <td>The Ordinary</td>\n",
       "      <td>non_generic</td>\n",
       "      <td>1.0</td>\n",
       "      <td>14.8</td>\n",
       "      <td>https://www.ulta.com/buffet?productId=pimprod2...</td>\n",
       "      <td>1.192140e-01</td>\n",
       "      <td>-3.804440e-03</td>\n",
       "      <td>-4.712197e-02</td>\n",
       "      <td>...</td>\n",
       "      <td>4.975841e-03</td>\n",
       "      <td>-3.680744e-03</td>\n",
       "      <td>2.543059e-04</td>\n",
       "      <td>-1.989861e-02</td>\n",
       "      <td>-7.760412e-04</td>\n",
       "      <td>4.739525e-03</td>\n",
       "      <td>3.849221e-03</td>\n",
       "      <td>-8.177239e-03</td>\n",
       "      <td>-3.971372e-03</td>\n",
       "      <td>-2.401545e-03</td>\n",
       "    </tr>\n",
       "    <tr>\n",
       "      <th>1</th>\n",
       "      <td>''Buffet'' + Copper Peptides 1%</td>\n",
       "      <td>treatments and serums</td>\n",
       "      <td>The Ordinary</td>\n",
       "      <td>non_generic</td>\n",
       "      <td>1.0</td>\n",
       "      <td>28.9</td>\n",
       "      <td>https://www.ulta.com/buffet-copper-peptides-1?...</td>\n",
       "      <td>1.128972e-01</td>\n",
       "      <td>-5.423432e-03</td>\n",
       "      <td>-4.304833e-02</td>\n",
       "      <td>...</td>\n",
       "      <td>7.069513e-03</td>\n",
       "      <td>-1.534115e-03</td>\n",
       "      <td>1.733428e-03</td>\n",
       "      <td>-2.460251e-02</td>\n",
       "      <td>-6.212722e-03</td>\n",
       "      <td>4.548193e-03</td>\n",
       "      <td>1.157866e-02</td>\n",
       "      <td>-1.369132e-02</td>\n",
       "      <td>-9.901973e-03</td>\n",
       "      <td>-3.717259e-03</td>\n",
       "    </tr>\n",
       "    <tr>\n",
       "      <th>2</th>\n",
       "      <td>+Retinol Vita C Power Serum Firming + Brighten...</td>\n",
       "      <td>treatments and serums</td>\n",
       "      <td>Kate Somerville</td>\n",
       "      <td>non_generic</td>\n",
       "      <td>1.0</td>\n",
       "      <td>98.0</td>\n",
       "      <td>https://www.ulta.com/retinol-vita-c-power-seru...</td>\n",
       "      <td>1.763208e-01</td>\n",
       "      <td>-9.768409e-02</td>\n",
       "      <td>-4.131444e-02</td>\n",
       "      <td>...</td>\n",
       "      <td>-1.618833e-03</td>\n",
       "      <td>1.823084e-04</td>\n",
       "      <td>-5.280194e-03</td>\n",
       "      <td>1.789686e-02</td>\n",
       "      <td>-2.325558e-02</td>\n",
       "      <td>-5.912855e-03</td>\n",
       "      <td>-9.878723e-03</td>\n",
       "      <td>-2.759905e-03</td>\n",
       "      <td>1.271354e-02</td>\n",
       "      <td>-9.616596e-03</td>\n",
       "    </tr>\n",
       "    <tr>\n",
       "      <th>3</th>\n",
       "      <td>+Retinol Vitamin C Moisturizer</td>\n",
       "      <td>moisturizer</td>\n",
       "      <td>Kate Somerville</td>\n",
       "      <td>non_generic</td>\n",
       "      <td>1.7</td>\n",
       "      <td>90.0</td>\n",
       "      <td>https://www.ulta.com/retinol-vitamin-c-moistur...</td>\n",
       "      <td>1.800270e-01</td>\n",
       "      <td>-1.009160e-01</td>\n",
       "      <td>9.997509e-02</td>\n",
       "      <td>...</td>\n",
       "      <td>-3.876801e-03</td>\n",
       "      <td>-2.827020e-02</td>\n",
       "      <td>-4.686050e-03</td>\n",
       "      <td>-2.194605e-03</td>\n",
       "      <td>-1.696343e-02</td>\n",
       "      <td>1.074598e-02</td>\n",
       "      <td>-6.572581e-03</td>\n",
       "      <td>1.421381e-04</td>\n",
       "      <td>3.262727e-03</td>\n",
       "      <td>-6.652446e-03</td>\n",
       "    </tr>\n",
       "    <tr>\n",
       "      <th>4</th>\n",
       "      <td>100% Plant-Derived Squalane</td>\n",
       "      <td>treatments and serums</td>\n",
       "      <td>The Ordinary</td>\n",
       "      <td>non_generic</td>\n",
       "      <td>1.0</td>\n",
       "      <td>7.9</td>\n",
       "      <td>https://www.ulta.com/100-plant-derived-squalan...</td>\n",
       "      <td>3.152109e-17</td>\n",
       "      <td>2.409649e-14</td>\n",
       "      <td>-2.723232e-14</td>\n",
       "      <td>...</td>\n",
       "      <td>2.049383e-07</td>\n",
       "      <td>-2.436632e-07</td>\n",
       "      <td>-2.774561e-07</td>\n",
       "      <td>-2.640047e-07</td>\n",
       "      <td>-2.182120e-07</td>\n",
       "      <td>2.153553e-07</td>\n",
       "      <td>1.834869e-07</td>\n",
       "      <td>1.445371e-07</td>\n",
       "      <td>-1.898183e-07</td>\n",
       "      <td>-2.561501e-07</td>\n",
       "    </tr>\n",
       "  </tbody>\n",
       "</table>\n",
       "<p>5 rows × 407 columns</p>\n",
       "</div>"
      ],
      "text/plain": [
       "                                             product           use_category  \\\n",
       "0                                         ''Buffet''  treatments and serums   \n",
       "1                    ''Buffet'' + Copper Peptides 1%  treatments and serums   \n",
       "2  +Retinol Vita C Power Serum Firming + Brighten...  treatments and serums   \n",
       "3                     +Retinol Vitamin C Moisturizer            moisturizer   \n",
       "4                        100% Plant-Derived Squalane  treatments and serums   \n",
       "\n",
       "             brand brand_generic size price  \\\n",
       "0     The Ordinary   non_generic  1.0  14.8   \n",
       "1     The Ordinary   non_generic  1.0  28.9   \n",
       "2  Kate Somerville   non_generic  1.0  98.0   \n",
       "3  Kate Somerville   non_generic  1.7  90.0   \n",
       "4     The Ordinary   non_generic  1.0   7.9   \n",
       "\n",
       "                                                link             0  \\\n",
       "0  https://www.ulta.com/buffet?productId=pimprod2...  1.192140e-01   \n",
       "1  https://www.ulta.com/buffet-copper-peptides-1?...  1.128972e-01   \n",
       "2  https://www.ulta.com/retinol-vita-c-power-seru...  1.763208e-01   \n",
       "3  https://www.ulta.com/retinol-vitamin-c-moistur...  1.800270e-01   \n",
       "4  https://www.ulta.com/100-plant-derived-squalan...  3.152109e-17   \n",
       "\n",
       "              1             2  ...           390           391           392  \\\n",
       "0 -3.804440e-03 -4.712197e-02  ...  4.975841e-03 -3.680744e-03  2.543059e-04   \n",
       "1 -5.423432e-03 -4.304833e-02  ...  7.069513e-03 -1.534115e-03  1.733428e-03   \n",
       "2 -9.768409e-02 -4.131444e-02  ... -1.618833e-03  1.823084e-04 -5.280194e-03   \n",
       "3 -1.009160e-01  9.997509e-02  ... -3.876801e-03 -2.827020e-02 -4.686050e-03   \n",
       "4  2.409649e-14 -2.723232e-14  ...  2.049383e-07 -2.436632e-07 -2.774561e-07   \n",
       "\n",
       "            393           394           395           396           397  \\\n",
       "0 -1.989861e-02 -7.760412e-04  4.739525e-03  3.849221e-03 -8.177239e-03   \n",
       "1 -2.460251e-02 -6.212722e-03  4.548193e-03  1.157866e-02 -1.369132e-02   \n",
       "2  1.789686e-02 -2.325558e-02 -5.912855e-03 -9.878723e-03 -2.759905e-03   \n",
       "3 -2.194605e-03 -1.696343e-02  1.074598e-02 -6.572581e-03  1.421381e-04   \n",
       "4 -2.640047e-07 -2.182120e-07  2.153553e-07  1.834869e-07  1.445371e-07   \n",
       "\n",
       "            398           399  \n",
       "0 -3.971372e-03 -2.401545e-03  \n",
       "1 -9.901973e-03 -3.717259e-03  \n",
       "2  1.271354e-02 -9.616596e-03  \n",
       "3  3.262727e-03 -6.652446e-03  \n",
       "4 -1.898183e-07 -2.561501e-07  \n",
       "\n",
       "[5 rows x 407 columns]"
      ]
     },
     "execution_count": 6,
     "metadata": {},
     "output_type": "execute_result"
    }
   ],
   "source": [
    "df_tsvd_full.head()"
   ]
  },
  {
   "cell_type": "code",
   "execution_count": 151,
   "id": "40838d8d",
   "metadata": {
    "execution": {
     "iopub.execute_input": "2021-05-25T14:38:14.884491Z",
     "iopub.status.busy": "2021-05-25T14:38:14.884137Z",
     "iopub.status.idle": "2021-05-25T14:38:14.980987Z",
     "shell.execute_reply": "2021-05-25T14:38:14.980499Z",
     "shell.execute_reply.started": "2021-05-25T14:38:14.884459Z"
    },
    "tags": []
   },
   "outputs": [],
   "source": [
    "# Separate features from product information\n",
    "\n",
    "prod_info = ['use_category', 'brand', 'brand_generic',\n",
    "             'size', 'price', 'link']\n",
    "\n",
    "df_tsvd_full_features = df_tsvd_full.drop(prod_info, axis=1) \\\n",
    "                                    .set_index('product')"
   ]
  },
  {
   "cell_type": "markdown",
   "id": "40b48281",
   "metadata": {},
   "source": [
    "## Validation: Similarity recommendations for brand vs. generic versions"
   ]
  },
  {
   "cell_type": "markdown",
   "id": "1e078880",
   "metadata": {},
   "source": [
    "1. Get list of brand_generic products\n",
    "2. Get list of brands\n",
    "3. For each product in brands, check cosine similarity\n",
    "    See if top result brand_generic matches \n",
    "    Yes or no"
   ]
  },
  {
   "cell_type": "code",
   "execution_count": 11,
   "id": "9616c5c3",
   "metadata": {
    "execution": {
     "iopub.execute_input": "2021-05-24T19:41:06.106562Z",
     "iopub.status.busy": "2021-05-24T19:41:06.106237Z",
     "iopub.status.idle": "2021-05-24T19:41:06.114685Z",
     "shell.execute_reply": "2021-05-24T19:41:06.113910Z",
     "shell.execute_reply.started": "2021-05-24T19:41:06.106529Z"
    }
   },
   "outputs": [],
   "source": [
    "def filter_string(list_of_strings, string_to_remove):\n",
    "    \"\"\"\n",
    "    Purpose: filters a string(s) from a list of strings\n",
    "    Returns: a list without the indicated string(s)\n",
    "    string_to_remove: MUST BE A LIST\n",
    "    \"\"\"\n",
    "    new_list = [string for string in list_of_strings \\\n",
    "                    if string not in string_to_remove]\n",
    "    return new_list"
   ]
  },
  {
   "cell_type": "code",
   "execution_count": 22,
   "id": "483df205",
   "metadata": {
    "execution": {
     "iopub.execute_input": "2021-05-24T19:45:55.207756Z",
     "iopub.status.busy": "2021-05-24T19:45:55.207161Z",
     "iopub.status.idle": "2021-05-24T19:45:55.215992Z",
     "shell.execute_reply": "2021-05-24T19:45:55.215084Z",
     "shell.execute_reply.started": "2021-05-24T19:45:55.207719Z"
    },
    "tags": []
   },
   "outputs": [],
   "source": [
    "# Extract brand_generic product labels\n",
    "\n",
    "brand_gen_labels = (\n",
    "    filter_string(df_tsvd_full['brand_generic'].unique(),'non_generic')\n",
    ")"
   ]
  },
  {
   "cell_type": "code",
   "execution_count": 201,
   "id": "be7d89b6",
   "metadata": {
    "execution": {
     "iopub.execute_input": "2021-05-25T17:41:20.994191Z",
     "iopub.status.busy": "2021-05-25T17:41:20.987864Z",
     "iopub.status.idle": "2021-05-25T17:41:21.060815Z",
     "shell.execute_reply": "2021-05-25T17:41:21.060094Z",
     "shell.execute_reply.started": "2021-05-25T17:41:20.993831Z"
    }
   },
   "outputs": [],
   "source": [
    "# List of brand name product brands \n",
    "# This does not include their generic versions\n",
    "\n",
    "brand_names = ['Aveeno','Banana boat','Cetaphil','Clean and Clear',\n",
    "               'St. Ives']"
   ]
  },
  {
   "cell_type": "code",
   "execution_count": 154,
   "id": "cef577f2",
   "metadata": {
    "collapsed": true,
    "execution": {
     "iopub.execute_input": "2021-05-25T14:39:05.684775Z",
     "iopub.status.busy": "2021-05-25T14:39:05.684435Z",
     "iopub.status.idle": "2021-05-25T14:39:05.711997Z",
     "shell.execute_reply": "2021-05-25T14:39:05.711064Z",
     "shell.execute_reply.started": "2021-05-25T14:39:05.684739Z"
    },
    "jupyter": {
     "outputs_hidden": true
    },
    "tags": []
   },
   "outputs": [
    {
     "data": {
      "text/html": [
       "<div>\n",
       "<style scoped>\n",
       "    .dataframe tbody tr th:only-of-type {\n",
       "        vertical-align: middle;\n",
       "    }\n",
       "\n",
       "    .dataframe tbody tr th {\n",
       "        vertical-align: top;\n",
       "    }\n",
       "\n",
       "    .dataframe thead th {\n",
       "        text-align: right;\n",
       "    }\n",
       "</style>\n",
       "<table border=\"1\" class=\"dataframe\">\n",
       "  <thead>\n",
       "    <tr style=\"text-align: right;\">\n",
       "      <th></th>\n",
       "      <th>use_category</th>\n",
       "      <th>brand</th>\n",
       "      <th>brand_generic</th>\n",
       "      <th>size</th>\n",
       "      <th>price</th>\n",
       "      <th>link</th>\n",
       "      <th>product</th>\n",
       "    </tr>\n",
       "  </thead>\n",
       "  <tbody>\n",
       "    <tr>\n",
       "      <th>74</th>\n",
       "      <td>cleanser</td>\n",
       "      <td>Solimo</td>\n",
       "      <td>Cetaphil_cleanser_generic</td>\n",
       "      <td>blank</td>\n",
       "      <td>blank</td>\n",
       "      <td>https://www.amazon.com/Amazon-Brand-Solimo-Fac...</td>\n",
       "      <td>Amazon Brand - Solimo Daily Facial Cleanser, N...</td>\n",
       "    </tr>\n",
       "    <tr>\n",
       "      <th>75</th>\n",
       "      <td>moisturizer</td>\n",
       "      <td>Solimo</td>\n",
       "      <td>Cetaphil_cream_generic</td>\n",
       "      <td>blank</td>\n",
       "      <td>blank</td>\n",
       "      <td>https://www.amazon.com/Amazon-Brand-Moisturizi...</td>\n",
       "      <td>Amazon Brand - Solimo Ultra Moisturizing Skin ...</td>\n",
       "    </tr>\n",
       "    <tr>\n",
       "      <th>104</th>\n",
       "      <td>cleanser</td>\n",
       "      <td>Aveeno</td>\n",
       "      <td>Aveeno_generic</td>\n",
       "      <td>blank</td>\n",
       "      <td>blank</td>\n",
       "      <td>https://www.cvs.com/shop/aveeno-positively-rad...</td>\n",
       "      <td>Aveeno Positively Radiant Brightening &amp; Exfoli...</td>\n",
       "    </tr>\n",
       "    <tr>\n",
       "      <th>107</th>\n",
       "      <td>moisturizer</td>\n",
       "      <td>Banana boat</td>\n",
       "      <td>BB_generic</td>\n",
       "      <td>blank</td>\n",
       "      <td>blank</td>\n",
       "      <td>https://www.amazon.com/Banana-Boat-Sunscreen-P...</td>\n",
       "      <td>Banana Boat Ultra Sport Sunscreen Lotion, Broa...</td>\n",
       "    </tr>\n",
       "    <tr>\n",
       "      <th>109</th>\n",
       "      <td>cleanser</td>\n",
       "      <td>Beauty 360</td>\n",
       "      <td>Aveeno_generic</td>\n",
       "      <td>blank</td>\n",
       "      <td>blank</td>\n",
       "      <td>https://www.cvs.com/shop/beauty-360-illuminati...</td>\n",
       "      <td>Beauty 360 Illuminating Facial Scrub</td>\n",
       "    </tr>\n",
       "    <tr>\n",
       "      <th>141</th>\n",
       "      <td>cleanser</td>\n",
       "      <td>CVS</td>\n",
       "      <td>CC_generic</td>\n",
       "      <td>blank</td>\n",
       "      <td>blank</td>\n",
       "      <td>https://www.cvs.com/shop/cvs-oil-controlling-a...</td>\n",
       "      <td>CVS Oil Controlling Astringent Sensitive Skin</td>\n",
       "    </tr>\n",
       "    <tr>\n",
       "      <th>157</th>\n",
       "      <td>cleanser</td>\n",
       "      <td>Cetaphil</td>\n",
       "      <td>Cetaphil_cleanser_generic</td>\n",
       "      <td>blank</td>\n",
       "      <td>blank</td>\n",
       "      <td>https://www.amazon.com/Cetaphil-Daily-Facial-C...</td>\n",
       "      <td>Cetaphil Daily Facial Cleanser</td>\n",
       "    </tr>\n",
       "    <tr>\n",
       "      <th>158</th>\n",
       "      <td>moisturizer</td>\n",
       "      <td>Cetaphil</td>\n",
       "      <td>Cetaphil_cream_generic</td>\n",
       "      <td>blank</td>\n",
       "      <td>blank</td>\n",
       "      <td>https://www.amazon.com/Cetaphil-Moisturizing-C...</td>\n",
       "      <td>Cetaphil Fragrance Free Moisturizing Cream</td>\n",
       "    </tr>\n",
       "    <tr>\n",
       "      <th>173</th>\n",
       "      <td>cleanser</td>\n",
       "      <td>Clean and Clear</td>\n",
       "      <td>CC_generic</td>\n",
       "      <td>blank</td>\n",
       "      <td>blank</td>\n",
       "      <td>https://www.cvs.com/shop/clean-clear-essential...</td>\n",
       "      <td>Clean &amp; Clear Essentials Deep Cleaning Toner S...</td>\n",
       "    </tr>\n",
       "    <tr>\n",
       "      <th>507</th>\n",
       "      <td>moisturizer</td>\n",
       "      <td>Mountain falls</td>\n",
       "      <td>BB_generic</td>\n",
       "      <td>blank</td>\n",
       "      <td>blank</td>\n",
       "      <td>https://www.amazon.com/Mountain-Falls-Sunscree...</td>\n",
       "      <td>Mountain Falls Active Sport Sunscreen Lotion, ...</td>\n",
       "    </tr>\n",
       "    <tr>\n",
       "      <th>508</th>\n",
       "      <td>cleanser</td>\n",
       "      <td>Mountain falls</td>\n",
       "      <td>StIves_generic</td>\n",
       "      <td>blank</td>\n",
       "      <td>blank</td>\n",
       "      <td>https://www.amazon.com/Mountain-Falls-Invigora...</td>\n",
       "      <td>Mountain Falls Invigorating Apricot Scrub Faci...</td>\n",
       "    </tr>\n",
       "    <tr>\n",
       "      <th>765</th>\n",
       "      <td>cleanser</td>\n",
       "      <td>St. Ives</td>\n",
       "      <td>StIves_generic</td>\n",
       "      <td>blank</td>\n",
       "      <td>blank</td>\n",
       "      <td>https://www.amazon.com/St-Ives-Fresh-Scrub-Apr...</td>\n",
       "      <td>St. Ives Fresh Skin Face Scrub, Apricot</td>\n",
       "    </tr>\n",
       "  </tbody>\n",
       "</table>\n",
       "</div>"
      ],
      "text/plain": [
       "    use_category            brand              brand_generic   size  price  \\\n",
       "74      cleanser           Solimo  Cetaphil_cleanser_generic  blank  blank   \n",
       "75   moisturizer           Solimo     Cetaphil_cream_generic  blank  blank   \n",
       "104     cleanser           Aveeno             Aveeno_generic  blank  blank   \n",
       "107  moisturizer      Banana boat                 BB_generic  blank  blank   \n",
       "109     cleanser       Beauty 360             Aveeno_generic  blank  blank   \n",
       "141     cleanser              CVS                 CC_generic  blank  blank   \n",
       "157     cleanser         Cetaphil  Cetaphil_cleanser_generic  blank  blank   \n",
       "158  moisturizer         Cetaphil     Cetaphil_cream_generic  blank  blank   \n",
       "173     cleanser  Clean and Clear                 CC_generic  blank  blank   \n",
       "507  moisturizer   Mountain falls                 BB_generic  blank  blank   \n",
       "508     cleanser   Mountain falls             StIves_generic  blank  blank   \n",
       "765     cleanser         St. Ives             StIves_generic  blank  blank   \n",
       "\n",
       "                                                  link  \\\n",
       "74   https://www.amazon.com/Amazon-Brand-Solimo-Fac...   \n",
       "75   https://www.amazon.com/Amazon-Brand-Moisturizi...   \n",
       "104  https://www.cvs.com/shop/aveeno-positively-rad...   \n",
       "107  https://www.amazon.com/Banana-Boat-Sunscreen-P...   \n",
       "109  https://www.cvs.com/shop/beauty-360-illuminati...   \n",
       "141  https://www.cvs.com/shop/cvs-oil-controlling-a...   \n",
       "157  https://www.amazon.com/Cetaphil-Daily-Facial-C...   \n",
       "158  https://www.amazon.com/Cetaphil-Moisturizing-C...   \n",
       "173  https://www.cvs.com/shop/clean-clear-essential...   \n",
       "507  https://www.amazon.com/Mountain-Falls-Sunscree...   \n",
       "508  https://www.amazon.com/Mountain-Falls-Invigora...   \n",
       "765  https://www.amazon.com/St-Ives-Fresh-Scrub-Apr...   \n",
       "\n",
       "                                               product  \n",
       "74   Amazon Brand - Solimo Daily Facial Cleanser, N...  \n",
       "75   Amazon Brand - Solimo Ultra Moisturizing Skin ...  \n",
       "104  Aveeno Positively Radiant Brightening & Exfoli...  \n",
       "107  Banana Boat Ultra Sport Sunscreen Lotion, Broa...  \n",
       "109               Beauty 360 Illuminating Facial Scrub  \n",
       "141      CVS Oil Controlling Astringent Sensitive Skin  \n",
       "157                     Cetaphil Daily Facial Cleanser  \n",
       "158         Cetaphil Fragrance Free Moisturizing Cream  \n",
       "173  Clean & Clear Essentials Deep Cleaning Toner S...  \n",
       "507  Mountain Falls Active Sport Sunscreen Lotion, ...  \n",
       "508  Mountain Falls Invigorating Apricot Scrub Faci...  \n",
       "765            St. Ives Fresh Skin Face Scrub, Apricot  "
      ]
     },
     "execution_count": 154,
     "metadata": {},
     "output_type": "execute_result"
    }
   ],
   "source": [
    "# Extract df of brand_generic products for comparison to similarity output\n",
    "\n",
    "# Get columns of product info only\n",
    "df_brand_gen = (\n",
    "    df_tsvd_full[df_tsvd_full.columns.intersection(prod_info)].copy()\n",
    ")\n",
    "\n",
    "# Add product\n",
    "df_brand_gen['product'] = df_tsvd_full['product']\n",
    "\n",
    "# Filter out only brand_generic products\n",
    "df_brand_gen = df_brand_gen.query('brand_generic == @brand_gen_labels')"
   ]
  },
  {
   "cell_type": "markdown",
   "id": "dea7abce",
   "metadata": {},
   "source": [
    "Next steps:\n",
    "- Automate check for correct brand generic as top recommendation\n",
    "- Remove self from top recommendations and then return top 5\n",
    "- Do this for all brand_generics\n",
    "- Automate with functions and display results"
   ]
  },
  {
   "cell_type": "code",
   "execution_count": 224,
   "id": "c2b9b70f",
   "metadata": {
    "execution": {
     "iopub.execute_input": "2021-05-25T18:04:35.271999Z",
     "iopub.status.busy": "2021-05-25T18:04:35.269588Z",
     "iopub.status.idle": "2021-05-25T18:04:35.360012Z",
     "shell.execute_reply": "2021-05-25T18:04:35.359574Z",
     "shell.execute_reply.started": "2021-05-25T18:04:35.271957Z"
    },
    "tags": []
   },
   "outputs": [],
   "source": [
    "# Extract product names for brand name products only\n",
    "# These are the input products for checking recommendation\n",
    "#   accuracy for specific products\n",
    "\n",
    "brand_name_prod = (\n",
    "    df_tsvd_full.query('brand_generic == @brand_gen_labels and \\\n",
    "                        brand == @brand_names')['product']\n",
    ")"
   ]
  },
  {
   "cell_type": "code",
   "execution_count": 335,
   "id": "6c532407",
   "metadata": {
    "execution": {
     "iopub.execute_input": "2021-05-25T18:55:20.189578Z",
     "iopub.status.busy": "2021-05-25T18:55:20.188951Z",
     "iopub.status.idle": "2021-05-25T18:55:20.325499Z",
     "shell.execute_reply": "2021-05-25T18:55:20.324905Z",
     "shell.execute_reply.started": "2021-05-25T18:55:20.189535Z"
    },
    "tags": []
   },
   "outputs": [],
   "source": [
    "# Check recommendation accuracy for list of brand name products\n",
    "\n",
    "# Set initial value for number of valid recommendations\n",
    "correct_rec = []\n",
    "input_prod = []\n",
    "top_output_prod = []\n",
    "top_cos_sim = []\n",
    "\n",
    "for product in brand_name_prod:\n",
    "    # Calculate Cosine Similarities\n",
    "    res_cosine = (\n",
    "        cos_sim(df_tsvd_full_features.loc[[product],:],\n",
    "                          df_tsvd_full_features)\n",
    "    )\n",
    "    # Convert to df\n",
    "    res_cosine = pd.DataFrame(res_cosine.transpose()) \\\n",
    "                   .rename(columns={0:'cosine_sim'})\n",
    "    # Add product info to cosine sim results\n",
    "    df_cos_sim = add_prod_info(new_df=res_cosine, original_df=df_tsvd_full,\n",
    "                               col_names=prod_info, prod_names_col='product')\n",
    "    # Round to 4 digits\n",
    "    df_cos_sim['cosine_sim'] = df_cos_sim['cosine_sim'].round(4)\n",
    "    # Extract top 6 most similar results\n",
    "    df_cos_sim_topres = df_cos_sim.nlargest(6,'cosine_sim')\n",
    "    # Filter df without input product (should always be with cosine sim of 1)\n",
    "    df_cos_sim_topres = (\n",
    "        df_cos_sim_topres[~df_cos_sim_topres['product'].isin([product])]\n",
    "    )\n",
    "    # Get brand generic label for input product\n",
    "    input_prod_label = (\n",
    "        df_brand_gen.query('product in @product')['brand_generic']\n",
    "    )\n",
    "    # Get brand_generic label for top result\n",
    "    top_res_prod_label = (\n",
    "        df_cos_sim_topres.nlargest(1,'cosine_sim')['brand_generic']\n",
    "    )\n",
    "    # Compare brand_generic label of input product and add 1 if it matches\n",
    "    if input_prod_label.values == top_res_prod_label.values:\n",
    "        correct_rec.append(True)\n",
    "    else:\n",
    "        correct_rec.append(False)\n",
    "    # Save the input product, comparison product, similarity \n",
    "    input_prod.append(product)\n",
    "    top_output_prod.extend(\n",
    "        df_cos_sim_topres.nlargest(1,'cosine_sim')['product'].tolist()\n",
    "    )\n",
    "    top_cos_sim.extend(\n",
    "        df_cos_sim_topres.nlargest(1,'cosine_sim')['cosine_sim'].tolist()\n",
    "    )\n",
    "    \n",
    "# Add lists together and turn into df \n",
    "df_valid_res = (\n",
    "    pd.DataFrame(list(zip(input_prod, top_output_prod, top_cos_sim, \n",
    "                          correct_rec)),\n",
    "                         columns=['input_prod','top_output_prod','cos_sim',\n",
    "                                  'correct_rec'])\n",
    ")"
   ]
  },
  {
   "cell_type": "code",
   "execution_count": 336,
   "id": "6bc992bb",
   "metadata": {
    "execution": {
     "iopub.execute_input": "2021-05-25T18:55:20.827508Z",
     "iopub.status.busy": "2021-05-25T18:55:20.827058Z",
     "iopub.status.idle": "2021-05-25T18:55:20.846569Z",
     "shell.execute_reply": "2021-05-25T18:55:20.845449Z",
     "shell.execute_reply.started": "2021-05-25T18:55:20.827449Z"
    },
    "tags": []
   },
   "outputs": [
    {
     "data": {
      "text/html": [
       "<div>\n",
       "<style scoped>\n",
       "    .dataframe tbody tr th:only-of-type {\n",
       "        vertical-align: middle;\n",
       "    }\n",
       "\n",
       "    .dataframe tbody tr th {\n",
       "        vertical-align: top;\n",
       "    }\n",
       "\n",
       "    .dataframe thead th {\n",
       "        text-align: right;\n",
       "    }\n",
       "</style>\n",
       "<table border=\"1\" class=\"dataframe\">\n",
       "  <thead>\n",
       "    <tr style=\"text-align: right;\">\n",
       "      <th></th>\n",
       "      <th>input_prod</th>\n",
       "      <th>top_output_prod</th>\n",
       "      <th>cos_sim</th>\n",
       "      <th>correct_rec</th>\n",
       "    </tr>\n",
       "  </thead>\n",
       "  <tbody>\n",
       "    <tr>\n",
       "      <th>0</th>\n",
       "      <td>Aveeno Positively Radiant Brightening &amp; Exfoli...</td>\n",
       "      <td>Beauty 360 Illuminating Facial Scrub</td>\n",
       "      <td>0.8016</td>\n",
       "      <td>True</td>\n",
       "    </tr>\n",
       "    <tr>\n",
       "      <th>1</th>\n",
       "      <td>Banana Boat Ultra Sport Sunscreen Lotion, Broa...</td>\n",
       "      <td>Mountain Falls Active Sport Sunscreen Lotion, ...</td>\n",
       "      <td>0.7545</td>\n",
       "      <td>True</td>\n",
       "    </tr>\n",
       "    <tr>\n",
       "      <th>2</th>\n",
       "      <td>Cetaphil Daily Facial Cleanser</td>\n",
       "      <td>Amazon Brand - Solimo Daily Facial Cleanser, N...</td>\n",
       "      <td>0.9745</td>\n",
       "      <td>True</td>\n",
       "    </tr>\n",
       "    <tr>\n",
       "      <th>3</th>\n",
       "      <td>Cetaphil Fragrance Free Moisturizing Cream</td>\n",
       "      <td>Amazon Brand - Solimo Ultra Moisturizing Skin ...</td>\n",
       "      <td>0.6605</td>\n",
       "      <td>True</td>\n",
       "    </tr>\n",
       "    <tr>\n",
       "      <th>4</th>\n",
       "      <td>Clean &amp; Clear Essentials Deep Cleaning Toner S...</td>\n",
       "      <td>No:Rinse Intensive Pore Minimizing Toner</td>\n",
       "      <td>0.4136</td>\n",
       "      <td>False</td>\n",
       "    </tr>\n",
       "    <tr>\n",
       "      <th>5</th>\n",
       "      <td>St. Ives Fresh Skin Face Scrub, Apricot</td>\n",
       "      <td>Mountain Falls Invigorating Apricot Scrub Faci...</td>\n",
       "      <td>0.8393</td>\n",
       "      <td>True</td>\n",
       "    </tr>\n",
       "  </tbody>\n",
       "</table>\n",
       "</div>"
      ],
      "text/plain": [
       "                                          input_prod  \\\n",
       "0  Aveeno Positively Radiant Brightening & Exfoli...   \n",
       "1  Banana Boat Ultra Sport Sunscreen Lotion, Broa...   \n",
       "2                     Cetaphil Daily Facial Cleanser   \n",
       "3         Cetaphil Fragrance Free Moisturizing Cream   \n",
       "4  Clean & Clear Essentials Deep Cleaning Toner S...   \n",
       "5            St. Ives Fresh Skin Face Scrub, Apricot   \n",
       "\n",
       "                                     top_output_prod  cos_sim  correct_rec  \n",
       "0               Beauty 360 Illuminating Facial Scrub   0.8016         True  \n",
       "1  Mountain Falls Active Sport Sunscreen Lotion, ...   0.7545         True  \n",
       "2  Amazon Brand - Solimo Daily Facial Cleanser, N...   0.9745         True  \n",
       "3  Amazon Brand - Solimo Ultra Moisturizing Skin ...   0.6605         True  \n",
       "4           No:Rinse Intensive Pore Minimizing Toner   0.4136        False  \n",
       "5  Mountain Falls Invigorating Apricot Scrub Faci...   0.8393         True  "
      ]
     },
     "execution_count": 336,
     "metadata": {},
     "output_type": "execute_result"
    }
   ],
   "source": [
    "df_valid_res"
   ]
  },
  {
   "cell_type": "code",
   "execution_count": 322,
   "id": "2552fcc3",
   "metadata": {
    "execution": {
     "iopub.execute_input": "2021-05-25T18:47:13.569183Z",
     "iopub.status.busy": "2021-05-25T18:47:13.568770Z",
     "iopub.status.idle": "2021-05-25T18:47:13.578036Z",
     "shell.execute_reply": "2021-05-25T18:47:13.576930Z",
     "shell.execute_reply.started": "2021-05-25T18:47:13.569148Z"
    },
    "tags": []
   },
   "outputs": [
    {
     "name": "stdout",
     "output_type": "stream",
     "text": [
      "Correct recommendations out of 6 labeled products: 5/6 or 83.33%\n"
     ]
    }
   ],
   "source": [
    "# Calculate percentage of correct recommendations\n",
    "\n",
    "prop_correct = sum(df_valid_res['correct_rec'].values)\n",
    "per_correct = round((sum(df_valid_res['correct_rec'].values)/6) * 100,2)\n",
    "print(f\"Correct recommendations out of 6 labeled products: {prop_correct}/6 or {per_correct}%\")"
   ]
  },
  {
   "cell_type": "code",
   "execution_count": 169,
   "id": "b1817da4",
   "metadata": {
    "execution": {
     "iopub.execute_input": "2021-05-25T14:49:21.287960Z",
     "iopub.status.busy": "2021-05-25T14:49:21.287612Z",
     "iopub.status.idle": "2021-05-25T14:49:21.294855Z",
     "shell.execute_reply": "2021-05-25T14:49:21.293916Z",
     "shell.execute_reply.started": "2021-05-25T14:49:21.287928Z"
    },
    "tags": []
   },
   "outputs": [],
   "source": [
    "# Get example product to test\n",
    "\n",
    "ex_prod = brand_name_prod[:1].values"
   ]
  },
  {
   "cell_type": "code",
   "execution_count": 170,
   "id": "0573621e",
   "metadata": {
    "execution": {
     "iopub.execute_input": "2021-05-25T14:49:22.276756Z",
     "iopub.status.busy": "2021-05-25T14:49:22.276407Z",
     "iopub.status.idle": "2021-05-25T14:49:22.280953Z",
     "shell.execute_reply": "2021-05-25T14:49:22.280098Z",
     "shell.execute_reply.started": "2021-05-25T14:49:22.276724Z"
    },
    "tags": []
   },
   "outputs": [
    {
     "name": "stdout",
     "output_type": "stream",
     "text": [
      "['Amazon Brand - Solimo Daily Facial Cleanser, Normal to Oily Skin']\n"
     ]
    }
   ],
   "source": [
    "print(ex_prod)"
   ]
  },
  {
   "cell_type": "code",
   "execution_count": 159,
   "id": "18970c62",
   "metadata": {
    "execution": {
     "iopub.execute_input": "2021-05-25T14:43:15.496550Z",
     "iopub.status.busy": "2021-05-25T14:43:15.496158Z",
     "iopub.status.idle": "2021-05-25T14:43:15.594058Z",
     "shell.execute_reply": "2021-05-25T14:43:15.593318Z",
     "shell.execute_reply.started": "2021-05-25T14:43:15.496517Z"
    },
    "tags": []
   },
   "outputs": [],
   "source": [
    "# Calculate Cosine Similarities\n",
    "\n",
    "res_cosine = (\n",
    "    cos_sim(df_tsvd_full_features.loc[ex_prod,:],\n",
    "                      df_tsvd_full_features)\n",
    ")"
   ]
  },
  {
   "cell_type": "code",
   "execution_count": 160,
   "id": "10d38978",
   "metadata": {
    "execution": {
     "iopub.execute_input": "2021-05-25T14:43:16.409709Z",
     "iopub.status.busy": "2021-05-25T14:43:16.409342Z",
     "iopub.status.idle": "2021-05-25T14:43:16.424814Z",
     "shell.execute_reply": "2021-05-25T14:43:16.423982Z",
     "shell.execute_reply.started": "2021-05-25T14:43:16.409675Z"
    },
    "tags": []
   },
   "outputs": [],
   "source": [
    "# Convert to df\n",
    "\n",
    "res_cosine = pd.DataFrame(res_cosine.transpose()) \\\n",
    "               .rename(columns={0:'cosine_sim'})"
   ]
  },
  {
   "cell_type": "code",
   "execution_count": 161,
   "id": "06025786",
   "metadata": {
    "execution": {
     "iopub.execute_input": "2021-05-25T14:43:16.861929Z",
     "iopub.status.busy": "2021-05-25T14:43:16.861595Z",
     "iopub.status.idle": "2021-05-25T14:43:16.876000Z",
     "shell.execute_reply": "2021-05-25T14:43:16.875121Z",
     "shell.execute_reply.started": "2021-05-25T14:43:16.861897Z"
    },
    "tags": []
   },
   "outputs": [],
   "source": [
    "def reorder_first_cols(df, col_order):\n",
    "    '''\n",
    "    Reorder columns in dataframe with col_order as a list of column names\n",
    "    in the order you want them in to appear at the beginner of the dataframe.\n",
    "    The rest of the columns will remain in the same order as before. \n",
    "    '''\n",
    "    # Create new column ordering\n",
    "    new_col_order = (\n",
    "          col_order + [col for col in df.columns if col not in col_order]\n",
    "    )\n",
    "    # Reindex columns based on new order\n",
    "    df = df.reindex(columns=new_col_order)\n",
    "    \n",
    "    return df"
   ]
  },
  {
   "cell_type": "code",
   "execution_count": 162,
   "id": "0999e7b1",
   "metadata": {
    "execution": {
     "iopub.execute_input": "2021-05-25T14:43:17.669561Z",
     "iopub.status.busy": "2021-05-25T14:43:17.668947Z",
     "iopub.status.idle": "2021-05-25T14:43:17.681393Z",
     "shell.execute_reply": "2021-05-25T14:43:17.680573Z",
     "shell.execute_reply.started": "2021-05-25T14:43:17.669497Z"
    },
    "tags": []
   },
   "outputs": [],
   "source": [
    "def add_prod_info(new_df, original_df, col_names, prod_names_col):\n",
    "    \"\"\"\n",
    "    Purpose: Add product information to TSVD dataframe\n",
    "    Returns: dataframe with product information in rows and columns\n",
    "    new_df: df with cosine similarity results results\n",
    "    original_df: df before tsvd with product information\n",
    "    col_names: List of strings of column names to be added into tsvd df\n",
    "    prod_names_col: Name of column with product names, string\n",
    "    \"\"\"\n",
    "    # Add product names\n",
    "    new_df['product']=original_df[prod_names_col]\n",
    "    # Copy columns to new df\n",
    "    col_copy = original_df[col_names].copy()\n",
    "    # Copy product names to col names df\n",
    "    col_copy['product'] = original_df[prod_names_col]\n",
    "    # Join with tsvd df on product\n",
    "    new_df = pd.merge(new_df, col_copy, how='inner', on='product')\n",
    "    # Reorder df columns\n",
    "    cols_order = ['product','cosine_sim', 'use_category','brand',\n",
    "                  'brand_generic','size','price','link']\n",
    "    new_df = reorder_first_cols(new_df, cols_order)\n",
    "    return new_df"
   ]
  },
  {
   "cell_type": "code",
   "execution_count": 163,
   "id": "5bfee7fc",
   "metadata": {
    "execution": {
     "iopub.execute_input": "2021-05-25T14:43:18.652560Z",
     "iopub.status.busy": "2021-05-25T14:43:18.651990Z",
     "iopub.status.idle": "2021-05-25T14:43:18.683195Z",
     "shell.execute_reply": "2021-05-25T14:43:18.682749Z",
     "shell.execute_reply.started": "2021-05-25T14:43:18.652496Z"
    },
    "tags": []
   },
   "outputs": [],
   "source": [
    "# Add product info to cosine sim results\n",
    "\n",
    "df_cos_sim = add_prod_info(new_df=res_cosine, original_df=df_tsvd_full,\n",
    "                           col_names=prod_info, prod_names_col='product')"
   ]
  },
  {
   "cell_type": "code",
   "execution_count": 164,
   "id": "f24557c7",
   "metadata": {
    "execution": {
     "iopub.execute_input": "2021-05-25T14:43:19.781291Z",
     "iopub.status.busy": "2021-05-25T14:43:19.780865Z",
     "iopub.status.idle": "2021-05-25T14:43:19.787799Z",
     "shell.execute_reply": "2021-05-25T14:43:19.786839Z",
     "shell.execute_reply.started": "2021-05-25T14:43:19.781252Z"
    },
    "tags": []
   },
   "outputs": [],
   "source": [
    "# Round to 4 digits\n",
    "\n",
    "df_cos_sim['cosine_sim'] = df_cos_sim['cosine_sim'].round(4)"
   ]
  },
  {
   "cell_type": "code",
   "execution_count": 177,
   "id": "efd675c9",
   "metadata": {
    "execution": {
     "iopub.execute_input": "2021-05-25T14:53:55.937193Z",
     "iopub.status.busy": "2021-05-25T14:53:55.936792Z",
     "iopub.status.idle": "2021-05-25T14:53:55.946434Z",
     "shell.execute_reply": "2021-05-25T14:53:55.945651Z",
     "shell.execute_reply.started": "2021-05-25T14:53:55.937161Z"
    },
    "tags": []
   },
   "outputs": [],
   "source": [
    "# Extract top 6 most similar results\n",
    "\n",
    "df_cos_sim_topres = df_cos_sim.nlargest(6,'cosine_sim')"
   ]
  },
  {
   "cell_type": "code",
   "execution_count": 192,
   "id": "1a1efd76",
   "metadata": {
    "execution": {
     "iopub.execute_input": "2021-05-25T15:16:10.980166Z",
     "iopub.status.busy": "2021-05-25T15:16:10.976555Z",
     "iopub.status.idle": "2021-05-25T15:16:11.046145Z",
     "shell.execute_reply": "2021-05-25T15:16:11.045288Z",
     "shell.execute_reply.started": "2021-05-25T15:16:10.979664Z"
    },
    "tags": []
   },
   "outputs": [],
   "source": [
    "# Filter df without input product (should always be with cosine sim of 1)\n",
    "\n",
    "df_cos_sim_topres = (\n",
    "    df_cos_sim_topres[~df_cos_sim_topres['product'].isin(ex_prod)]\n",
    ")"
   ]
  },
  {
   "cell_type": "code",
   "execution_count": 173,
   "id": "21977740",
   "metadata": {
    "execution": {
     "iopub.execute_input": "2021-05-25T14:50:16.573274Z",
     "iopub.status.busy": "2021-05-25T14:50:16.572713Z",
     "iopub.status.idle": "2021-05-25T14:50:16.587134Z",
     "shell.execute_reply": "2021-05-25T14:50:16.586219Z",
     "shell.execute_reply.started": "2021-05-25T14:50:16.573212Z"
    },
    "tags": []
   },
   "outputs": [
    {
     "data": {
      "text/plain": [
       "74    Cetaphil_cleanser_generic\n",
       "Name: brand_generic, dtype: object"
      ]
     },
     "execution_count": 173,
     "metadata": {},
     "output_type": "execute_result"
    }
   ],
   "source": [
    "# Check if top result matches by \n",
    "# 1 remove top result\n",
    "# 2 compare brand_generic ID to itself\n",
    "\n",
    "ex_prod\n",
    "\n",
    "df_brand_gen.query('product in @ex_prod')['brand_generic']"
   ]
  },
  {
   "cell_type": "code",
   "execution_count": 198,
   "id": "c5fb87b2",
   "metadata": {
    "execution": {
     "iopub.execute_input": "2021-05-25T15:24:27.649781Z",
     "iopub.status.busy": "2021-05-25T15:24:27.649438Z",
     "iopub.status.idle": "2021-05-25T15:24:27.683105Z",
     "shell.execute_reply": "2021-05-25T15:24:27.681988Z",
     "shell.execute_reply.started": "2021-05-25T15:24:27.649749Z"
    }
   },
   "outputs": [],
   "source": [
    "# Get brand generic label for input product\n",
    "\n",
    "input_prod_label = df_brand_gen.query('product in @ex_prod')['brand_generic']"
   ]
  },
  {
   "cell_type": "code",
   "execution_count": 199,
   "id": "f9f8f61d",
   "metadata": {
    "execution": {
     "iopub.execute_input": "2021-05-25T15:24:27.983142Z",
     "iopub.status.busy": "2021-05-25T15:24:27.982804Z",
     "iopub.status.idle": "2021-05-25T15:24:27.989622Z",
     "shell.execute_reply": "2021-05-25T15:24:27.988671Z",
     "shell.execute_reply.started": "2021-05-25T15:24:27.983110Z"
    },
    "tags": []
   },
   "outputs": [],
   "source": [
    "# Get brand_generic label for top result\n",
    "\n",
    "top_res_prod_label = (\n",
    "    df_cos_sim_topres.nlargest(1,'cosine_sim')['brand_generic']\n",
    ")"
   ]
  },
  {
   "cell_type": "code",
   "execution_count": null,
   "id": "c3b50fd1",
   "metadata": {},
   "outputs": [],
   "source": [
    "# Compare brand_generic label of input product \n",
    "\n",
    "input_prod_label == top_res_prod_label"
   ]
  },
  {
   "cell_type": "code",
   "execution_count": null,
   "id": "c95bf073",
   "metadata": {},
   "outputs": [],
   "source": [
    "def get_prod_rec_acc():\n",
    "    \"\"\"\n",
    "    Purpose: Check performance of recommendations for list of products.\n",
    "    Returns:\n",
    "    \"\"\""
   ]
  },
  {
   "cell_type": "code",
   "execution_count": null,
   "id": "beaaa20a",
   "metadata": {},
   "outputs": [],
   "source": []
  },
  {
   "cell_type": "code",
   "execution_count": null,
   "id": "13ea3372",
   "metadata": {},
   "outputs": [],
   "source": []
  },
  {
   "cell_type": "code",
   "execution_count": null,
   "id": "c98c2549",
   "metadata": {},
   "outputs": [],
   "source": [
    "# Calculate cosine similarity for feature 1 \n",
    "res_cosine = cosine_similarity(features.loc['A+ High-Dose Retinoid Serum',:].to_frame().transpose(), features) #[0:1] .loc[\"Essential-C Cleanser\",:]\n",
    "res_cosine = res_cosine.reshape(-1)\n",
    "res_cosine = pd.DataFrame(res_cosine)\n",
    "res_sim=df[['product','brand','product_type','price','size','ratings', 'active','vit_a',\n",
    "            'total_reviews','link','price_oz']].copy()\n",
    "res_sim['similarity']=res_cosine[[0]]\n",
    "# Round similarity metric\n",
    "#res_sim['similarity']=round(res_sim['similarity'],2)\n",
    "# Maybe don't round so you don't have to deal with ties?\n",
    "#indexNames = res_sim[res_sim['product']=='Essential-C Cleanser'].index\n",
    "#res_sim.drop(indexNames, inplace=True)\n",
    "# Sort from top similarity metrics and ignoring self, so starting at 1, not zero\n",
    "test = res_sim.nlargest(5, 'similarity')[1:5]\n",
    "#res_sim.head()\n",
    "# Select top match\n",
    "test[:10]\n",
    "#Good Genes All-In-One Lactic Acid Treatment\n",
    "#A+ High-Dose Retinoid Serum\n",
    "# Generic vs similar validation\n",
    "# Cetaphil Daily Facial Cleanser\n",
    "# Cetaphil Fragrance Free Moisturizing Cream : 0.959282\n",
    "# Banana Boat Ultra Sport Sunscreen Lotion, Broad Spectum SPF 30 : 0.999971\n",
    "# St. Ives Fresh Skin Face Scrub, Apricot : 0.999748\n",
    "# Clean & Clear Essentials Deep Cleaning Toner Sensitive Skin : 0.999994\n",
    "# Aveeno Positively Radiant Brightening & Exfoliating Face Scrub : 0.990599\n",
    "\n",
    "#test[test['vit_a']==1]"
   ]
  },
  {
   "cell_type": "code",
   "execution_count": null,
   "id": "849f3754",
   "metadata": {},
   "outputs": [],
   "source": []
  },
  {
   "cell_type": "code",
   "execution_count": null,
   "id": "0090ed41",
   "metadata": {},
   "outputs": [],
   "source": []
  },
  {
   "cell_type": "code",
   "execution_count": null,
   "id": "99b7bddd",
   "metadata": {},
   "outputs": [],
   "source": []
  },
  {
   "cell_type": "code",
   "execution_count": null,
   "id": "a1ad35e6",
   "metadata": {},
   "outputs": [],
   "source": []
  },
  {
   "cell_type": "code",
   "execution_count": null,
   "id": "b368df95",
   "metadata": {},
   "outputs": [],
   "source": []
  }
 ],
 "metadata": {
  "kernelspec": {
   "display_name": "Python [conda env:data_chall] *",
   "language": "python",
   "name": "conda-env-data_chall-py"
  },
  "language_info": {
   "codemirror_mode": {
    "name": "ipython",
    "version": 3
   },
   "file_extension": ".py",
   "mimetype": "text/x-python",
   "name": "python",
   "nbconvert_exporter": "python",
   "pygments_lexer": "ipython3",
   "version": "3.8.8"
  }
 },
 "nbformat": 4,
 "nbformat_minor": 5
}
