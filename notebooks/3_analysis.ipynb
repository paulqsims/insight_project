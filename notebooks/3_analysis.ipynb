{
 "cells": [
  {
   "cell_type": "markdown",
   "id": "fc1d88cb",
   "metadata": {},
   "source": [
    "# Analysis for Insight Project"
   ]
  },
  {
   "cell_type": "markdown",
   "id": "8de7b714",
   "metadata": {},
   "source": [
    "## Setup"
   ]
  },
  {
   "cell_type": "code",
   "execution_count": 207,
   "id": "cd669961",
   "metadata": {
    "execution": {
     "iopub.execute_input": "2021-05-26T15:02:42.675411Z",
     "iopub.status.busy": "2021-05-26T15:02:42.675073Z",
     "iopub.status.idle": "2021-05-26T15:02:42.740535Z",
     "shell.execute_reply": "2021-05-26T15:02:42.738943Z",
     "shell.execute_reply.started": "2021-05-26T15:02:42.675378Z"
    },
    "tags": []
   },
   "outputs": [],
   "source": [
    "# import modules\n",
    "import pandas as pd\n",
    "import numpy as np\n",
    "import rootpath\n",
    "from sklearn.cluster import KMeans\n",
    "from sklearn.metrics import silhouette_score\n",
    "import sklearn.metrics as metrics\n",
    "from sklearn.utils import resample\n",
    "\n",
    "from sklearn.metrics.pairwise import cosine_similarity as cos_sim\n",
    "\n",
    "# Plotting\n",
    "\n",
    "import matplotlib.pyplot as plt\n",
    "%matplotlib inline\n",
    "%config InlineBackend.figure_format = 'retina'  \n",
    "import seaborn as sns\n",
    "sns.set_context(\"poster\")\n",
    "sns.set(rc={'figure.figsize': (16, 9.)})\n",
    "sns.set_style(\"whitegrid\")\n",
    "sns.set(font_scale = 1.5)"
   ]
  },
  {
   "cell_type": "markdown",
   "id": "877413cf",
   "metadata": {},
   "source": [
    "### Locate files"
   ]
  },
  {
   "cell_type": "code",
   "execution_count": 175,
   "id": "bdfefced",
   "metadata": {
    "execution": {
     "iopub.execute_input": "2021-05-26T14:52:36.179424Z",
     "iopub.status.busy": "2021-05-26T14:52:36.178780Z",
     "iopub.status.idle": "2021-05-26T14:52:36.188876Z",
     "shell.execute_reply": "2021-05-26T14:52:36.187801Z",
     "shell.execute_reply.started": "2021-05-26T14:52:36.179369Z"
    },
    "tags": []
   },
   "outputs": [],
   "source": [
    "# Set paths for project\n",
    "\n",
    "# Set rootpath for project\n",
    "rpath = rootpath.detect()\n",
    "\n",
    "# Set directory\n",
    "directory_name = '/data/clean/'\n",
    "\n",
    "# Set filename\n",
    "file_name = 'data_tsvd_full.csv'"
   ]
  },
  {
   "cell_type": "markdown",
   "id": "42f4c6d7",
   "metadata": {},
   "source": [
    "### Compile data"
   ]
  },
  {
   "cell_type": "code",
   "execution_count": 176,
   "id": "a08e466f",
   "metadata": {
    "execution": {
     "iopub.execute_input": "2021-05-26T14:52:39.761660Z",
     "iopub.status.busy": "2021-05-26T14:52:39.761073Z",
     "iopub.status.idle": "2021-05-26T14:52:39.907266Z",
     "shell.execute_reply": "2021-05-26T14:52:39.906901Z",
     "shell.execute_reply.started": "2021-05-26T14:52:39.761597Z"
    },
    "tags": []
   },
   "outputs": [],
   "source": [
    "df_tsvd_full = pd.read_csv(rpath+directory_name+file_name, index_col=0)"
   ]
  },
  {
   "cell_type": "markdown",
   "id": "4f9f5339",
   "metadata": {},
   "source": [
    "# Analysis: Cosine similarity"
   ]
  },
  {
   "cell_type": "markdown",
   "id": "5b2a708b",
   "metadata": {},
   "source": [
    "## Determine number of components to extract for LSA"
   ]
  },
  {
   "cell_type": "code",
   "execution_count": 177,
   "id": "7dd4b6a9",
   "metadata": {
    "execution": {
     "iopub.execute_input": "2021-05-26T14:52:41.445952Z",
     "iopub.status.busy": "2021-05-26T14:52:41.445330Z",
     "iopub.status.idle": "2021-05-26T14:52:41.452521Z",
     "shell.execute_reply": "2021-05-26T14:52:41.451642Z",
     "shell.execute_reply.started": "2021-05-26T14:52:41.445872Z"
    },
    "tags": []
   },
   "outputs": [],
   "source": [
    "def get_features(df, prod_info):\n",
    "    \"\"\"\n",
    "    Purpose: extract ingredient features from tsvd dataframe\n",
    "    Returns: df of ingredient features only\n",
    "    df: df of tsvd and product info\n",
    "    prod_info: list of strings of column names to remove\n",
    "    \"\"\"\n",
    "    df_tsvd_full_features = df.drop(prod_info, axis=1) \\\n",
    "                                    .set_index('product')\n",
    "    \n",
    "    return df_tsvd_full_features"
   ]
  },
  {
   "cell_type": "code",
   "execution_count": 178,
   "id": "6b47c855",
   "metadata": {
    "execution": {
     "iopub.execute_input": "2021-05-26T14:52:42.077628Z",
     "iopub.status.busy": "2021-05-26T14:52:42.077299Z",
     "iopub.status.idle": "2021-05-26T14:52:42.096449Z",
     "shell.execute_reply": "2021-05-26T14:52:42.095663Z",
     "shell.execute_reply.started": "2021-05-26T14:52:42.077596Z"
    },
    "tags": []
   },
   "outputs": [],
   "source": [
    "# Separate features from product information\n",
    "\n",
    "prod_info = ['use_category', 'brand', 'brand_generic',\n",
    "             'size', 'price', 'link']\n",
    "\n",
    "df_tsvd_full_features = get_features(df_tsvd_full, prod_info)"
   ]
  },
  {
   "cell_type": "code",
   "execution_count": 179,
   "id": "fc3bd65c",
   "metadata": {
    "execution": {
     "iopub.execute_input": "2021-05-26T14:52:43.087171Z",
     "iopub.status.busy": "2021-05-26T14:52:43.086841Z",
     "iopub.status.idle": "2021-05-26T14:52:43.093604Z",
     "shell.execute_reply": "2021-05-26T14:52:43.092685Z",
     "shell.execute_reply.started": "2021-05-26T14:52:43.087139Z"
    },
    "tags": []
   },
   "outputs": [],
   "source": [
    "def filter_string(list_of_strings, string_to_remove):\n",
    "    \"\"\"\n",
    "    Purpose: filters a string(s) from a list of strings\n",
    "    Returns: a list without the indicated string(s)\n",
    "    string_to_remove: MUST BE A LIST\n",
    "    \"\"\"\n",
    "    new_list = [string for string in list_of_strings \\\n",
    "                    if string not in string_to_remove]\n",
    "    return new_list"
   ]
  },
  {
   "cell_type": "code",
   "execution_count": 180,
   "id": "95ca530c",
   "metadata": {
    "execution": {
     "iopub.execute_input": "2021-05-26T14:52:43.789467Z",
     "iopub.status.busy": "2021-05-26T14:52:43.788919Z",
     "iopub.status.idle": "2021-05-26T14:52:43.795885Z",
     "shell.execute_reply": "2021-05-26T14:52:43.795076Z",
     "shell.execute_reply.started": "2021-05-26T14:52:43.789429Z"
    },
    "tags": []
   },
   "outputs": [],
   "source": [
    "# Extract brand_generic product labels\n",
    "\n",
    "brand_gen_labels = (\n",
    "    filter_string(df_tsvd_full['brand_generic'].unique(),'non_generic')\n",
    ")"
   ]
  },
  {
   "cell_type": "code",
   "execution_count": 181,
   "id": "bf2a4d8c",
   "metadata": {
    "execution": {
     "iopub.execute_input": "2021-05-26T14:52:46.366076Z",
     "iopub.status.busy": "2021-05-26T14:52:46.365739Z",
     "iopub.status.idle": "2021-05-26T14:52:46.370779Z",
     "shell.execute_reply": "2021-05-26T14:52:46.369678Z",
     "shell.execute_reply.started": "2021-05-26T14:52:46.366043Z"
    },
    "tags": []
   },
   "outputs": [],
   "source": [
    "# List of brand name product brands \n",
    "# This does not include their generic versions\n",
    "\n",
    "brand_names = ['Aveeno','Banana boat','Cetaphil','Clean and Clear',\n",
    "               'St. Ives']"
   ]
  },
  {
   "cell_type": "code",
   "execution_count": 182,
   "id": "e728a234",
   "metadata": {
    "execution": {
     "iopub.execute_input": "2021-05-26T14:52:46.896533Z",
     "iopub.status.busy": "2021-05-26T14:52:46.896203Z",
     "iopub.status.idle": "2021-05-26T14:52:46.910489Z",
     "shell.execute_reply": "2021-05-26T14:52:46.909463Z",
     "shell.execute_reply.started": "2021-05-26T14:52:46.896501Z"
    },
    "tags": []
   },
   "outputs": [],
   "source": [
    "# Extract df of brand_generic products for comparison to similarity output\n",
    "\n",
    "# Get columns of product info only\n",
    "\n",
    "df_brand_gen = (\n",
    "    df_tsvd_full[df_tsvd_full.columns.intersection(prod_info)].copy()\n",
    ")\n",
    "\n",
    "# Add product\n",
    "\n",
    "df_brand_gen['product'] = df_tsvd_full['product']\n",
    "\n",
    "# Filter out only brand_generic products\n",
    "\n",
    "df_brand_gen = df_brand_gen.query('brand_generic == @brand_gen_labels')"
   ]
  },
  {
   "cell_type": "code",
   "execution_count": 183,
   "id": "4c806ecc",
   "metadata": {
    "execution": {
     "iopub.execute_input": "2021-05-26T14:52:47.408594Z",
     "iopub.status.busy": "2021-05-26T14:52:47.408279Z",
     "iopub.status.idle": "2021-05-26T14:52:47.435507Z",
     "shell.execute_reply": "2021-05-26T14:52:47.435119Z",
     "shell.execute_reply.started": "2021-05-26T14:52:47.408562Z"
    },
    "tags": []
   },
   "outputs": [],
   "source": [
    "# Extract product names for brand name products only\n",
    "# These are the input products for checking recommendation\n",
    "#   accuracy for specific products\n",
    "\n",
    "brand_name_prod = (\n",
    "    df_tsvd_full.query('brand_generic == @brand_gen_labels and \\\n",
    "                        brand == @brand_names')['product']\n",
    ")"
   ]
  },
  {
   "cell_type": "code",
   "execution_count": 184,
   "id": "154857ff",
   "metadata": {
    "execution": {
     "iopub.execute_input": "2021-05-26T14:52:49.972793Z",
     "iopub.status.busy": "2021-05-26T14:52:49.972201Z",
     "iopub.status.idle": "2021-05-26T14:52:49.978988Z",
     "shell.execute_reply": "2021-05-26T14:52:49.978149Z",
     "shell.execute_reply.started": "2021-05-26T14:52:49.972727Z"
    },
    "tags": []
   },
   "outputs": [],
   "source": [
    "def reorder_first_cols(df, col_order):\n",
    "    '''\n",
    "    Reorder columns in dataframe with col_order as a list of column names\n",
    "    in the order you want them in to appear at the beginner of the dataframe.\n",
    "    The rest of the columns will remain in the same order as before. \n",
    "    '''\n",
    "    # Create new column ordering\n",
    "    new_col_order = (\n",
    "          col_order + [col for col in df.columns if col not in col_order]\n",
    "    )\n",
    "    # Reindex columns based on new order\n",
    "    df = df.reindex(columns=new_col_order)\n",
    "    \n",
    "    return df"
   ]
  },
  {
   "cell_type": "code",
   "execution_count": 185,
   "id": "788fa0b2",
   "metadata": {
    "execution": {
     "iopub.execute_input": "2021-05-26T14:52:50.456318Z",
     "iopub.status.busy": "2021-05-26T14:52:50.455662Z",
     "iopub.status.idle": "2021-05-26T14:52:50.465099Z",
     "shell.execute_reply": "2021-05-26T14:52:50.463800Z",
     "shell.execute_reply.started": "2021-05-26T14:52:50.456246Z"
    },
    "tags": []
   },
   "outputs": [],
   "source": [
    "def add_prod_info(new_df, original_df, col_names, prod_names_col):\n",
    "    \"\"\"\n",
    "    Purpose: Add product information to TSVD dataframe\n",
    "    Returns: dataframe with product information in rows and columns\n",
    "    new_df: df with cosine similarity results results\n",
    "    original_df: df before tsvd with product information\n",
    "    col_names: List of strings of column names to be added into tsvd df\n",
    "    prod_names_col: Name of column with product names, string\n",
    "    \"\"\"\n",
    "    # Add product names\n",
    "    new_df['product']=original_df[prod_names_col]\n",
    "    # Copy columns to new df\n",
    "    col_copy = original_df[col_names].copy()\n",
    "    # Copy product names to col names df\n",
    "    col_copy['product'] = original_df[prod_names_col]\n",
    "    # Join with tsvd df on product\n",
    "    new_df = pd.merge(new_df, col_copy, how='inner', on='product')\n",
    "    # Reorder df columns\n",
    "    cols_order = ['product','cosine_sim', 'use_category','brand',\n",
    "                  'brand_generic','size','price','link']\n",
    "    new_df = reorder_first_cols(new_df, cols_order)\n",
    "    return new_df"
   ]
  },
  {
   "cell_type": "code",
   "execution_count": 186,
   "id": "e6d276ba",
   "metadata": {
    "execution": {
     "iopub.execute_input": "2021-05-26T14:52:51.068923Z",
     "iopub.status.busy": "2021-05-26T14:52:51.068593Z",
     "iopub.status.idle": "2021-05-26T14:52:51.088236Z",
     "shell.execute_reply": "2021-05-26T14:52:51.087511Z",
     "shell.execute_reply.started": "2021-05-26T14:52:51.068891Z"
    },
    "tags": []
   },
   "outputs": [],
   "source": [
    "def get_prod_rec_acc(prod_list, prod_df, feat_df):\n",
    "    \"\"\"\n",
    "    Purpose: Check performance of recommendations for list of products.\n",
    "    Returns: df of the results for each input product in prod_list\n",
    "    prod_list: list of product names for calculating cosine similarities\n",
    "    prod_df: dataframe of cosine sim with products as rows \n",
    "    feat_df: dataframe of cosine sim only with products as indices\n",
    "    \"\"\"\n",
    "    # Set initial value for number of valid recommendations\n",
    "    correct_rec = []\n",
    "    input_prod = []\n",
    "    top_output_prod = []\n",
    "    top_cos_sim = []    \n",
    "    \n",
    "    # Check recommendation accuracy for each product in prod_list\n",
    "    for product in prod_list:\n",
    "        # Calculate Cosine Similarities\n",
    "        res_cosine = (\n",
    "            cos_sim(feat_df.loc[[product],:],\n",
    "                              feat_df)\n",
    "        )\n",
    "        # Convert to df\n",
    "        res_cosine = pd.DataFrame(res_cosine.transpose()) \\\n",
    "                       .rename(columns={0:'cosine_sim'})\n",
    "        # Add product info to cosine sim results\n",
    "        df_cos_sim = add_prod_info(new_df=res_cosine,\n",
    "                                   original_df=prod_df,\n",
    "                                   col_names=prod_info, \n",
    "                                   prod_names_col='product')\n",
    "        # Round to 4 digits\n",
    "        df_cos_sim['cosine_sim'] = df_cos_sim['cosine_sim'].round(4)\n",
    "        # Extract top 6 most similar results\n",
    "        df_cos_sim_topres = df_cos_sim.nlargest(6,'cosine_sim')\n",
    "        # Filter df without input product \n",
    "        #   (should always be with cosine sim of 1)\n",
    "        df_cos_sim_topres = (\n",
    "            df_cos_sim_topres[~df_cos_sim_topres['product'].isin([product])]\n",
    "        )\n",
    "        # Get brand generic label for input product\n",
    "        input_prod_label = (\n",
    "            df_brand_gen.query('product in @product')['brand_generic']\n",
    "        )\n",
    "        # Get brand_generic label for top result\n",
    "        top_res_prod_label = (\n",
    "            df_cos_sim_topres.nlargest(1,'cosine_sim')['brand_generic']\n",
    "        )\n",
    "        # Compare brand_generic label of input product and add 1 if it matches\n",
    "        if input_prod_label.values == top_res_prod_label.values:\n",
    "            correct_rec.append(True)\n",
    "        else:\n",
    "            correct_rec.append(False)\n",
    "        # Save the input product, comparison product, similarity \n",
    "        input_prod.append(product)\n",
    "        top_output_prod.extend(\n",
    "            df_cos_sim_topres.nlargest(1,'cosine_sim')['product'].tolist()\n",
    "        )\n",
    "        top_cos_sim.extend(\n",
    "            df_cos_sim_topres.nlargest(1,'cosine_sim')['cosine_sim'].tolist()\n",
    "        )\n",
    "\n",
    "    # Add lists together and turn into df \n",
    "    df_valid_res = (\n",
    "        pd.DataFrame(list(zip(input_prod, top_output_prod, top_cos_sim, \n",
    "                              correct_rec)),\n",
    "                     columns=['input_prod','top_output_prod','cos_sim',\n",
    "                                      'correct_rec'])\n",
    "    )\n",
    "    \n",
    "    return df_valid_res"
   ]
  },
  {
   "cell_type": "code",
   "execution_count": 187,
   "id": "d4098514",
   "metadata": {
    "execution": {
     "iopub.execute_input": "2021-05-26T14:52:51.980346Z",
     "iopub.status.busy": "2021-05-26T14:52:51.980006Z",
     "iopub.status.idle": "2021-05-26T14:52:52.048929Z",
     "shell.execute_reply": "2021-05-26T14:52:52.048266Z",
     "shell.execute_reply.started": "2021-05-26T14:52:51.980313Z"
    },
    "tags": []
   },
   "outputs": [],
   "source": [
    "# Get recommendation accuracy for list of brand name products\n",
    "\n",
    "df_valid_res = get_prod_rec_acc(brand_name_prod, prod_df=df_tsvd_full,\n",
    "                                feat_df=df_tsvd_full_features)"
   ]
  },
  {
   "cell_type": "code",
   "execution_count": 188,
   "id": "772bb7c0",
   "metadata": {
    "execution": {
     "iopub.execute_input": "2021-05-26T14:52:52.508178Z",
     "iopub.status.busy": "2021-05-26T14:52:52.507785Z",
     "iopub.status.idle": "2021-05-26T14:52:52.517203Z",
     "shell.execute_reply": "2021-05-26T14:52:52.516087Z",
     "shell.execute_reply.started": "2021-05-26T14:52:52.508139Z"
    },
    "tags": []
   },
   "outputs": [],
   "source": [
    "def get_overall_rec_acc(df, print_res=True):\n",
    "    \"\"\"\n",
    "    Purpose: print proportion and percent correct results from cos_sim results\n",
    "    Returns:\n",
    "    df: df of cosine sim results for a list of products\n",
    "    \"\"\"\n",
    "    # Calculate percentage of correct recommendations\n",
    "    num_correct = sum(df['correct_rec'].values)\n",
    "    per_correct = [round((num_correct/6) * 100,2)]\n",
    "    # convert num_correct to list for zip\n",
    "    num_correct = [num_correct]\n",
    "    df_acc_res = pd.DataFrame(list(zip(num_correct, per_correct)),\n",
    "                              columns=['num_correct','perc_correct'])\n",
    "    if print_res:\n",
    "        print(f\"Correct recommendations out of 6 labeled products: \\\n",
    "        {num_correct[0]}/6 or {per_correct[0]}%\")\n",
    "    \n",
    "    return df_acc_res"
   ]
  },
  {
   "cell_type": "code",
   "execution_count": 233,
   "id": "95717a83",
   "metadata": {
    "execution": {
     "iopub.execute_input": "2021-05-26T15:29:32.772457Z",
     "iopub.status.busy": "2021-05-26T15:29:32.771905Z",
     "iopub.status.idle": "2021-05-26T15:29:32.781518Z",
     "shell.execute_reply": "2021-05-26T15:29:32.780445Z",
     "shell.execute_reply.started": "2021-05-26T15:29:32.772412Z"
    },
    "tags": []
   },
   "outputs": [],
   "source": [
    "def get_components_df(df, ending_component):\n",
    "    \"\"\"\n",
    "    Purpose: Extract a range of n components from dataframe\n",
    "    Returns: DF with a range of n components\n",
    "    starting_comp: string label of the component column to start at\n",
    "    ending_component: string label of the component column to end at\n",
    "    \"\"\"\n",
    "    # Select n number of components\n",
    "    df_tsvd_reduced = df.loc[:, '0':str(ending_component)]\n",
    "    # Set index as product\n",
    "    df_tsvd_reduced.index = df['product']\n",
    "    return df_tsvd_reduced"
   ]
  },
  {
   "cell_type": "code",
   "execution_count": 197,
   "id": "6880b4f0",
   "metadata": {
    "execution": {
     "iopub.execute_input": "2021-05-26T14:53:34.094534Z",
     "iopub.status.busy": "2021-05-26T14:53:34.094214Z",
     "iopub.status.idle": "2021-05-26T14:53:49.801187Z",
     "shell.execute_reply": "2021-05-26T14:53:49.800641Z",
     "shell.execute_reply.started": "2021-05-26T14:53:34.094501Z"
    },
    "tags": []
   },
   "outputs": [],
   "source": [
    "# Get recommendation accuracy for each number of components\n",
    "\n",
    "component_n = []\n",
    "comp_perc_correct = []\n",
    "\n",
    "for component in range(50,400):\n",
    "    # Get df of the component features\n",
    "    df_comp = get_components_df(df_tsvd_full, str(component))\n",
    "    # Get recommendation accuracy for list of brand name products\n",
    "    df_valid_res = get_prod_rec_acc(brand_name_prod, prod_df=df_tsvd_full,\n",
    "                                    feat_df=df_comp)\n",
    "    # Check recommendation accuracy for list of brand name products\n",
    "    df_cos_sim_val_res = get_overall_rec_acc(df_valid_res, print_res=False)\n",
    "    \n",
    "    # Add recommender accuracy and component to lists\n",
    "    component_n.append(component)\n",
    "    comp_perc_correct.extend(df_cos_sim_val_res['perc_correct'].tolist())\n",
    "    \n",
    "# Create df of results\n",
    "df_comp_res = pd.DataFrame(list(zip(component_n, comp_perc_correct)),\n",
    "                          columns=['n_components','perc_correct'])"
   ]
  },
  {
   "cell_type": "code",
   "execution_count": 222,
   "id": "81a1178d",
   "metadata": {
    "execution": {
     "iopub.execute_input": "2021-05-26T15:23:59.839935Z",
     "iopub.status.busy": "2021-05-26T15:23:59.838614Z",
     "iopub.status.idle": "2021-05-26T15:23:59.888278Z",
     "shell.execute_reply": "2021-05-26T15:23:59.887791Z",
     "shell.execute_reply.started": "2021-05-26T15:23:59.839891Z"
    }
   },
   "outputs": [],
   "source": [
    "# Save component results\n",
    "\n",
    "filename = 'component_accuracy.csv'\n",
    "\n",
    "df_comp_res.to_csv(rpath+directory_name+filename)"
   ]
  },
  {
   "cell_type": "code",
   "execution_count": 210,
   "id": "ad573936",
   "metadata": {
    "execution": {
     "iopub.execute_input": "2021-05-26T15:03:53.977264Z",
     "iopub.status.busy": "2021-05-26T15:03:53.976692Z",
     "iopub.status.idle": "2021-05-26T15:03:54.175902Z",
     "shell.execute_reply": "2021-05-26T15:03:54.175556Z",
     "shell.execute_reply.started": "2021-05-26T15:03:53.977199Z"
    },
    "tags": []
   },
   "outputs": [
    {
     "data": {
      "text/plain": [
       "Text(0, 0.5, 'Percent Correct Recommendations')"
      ]
     },
     "execution_count": 210,
     "metadata": {},
     "output_type": "execute_result"
    },
    {
     "data": {
      "image/png": "[encoded data removed]",
      "text/plain": [
       "<Figure size 1152x648 with 1 Axes>"
      ]
     },
     "metadata": {
      "image/png": {
       "height": 555,
       "width": 978
      }
     },
     "output_type": "display_data"
    }
   ],
   "source": [
    "#df_comp_res.plot()\n",
    "\n",
    "plt.plot(df_comp_res['n_components'], df_comp_res['perc_correct'],\n",
    "        linewidth=5)\n",
    "plt.xlim(50, 400)\n",
    "plt.ylim(0, 100)\n",
    "plt.xlabel(\"Number of Components\")\n",
    "plt.ylabel(\"Percent Correct Recommendations\")"
   ]
  },
  {
   "cell_type": "code",
   "execution_count": 229,
   "id": "16510fdb",
   "metadata": {
    "execution": {
     "iopub.execute_input": "2021-05-26T15:27:32.155810Z",
     "iopub.status.busy": "2021-05-26T15:27:32.155473Z",
     "iopub.status.idle": "2021-05-26T15:27:32.160942Z",
     "shell.execute_reply": "2021-05-26T15:27:32.160059Z",
     "shell.execute_reply.started": "2021-05-26T15:27:32.155778Z"
    },
    "tags": []
   },
   "outputs": [],
   "source": [
    "def select_best_n_components(df, selection_criteria):\n",
    "    \"\"\"\n",
    "    Purpose: Find the best number of components to use \n",
    "    Returns: Number of components to use and the corresponding accuracy\n",
    "    df: Dataframe of components and percent accuracy results\n",
    "    selection_criteria: value to use to select the minimum number of \n",
    "        components\n",
    "    \"\"\"\n",
    "    # Find the smallest number of components that meet the selection criteria\n",
    "    n_comp = df[df['perc_correct']==selection_criteria] \\\n",
    "                    .nsmallest(1, 'n_components') \\\n",
    "                    ['n_components'].values\n",
    "    # change to integer\n",
    "    n_comp = int(n_comp)\n",
    "    return n_comp    "
   ]
  },
  {
   "cell_type": "code",
   "execution_count": 230,
   "id": "9992ebbd",
   "metadata": {
    "execution": {
     "iopub.execute_input": "2021-05-26T15:27:33.212343Z",
     "iopub.status.busy": "2021-05-26T15:27:33.212014Z",
     "iopub.status.idle": "2021-05-26T15:27:33.218855Z",
     "shell.execute_reply": "2021-05-26T15:27:33.217718Z",
     "shell.execute_reply.started": "2021-05-26T15:27:33.212311Z"
    },
    "tags": []
   },
   "outputs": [
    {
     "data": {
      "text/plain": [
       "190"
      ]
     },
     "execution_count": 230,
     "metadata": {},
     "output_type": "execute_result"
    }
   ],
   "source": [
    "int(best_n_comp)"
   ]
  },
  {
   "cell_type": "code",
   "execution_count": 232,
   "id": "dbc3d092",
   "metadata": {
    "execution": {
     "iopub.execute_input": "2021-05-26T15:28:08.746685Z",
     "iopub.status.busy": "2021-05-26T15:28:08.746087Z",
     "iopub.status.idle": "2021-05-26T15:28:08.757022Z",
     "shell.execute_reply": "2021-05-26T15:28:08.756116Z",
     "shell.execute_reply.started": "2021-05-26T15:28:08.746620Z"
    },
    "tags": []
   },
   "outputs": [
    {
     "name": "stdout",
     "output_type": "stream",
     "text": [
      "190 is the minimum number of components needed to reach the max recommendation accuracy of 83.33%\n"
     ]
    }
   ],
   "source": [
    "# Find the best number of components to use\n",
    "\n",
    "selection_criteria = df_comp_res['perc_correct'].max()\n",
    "\n",
    "best_n_comp = select_best_n_components(df_comp_res,\n",
    "                                    selection_criteria)\n",
    "\n",
    "print(f\"{best_n_comp} is the minimum number of components needed to reach the max recommendation accuracy of {selection_criteria}%\")"
   ]
  },
  {
   "cell_type": "markdown",
   "id": "d958b849",
   "metadata": {},
   "source": [
    "## Validation\n",
    "### Recommendations for brand vs. generic versions"
   ]
  },
  {
   "cell_type": "code",
   "execution_count": 236,
   "id": "cc4e7452",
   "metadata": {
    "execution": {
     "iopub.execute_input": "2021-05-26T15:30:22.246510Z",
     "iopub.status.busy": "2021-05-26T15:30:22.246153Z",
     "iopub.status.idle": "2021-05-26T15:30:22.302081Z",
     "shell.execute_reply": "2021-05-26T15:30:22.301466Z",
     "shell.execute_reply.started": "2021-05-26T15:30:22.246476Z"
    },
    "tags": []
   },
   "outputs": [],
   "source": [
    "# Update number of components to use\n",
    "\n",
    "df_tsvd_full_features = get_components_df(df_tsvd_full, best_n_comp) "
   ]
  },
  {
   "cell_type": "code",
   "execution_count": 238,
   "id": "3f40ab5b",
   "metadata": {
    "execution": {
     "iopub.execute_input": "2021-05-26T15:30:45.839689Z",
     "iopub.status.busy": "2021-05-26T15:30:45.839337Z",
     "iopub.status.idle": "2021-05-26T15:30:46.010351Z",
     "shell.execute_reply": "2021-05-26T15:30:46.009775Z",
     "shell.execute_reply.started": "2021-05-26T15:30:45.839657Z"
    },
    "tags": []
   },
   "outputs": [],
   "source": [
    "# Update recommendation accuracy for list of brand name products\n",
    "\n",
    "df_valid_res = get_prod_rec_acc(brand_name_prod, prod_df=df_tsvd_full,\n",
    "                                feat_df=df_tsvd_full_features)"
   ]
  },
  {
   "cell_type": "code",
   "execution_count": 239,
   "id": "2eb858eb",
   "metadata": {
    "execution": {
     "iopub.execute_input": "2021-05-26T15:30:46.848165Z",
     "iopub.status.busy": "2021-05-26T15:30:46.847789Z",
     "iopub.status.idle": "2021-05-26T15:30:46.864597Z",
     "shell.execute_reply": "2021-05-26T15:30:46.863811Z",
     "shell.execute_reply.started": "2021-05-26T15:30:46.848131Z"
    },
    "tags": []
   },
   "outputs": [
    {
     "name": "stdout",
     "output_type": "stream",
     "text": [
      "Correct recommendations out of 6 labeled products:         5/6 or 83.33%\n"
     ]
    },
    {
     "data": {
      "text/html": [
       "<div>\n",
       "<style scoped>\n",
       "    .dataframe tbody tr th:only-of-type {\n",
       "        vertical-align: middle;\n",
       "    }\n",
       "\n",
       "    .dataframe tbody tr th {\n",
       "        vertical-align: top;\n",
       "    }\n",
       "\n",
       "    .dataframe thead th {\n",
       "        text-align: right;\n",
       "    }\n",
       "</style>\n",
       "<table border=\"1\" class=\"dataframe\">\n",
       "  <thead>\n",
       "    <tr style=\"text-align: right;\">\n",
       "      <th></th>\n",
       "      <th>num_correct</th>\n",
       "      <th>perc_correct</th>\n",
       "    </tr>\n",
       "  </thead>\n",
       "  <tbody>\n",
       "    <tr>\n",
       "      <th>0</th>\n",
       "      <td>5</td>\n",
       "      <td>83.33</td>\n",
       "    </tr>\n",
       "  </tbody>\n",
       "</table>\n",
       "</div>"
      ],
      "text/plain": [
       "   num_correct  perc_correct\n",
       "0            5         83.33"
      ]
     },
     "execution_count": 239,
     "metadata": {},
     "output_type": "execute_result"
    }
   ],
   "source": [
    "# Check recommendation accuracy for list of brand name products\n",
    "\n",
    "df_cos_sim_val_res = get_overall_rec_acc(df_valid_res)\n",
    "df_cos_sim_val_res"
   ]
  },
  {
   "cell_type": "markdown",
   "id": "ea713446",
   "metadata": {},
   "source": [
    "### Recommendations for brand vs. generic versions - randomization result"
   ]
  },
  {
   "cell_type": "code",
   "execution_count": 240,
   "id": "74e64b4c",
   "metadata": {
    "execution": {
     "iopub.execute_input": "2021-05-26T15:32:43.581118Z",
     "iopub.status.busy": "2021-05-26T15:32:43.580079Z",
     "iopub.status.idle": "2021-05-26T15:32:43.602406Z",
     "shell.execute_reply": "2021-05-26T15:32:43.601827Z",
     "shell.execute_reply.started": "2021-05-26T15:32:43.581072Z"
    },
    "tags": []
   },
   "outputs": [],
   "source": [
    "def get_prod_rec_acc_rand(prod_list, df_tsvd, randiter):\n",
    "    \"\"\"\n",
    "    Purpose: Gets recommendation accuracy results from randomization with \n",
    "        randiter reshuffling. Recommended minimum is 1000\n",
    "    Returns: df of randomization results\n",
    "    prod_list: list of product names for calculating cosine similarities\n",
    "    df_tsvd: dataframe of tsvd results\n",
    "    randiter: Number of randomization iterations to run\n",
    "    \"\"\"\n",
    "\n",
    "    from numpy import random\n",
    "    import sys, os\n",
    "    \n",
    "    # Initialize empty lists for storing results\n",
    "    iteration = []\n",
    "    prop_correct = []\n",
    "    \n",
    "    # create list of non-feature columns for the get_features function\n",
    "    prod_info = ['use_category', 'brand', 'brand_generic',\n",
    "                 'size', 'price', 'link']\n",
    "    \n",
    "    # Perform randomization and calculate correct recommendations each time\n",
    "    for i in range(randiter-1):\n",
    "        # Randomize the product names for tsvd results df \n",
    "        df_tsvd['product'] = random.permutation(df_tsvd['product'].values)\n",
    "        # get df of randomized features (using reduced number of components)\n",
    "        df_tsvd_feat = get_components_df(df_tsvd_full, best_n_comp) \n",
    "        # Get accuracy of recommendations\n",
    "        df_valid_res = get_prod_rec_acc(prod_list, \n",
    "                                        prod_df=df_tsvd,\n",
    "                                        feat_df=df_tsvd_feat)\n",
    "        # Check recommendation accuracy for list of brand name products\n",
    "        df_valid_acc = get_overall_rec_acc(df_valid_res, print_res=False)\n",
    "        # Append results to lists\n",
    "        iteration.append(i)\n",
    "        prop_correct.extend(df_valid_acc['perc_correct'].tolist())\n",
    "    \n",
    "    # Concatenate results into df\n",
    "    df_overall_acc_res = pd.DataFrame(list(zip(iteration, prop_correct)),\n",
    "                                      columns=['iteration','perc_correct'])\n",
    "    \n",
    "    return df_overall_acc_res"
   ]
  },
  {
   "cell_type": "code",
   "execution_count": 241,
   "id": "e2a1a3ed",
   "metadata": {
    "execution": {
     "iopub.execute_input": "2021-05-26T15:32:46.019574Z",
     "iopub.status.busy": "2021-05-26T15:32:46.019172Z",
     "iopub.status.idle": "2021-05-26T15:33:31.654246Z",
     "shell.execute_reply": "2021-05-26T15:33:31.653763Z",
     "shell.execute_reply.started": "2021-05-26T15:32:46.019534Z"
    },
    "tags": []
   },
   "outputs": [],
   "source": [
    "# Get results from randomization\n",
    "\n",
    "df_rand_res = get_prod_rec_acc_rand(prod_list=brand_name_prod,\n",
    "                                    df_tsvd=df_tsvd_full,\n",
    "                                    randiter=1000)"
   ]
  },
  {
   "cell_type": "code",
   "execution_count": 244,
   "id": "a28157a5",
   "metadata": {
    "execution": {
     "iopub.execute_input": "2021-05-26T15:47:14.574701Z",
     "iopub.status.busy": "2021-05-26T15:47:14.574339Z",
     "iopub.status.idle": "2021-05-26T15:47:14.618463Z",
     "shell.execute_reply": "2021-05-26T15:47:14.618057Z",
     "shell.execute_reply.started": "2021-05-26T15:47:14.574669Z"
    },
    "tags": []
   },
   "outputs": [],
   "source": [
    "# Save randomization output\n",
    "\n",
    "filename = 'data_brand_gen_rand.csv'\n",
    "df_rand_res.to_csv(rpath+directory_name+filename)"
   ]
  },
  {
   "cell_type": "code",
   "execution_count": 242,
   "id": "2e98c6e0",
   "metadata": {
    "execution": {
     "iopub.execute_input": "2021-05-26T15:46:57.987866Z",
     "iopub.status.busy": "2021-05-26T15:46:57.985847Z",
     "iopub.status.idle": "2021-05-26T15:46:58.009004Z",
     "shell.execute_reply": "2021-05-26T15:46:58.008027Z",
     "shell.execute_reply.started": "2021-05-26T15:46:57.987820Z"
    },
    "tags": []
   },
   "outputs": [],
   "source": [
    "def get_acc_p_val(original_df, rand_df):\n",
    "    \"\"\"\n",
    "    Purpose: Print the p-value for the results observed compared to random \n",
    "        chance expectation\n",
    "    Returns:\n",
    "    original_df: df of results from original \n",
    "        accuracy assessment of recs\n",
    "    rand_df: df of results from randomization\n",
    "    \"\"\"\n",
    "    # Get original accuracy \n",
    "    perc_corr_original = original_df['perc_correct'][0]\n",
    "\n",
    "    # Get the proportion of randomization results that were equal to \n",
    "    #   or greater than the original accuracy\n",
    "    rand_p_val = (\n",
    "        (rand_df.perc_correct[rand_df['perc_correct'] >= \\\n",
    "                             perc_corr_original].sum()/1000) * 100\n",
    "    )\n",
    "    \n",
    "    text = f\"The probability of observing the original recommendation \" \\\n",
    "           f\"accuracy of {perc_corr_original}% if the results were due \" \\\n",
    "           f\"to random chance is {rand_p_val}%\"\n",
    "\n",
    "    print(text)\n",
    "    \n",
    "    return rand_p_val"
   ]
  },
  {
   "cell_type": "code",
   "execution_count": 243,
   "id": "91d75bf1",
   "metadata": {
    "execution": {
     "iopub.execute_input": "2021-05-26T15:46:58.884019Z",
     "iopub.status.busy": "2021-05-26T15:46:58.883478Z",
     "iopub.status.idle": "2021-05-26T15:46:58.903551Z",
     "shell.execute_reply": "2021-05-26T15:46:58.902403Z",
     "shell.execute_reply.started": "2021-05-26T15:46:58.883952Z"
    },
    "tags": []
   },
   "outputs": [
    {
     "name": "stdout",
     "output_type": "stream",
     "text": [
      "The probability of observing the original recommendation accuracy of 83.33% if the results were due to random chance is 0.0%\n"
     ]
    }
   ],
   "source": [
    "rand_p_val = get_acc_p_val(df_cos_sim_val_res, df_rand_res)"
   ]
  },
  {
   "cell_type": "code",
   "execution_count": 245,
   "id": "5189c681",
   "metadata": {
    "execution": {
     "iopub.execute_input": "2021-05-26T15:47:24.783928Z",
     "iopub.status.busy": "2021-05-26T15:47:24.783543Z",
     "iopub.status.idle": "2021-05-26T15:47:24.812129Z",
     "shell.execute_reply": "2021-05-26T15:47:24.811124Z",
     "shell.execute_reply.started": "2021-05-26T15:47:24.783896Z"
    },
    "tags": []
   },
   "outputs": [
    {
     "name": "stdout",
     "output_type": "stream",
     "text": [
      "The average recommendation accuracy for the 1000 randomizations is: 0.3%\n",
      "The median recommendation accuracy for the 1000 randomizations is: 0.0%\n"
     ]
    }
   ],
   "source": [
    "# calculate the average accuracy from the randomization results\n",
    "\n",
    "rand_mean_acc = round(df_rand_res['perc_correct'].mean(),2)\n",
    "rand_med_acc = round(df_rand_res['perc_correct'].median(),2)\n",
    "\n",
    "print(f\"The average recommendation accuracy for the 1000 randomizations \" \\\n",
    "      f\"is: {rand_mean_acc}%\")\n",
    "print(f\"The median recommendation accuracy for the 1000 randomizations \" \\\n",
    "      f\"is: {rand_med_acc}%\")"
   ]
  },
  {
   "cell_type": "markdown",
   "id": "2835192a",
   "metadata": {
    "execution": {
     "iopub.execute_input": "2021-05-25T21:21:58.948961Z",
     "iopub.status.busy": "2021-05-25T21:21:58.948571Z",
     "iopub.status.idle": "2021-05-25T21:21:58.955992Z",
     "shell.execute_reply": "2021-05-25T21:21:58.954785Z",
     "shell.execute_reply.started": "2021-05-25T21:21:58.948922Z"
    },
    "tags": []
   },
   "source": [
    "# ADD THE RANGE to the above, then move onto the prod type. For prod type, do train test split of 0.2! "
   ]
  },
  {
   "cell_type": "code",
   "execution_count": null,
   "id": "edd69d98",
   "metadata": {},
   "outputs": [],
   "source": []
  },
  {
   "cell_type": "code",
   "execution_count": null,
   "id": "4494b779",
   "metadata": {},
   "outputs": [],
   "source": []
  },
  {
   "cell_type": "code",
   "execution_count": null,
   "id": "b182affd",
   "metadata": {},
   "outputs": [],
   "source": []
  },
  {
   "cell_type": "code",
   "execution_count": null,
   "id": "744efbba",
   "metadata": {},
   "outputs": [],
   "source": []
  },
  {
   "cell_type": "code",
   "execution_count": null,
   "id": "598b48c9",
   "metadata": {},
   "outputs": [],
   "source": []
  },
  {
   "cell_type": "code",
   "execution_count": null,
   "id": "c9dbfd00",
   "metadata": {},
   "outputs": [],
   "source": []
  },
  {
   "cell_type": "code",
   "execution_count": null,
   "id": "98afb707",
   "metadata": {},
   "outputs": [],
   "source": []
  },
  {
   "cell_type": "code",
   "execution_count": null,
   "id": "859f0480",
   "metadata": {},
   "outputs": [],
   "source": [
    "# Calculate cosine similarity for feature 1 \n",
    "res_cosine = cosine_similarity(features.loc['A+ High-Dose Retinoid Serum',:].to_frame().transpose(), features) #[0:1] .loc[\"Essential-C Cleanser\",:]\n",
    "res_cosine = res_cosine.reshape(-1)\n",
    "res_cosine = pd.DataFrame(res_cosine)\n",
    "res_sim=df[['product','brand','product_type','price','size','ratings', 'active','vit_a',\n",
    "            'total_reviews','link','price_oz']].copy()\n",
    "res_sim['similarity']=res_cosine[[0]]\n",
    "# Round similarity metric\n",
    "#res_sim['similarity']=round(res_sim['similarity'],2)\n",
    "# Maybe don't round so you don't have to deal with ties?\n",
    "#indexNames = res_sim[res_sim['product']=='Essential-C Cleanser'].index\n",
    "#res_sim.drop(indexNames, inplace=True)\n",
    "# Sort from top similarity metrics and ignoring self, so starting at 1, not zero\n",
    "test = res_sim.nlargest(5, 'similarity')[1:5]\n",
    "#res_sim.head()\n",
    "# Select top match\n",
    "test[:10]\n",
    "#Good Genes All-In-One Lactic Acid Treatment\n",
    "#A+ High-Dose Retinoid Serum\n",
    "# Generic vs similar validation\n",
    "# Cetaphil Daily Facial Cleanser\n",
    "# Cetaphil Fragrance Free Moisturizing Cream : 0.959282\n",
    "# Banana Boat Ultra Sport Sunscreen Lotion, Broad Spectum SPF 30 : 0.999971\n",
    "# St. Ives Fresh Skin Face Scrub, Apricot : 0.999748\n",
    "# Clean & Clear Essentials Deep Cleaning Toner Sensitive Skin : 0.999994\n",
    "# Aveeno Positively Radiant Brightening & Exfoliating Face Scrub : 0.990599\n",
    "\n",
    "#test[test['vit_a']==1]"
   ]
  },
  {
   "cell_type": "code",
   "execution_count": null,
   "id": "ccca5393",
   "metadata": {},
   "outputs": [],
   "source": []
  },
  {
   "cell_type": "code",
   "execution_count": null,
   "id": "2230626a",
   "metadata": {},
   "outputs": [],
   "source": []
  },
  {
   "cell_type": "code",
   "execution_count": null,
   "id": "11962e21",
   "metadata": {},
   "outputs": [],
   "source": []
  },
  {
   "cell_type": "code",
   "execution_count": null,
   "id": "95ef2958",
   "metadata": {},
   "outputs": [],
   "source": []
  },
  {
   "cell_type": "code",
   "execution_count": null,
   "id": "25cb45b7",
   "metadata": {},
   "outputs": [],
   "source": []
  }
 ],
 "metadata": {
  "kernelspec": {
   "display_name": "Python [conda env:data_chall] *",
   "language": "python",
   "name": "conda-env-data_chall-py"
  },
  "language_info": {
   "codemirror_mode": {
    "name": "ipython",
    "version": 3
   },
   "file_extension": ".py",
   "mimetype": "text/x-python",
   "name": "python",
   "nbconvert_exporter": "python",
   "pygments_lexer": "ipython3",
   "version": "3.8.8"
  }
 },
 "nbformat": 4,
 "nbformat_minor": 5
}
