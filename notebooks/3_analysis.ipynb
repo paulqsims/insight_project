{
 "cells": [
  {
   "cell_type": "markdown",
   "id": "3d800117",
   "metadata": {},
   "source": [
    "# Analysis for Insight Project"
   ]
  },
  {
   "cell_type": "markdown",
   "id": "042fbb60",
   "metadata": {},
   "source": [
    "## Setup"
   ]
  },
  {
   "cell_type": "code",
   "execution_count": 3,
   "id": "bdcb7206",
   "metadata": {},
   "outputs": [],
   "source": [
    "# import modules\n",
    "import pandas as pd\n",
    "import numpy as np\n",
    "import rootpath\n",
    "from sklearn.cluster import KMeans\n",
    "from sklearn.metrics import silhouette_score\n",
    "import sklearn.metrics as metrics\n",
    "from sklearn.utils import resample\n",
    "#import qgrid\n",
    "import matplotlib.pyplot as plt\n",
    "import seaborn as sns\n",
    "\n",
    "# Set root path for project\n",
    "path = rootpath.detect()\n",
    "\n",
    "# Read in data\n",
    "# Use list comprehension to read in all files\n",
    "df = pd.read_csv(f\"{path}/data/data_clean.csv\", index_col=0).reset_index(drop=True)"
   ]
  }
 ],
 "metadata": {
  "kernelspec": {
   "display_name": "Python [conda env:data_chall] *",
   "language": "python",
   "name": "conda-env-data_chall-py"
  },
  "language_info": {
   "codemirror_mode": {
    "name": "ipython",
    "version": 3
   },
   "file_extension": ".py",
   "mimetype": "text/x-python",
   "name": "python",
   "nbconvert_exporter": "python",
   "pygments_lexer": "ipython3",
   "version": "3.8.8"
  }
 },
 "nbformat": 4,
 "nbformat_minor": 5
}
