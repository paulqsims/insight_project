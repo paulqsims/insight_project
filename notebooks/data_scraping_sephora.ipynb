{
 "cells": [
  {
   "cell_type": "markdown",
   "metadata": {},
   "source": [
    "# Data scraping Sephora"
   ]
  },
  {
   "cell_type": "markdown",
   "metadata": {},
   "source": [
    "## Setup"
   ]
  },
  {
   "cell_type": "code",
   "execution_count": 1,
   "metadata": {},
   "outputs": [],
   "source": [
    "# import modules\n",
    "from selenium import webdriver\n",
    "from selenium.webdriver.common.keys import Keys\n",
    "from selenium.webdriver.common.by import By\n",
    "from selenium.webdriver.support.ui import WebDriverWait\n",
    "from selenium.webdriver.support import expected_conditions as EC\n",
    "from selenium.common.exceptions import NoSuchElementException\n",
    "from selenium.common.exceptions import TimeoutException\n",
    "#from http_request_randomizer.requests.proxy.requestProxy import RequestProxy\n",
    "import time \n",
    "import pandas as pd\n",
    "import numpy as np\n",
    "import rootpath\n",
    "import math\n",
    "import random as rd\n",
    "import dill  \n",
    "\n",
    "# Set root path for project\n",
    "path = rootpath.detect()"
   ]
  },
  {
   "cell_type": "markdown",
   "metadata": {},
   "source": [
    "## Moisturizers\n",
    "### pg 1"
   ]
  },
  {
   "cell_type": "code",
   "execution_count": 2,
   "metadata": {},
   "outputs": [],
   "source": [
    "driver = webdriver.Chrome(f\"{path}/chromedriver\")"
   ]
  },
  {
   "cell_type": "code",
   "execution_count": 108,
   "metadata": {},
   "outputs": [],
   "source": [
    "# Start up chrome driver\n",
    "driver = webdriver.Chrome(f\"{path}/chromedriver\")\n",
    "\n",
    "# Fetch product page link, pg 4\n",
    "driver.get('https://www.ulta.com/skin-care-face-moisturizer?N=27h9Z1z13p3l&No=288&Nrpp=96')\n",
    "    \n",
    "# Extract all html link references for webpage\n",
    "# Wait 5 seconds for page to load before extracting them\n",
    "time.sleep(5)\n",
    "item_list = driver.find_elements_by_xpath(\"/html/body/div[1]/div[6]/div[2]/div[2]/div[6]/div/div/ul//div[contains(@class, 'productQvContainer')]/a[@href]\")\n",
    "# Note from //div[contains] is the wildcard part that selects each individual product link\n",
    "\n",
    "product_links = []\n",
    "# Convert selenium refs info to href links and store them in a vector\n",
    "for i, link in enumerate(item_list):\n",
    "    # print(link.get_attribute('href'))\n",
    "    # Fetch and store the links\n",
    "    product_links.append(link.get_attribute('href'))\n",
    "\n",
    "# Shuffle links so go through them in a random order\n",
    "rd.shuffle(product_links)\n",
    "    \n",
    "# Create empty lists to store results in for each html element\n",
    "brand_names = []\n",
    "prod_names = []\n",
    "prod_sizes = []\n",
    "prod_prices = []\n",
    "prod_details = []\n",
    "prod_ingredientlists = []\n",
    "prod_ratings = []\n",
    "prod_respondrecs = []\n",
    "prod_reviewtotals = []\n",
    "\n",
    "# Type of product and skin\n",
    "prod_type = 'face moisturizer'\n",
    "prod_skin = 'normal'\n",
    "prod_cat = 'moisturizer'\n",
    "page_num = 4"
   ]
  },
  {
   "cell_type": "code",
   "execution_count": 109,
   "metadata": {},
   "outputs": [],
   "source": [
    "# Iterate over links from webpage of products to extract text data\n",
    "for link in product_links:\n",
    "    # wait between 1 and 10 seconds before going to next link\n",
    "    r_int = rd.randint(1,5)\n",
    "    time.sleep(r_int)\n",
    "    driver.get(link)\n",
    "    # wait 5 seconds before scraping elements of webpage\n",
    "    # e.g. allow it to load\n",
    "    time.sleep(5)\n",
    "    # Brand name\n",
    "    brand_name = driver.find_elements_by_xpath(\"//*[@id='js-mobileBody']/div/div/div/div/div/div/section[1]/div[2]/div/h1/div[1]/a[@class]\")[0].text\n",
    "    brand_names.append(brand_name)\n",
    "    # Product name\n",
    "    prod_name = driver.find_elements_by_xpath(\"/html/body/div[1]/div[4]/div/div/div/div/div/div/section[1]/div[2]/div/h1/div[2]\")[0].text\n",
    "    prod_names.append(prod_name)\n",
    "    # Product size\n",
    "    # If else variant for whether product is one size or has multiple sizes\n",
    "    if driver.find_elements_by_xpath(\"//*[contains(@class,'ProductDetail__productVariantOptions')]\"):\n",
    "        try:\n",
    "            prod_size = driver.find_elements_by_xpath(\"//*[contains(concat( ' ', @class, ' ' ), concat( ' ', 'ProductMainSection__itemNumber', ' ' ))]\")[0].text\n",
    "        except (NoSuchElementException,IndexError):\n",
    "            prod_size = math.nan\n",
    "        finally:\n",
    "            pass\n",
    "    else:\n",
    "        try:\n",
    "            prod_size = driver.find_elements_by_xpath(\"//*[contains(concat( ' ', @class, ' ' ), concat( ' ', 'ProductMainSection__itemNumber', ' ' ))]\")[0].text\n",
    "        except (NoSuchElementException,IndexError):\n",
    "            prod_size = math.nan\n",
    "        finally:\n",
    "            pass\n",
    "    # Another option to print all sizes for product variant options\n",
    "    # In reserve if above if statement does not work\n",
    "    # driver.find_elements_by_xpath(\"//*[contains(@class,'ProductDetail__productVariantOptions')]\")[0].text\n",
    "    prod_sizes.append(prod_size)    \n",
    "    # Product price\n",
    "    prod_price = driver.find_elements_by_xpath(\"/html/body/div[1]/div[4]/div/div/div/div/div/div/section[1]/div[2]/div/div[contains(@class, 'ProductPricingPanel')]\")[0].text\n",
    "    prod_prices.append(prod_price)\n",
    "    # Product details\n",
    "    prod_detail = driver.find_elements_by_xpath(\"/html/body/div[1]/div[4]/div/div/div/div/div/div/section[2]/div/div[1]/div/div\")[0].text\n",
    "    prod_details.append(prod_detail)\n",
    "    # Product ingredients\n",
    "    try:\n",
    "        prod_ingredientlist = driver.find_elements_by_xpath(\"/html/body/div[1]/div[4]/div/div/div/div/div/div/section[2]/div/div[3]/div[2]/div[2]/div/div/div | /html/body/div[1]/div[4]/div/div/div/div/div/div/section[2]/div/div[3]/div[2]/div[2]/div/div/div\")[0].get_attribute(\"innerText\")\n",
    "    except (NoSuchElementException, IndexError): \n",
    "        prod_ingredientlist = math.nan\n",
    "    prod_ingredientlists.append(prod_ingredientlist)\n",
    "    # Product average rating\n",
    "    # For this element and below, use webdriverwait to ensure elements have loaded\n",
    "    # Include try and except for new products that don't have reviews\n",
    "    try:\n",
    "        WebDriverWait(driver,45).until(EC.presence_of_element_located((By.XPATH, \"//*[contains(concat( ' ', @class, ' ' ), concat( ' ', 'pr-snippet-rating-decimal', ' ' ))] | /html/body/div[1]/div[4]/div/div/div/div/div/div/section[5]/div/div[2]/div[3]/div/section/header/section/div/div[1]/div/div[1]/div/div[2]\")))\n",
    "        prod_rating = driver.find_element_by_xpath(\"//*[contains(concat( ' ', @class, ' ' ), concat( ' ', 'pr-snippet-rating-decimal', ' ' ))] | /html/body/div[1]/div[4]/div/div/div/div/div/div/section[5]/div/div[2]/div[3]/div/section/header/section/div/div[1]/div/div[1]/div/div[2]\").text\n",
    "    except (NoSuchElementException,TimeoutException): \n",
    "        prod_rating = math.nan\n",
    "    prod_ratings.append(prod_rating)\n",
    "    # Product proportion of respondants who would recommend product to friends\n",
    "    try:\n",
    "        WebDriverWait(driver,45).until(EC.presence_of_element_located((By.XPATH, \"//*[contains(concat( ' ', @class, ' ' ), concat( ' ', 'pr-reco-value', ' ' ))]\")))\n",
    "        prod_respondrec = driver.find_element_by_xpath(\"//*[contains(concat( ' ', @class, ' ' ), concat( ' ', 'pr-reco-value', ' ' ))]\").text\n",
    "    except (NoSuchElementException,TimeoutException): \n",
    "        prod_respondrec = math.nan\n",
    "    finally:\n",
    "        pass\n",
    "    prod_respondrecs.append(prod_respondrec)\n",
    "    # Product total number of reviews\n",
    "    try:\n",
    "        WebDriverWait(driver,45).until(EC.presence_of_element_located((By.XPATH, \"//*[contains(concat( ' ', @class, ' ' ), concat( ' ', 'pr-snippet-review-count', ' ' ))]\")))\n",
    "        prod_reviewtotal = driver.find_element_by_xpath(\"//*[contains(concat( ' ', @class, ' ' ), concat( ' ', 'pr-snippet-review-count', ' ' ))]\").text\n",
    "    except (NoSuchElementException,TimeoutException): \n",
    "        prod_reviewtotal = math.nan\n",
    "    finally:\n",
    "        pass\n",
    "    prod_reviewtotals.append(prod_reviewtotal)"
   ]
  },
  {
   "cell_type": "code",
   "execution_count": 106,
   "metadata": {},
   "outputs": [],
   "source": [
    "# Create lists for 'use_category', 'use_subcategory', 'skintype', page\n",
    "use_categories = []\n",
    "for string in range(len(prod_names)):\n",
    "    use_categories.append(f\"{prod_cat}\")\n",
    "\n",
    "use_subcategory = []\n",
    "for string in range(len(prod_names)):\n",
    "    use_subcategory.append(f\"{prod_type}\")\n",
    "\n",
    "skintype = []\n",
    "for string in range(len(prod_names)):\n",
    "    skintype.append(f\"{prod_skin}\")\n",
    "\n",
    "# Now using all pages combined into one so it will be the same for all\n",
    "page = []\n",
    "for string in range(len(prod_names)):\n",
    "    page.append(f\"{page_num}\")"
   ]
  },
  {
   "cell_type": "code",
   "execution_count": 110,
   "metadata": {},
   "outputs": [],
   "source": [
    "# Combine product info lists into dataframe and export as CSV for pandas processing\n",
    "df_pg1 = (pd.DataFrame(columns=['use_category', 'use_subcategory', 'skintype',\n",
    "                            'brand','product','size', 'price', 'details', \n",
    "                            'ingredients', 'ratings', 'perc_respondrec', 'total_reviews', 'link', 'page'])) # creates master dataframe \n",
    "\n",
    "# list of each ingredient with ratings and categories paired\n",
    "data_tuples = (list(zip(use_categories[1:],use_subcategory[1:],\n",
    "                        skintype[1:], brand_names[1:],prod_names[1:],\n",
    "                        prod_sizes[1:], prod_prices[1:], prod_details[1:],\n",
    "                        prod_ingredientlists[1:], prod_ratings[1:],\n",
    "                        prod_respondrecs[1:], prod_reviewtotals[1:],\n",
    "                        product_links[1:], page[1:]))) \n",
    "\n",
    "# Create dataframe of tuple lists\n",
    "temp_df = (pd.DataFrame(data_tuples,\n",
    "                        columns=['use_category', 'use_subcategory', 'skintype',\n",
    "                                 'brand','product','size', 'price', 'details', \n",
    "                                 'ingredients', 'ratings', 'perc_respondrec', 'total_reviews', 'link', 'page'])) # creates dataframe of each tuple in list\n",
    "df_pg1 = df_pg1.append(temp_df)\n",
    "\n",
    "# Export to csv\n",
    "df_pg1.to_csv(f\"{path}/data/{prod_cat}_{prod_type}_{prod_skin}skin_pg{page_num}.csv\")"
   ]
  },
  {
   "cell_type": "code",
   "execution_count": null,
   "metadata": {},
   "outputs": [],
   "source": []
  }
 ],
 "metadata": {
  "kernelspec": {
   "display_name": "Python 3",
   "language": "python",
   "name": "python3"
  },
  "language_info": {
   "codemirror_mode": {
    "name": "ipython",
    "version": 3
   },
   "file_extension": ".py",
   "mimetype": "text/x-python",
   "name": "python",
   "nbconvert_exporter": "python",
   "pygments_lexer": "ipython3",
   "version": "3.8.5"
  },
  "toc": {
   "base_numbering": 1,
   "nav_menu": {},
   "number_sections": true,
   "sideBar": true,
   "skip_h1_title": false,
   "title_cell": "Table of Contents",
   "title_sidebar": "Contents",
   "toc_cell": false,
   "toc_position": {},
   "toc_section_display": true,
   "toc_window_display": false
  },
  "varInspector": {
   "cols": {
    "lenName": 16,
    "lenType": 16,
    "lenVar": 40
   },
   "kernels_config": {
    "python": {
     "delete_cmd_postfix": "",
     "delete_cmd_prefix": "del ",
     "library": "var_list.py",
     "varRefreshCmd": "print(var_dic_list())"
    },
    "r": {
     "delete_cmd_postfix": ") ",
     "delete_cmd_prefix": "rm(",
     "library": "var_list.r",
     "varRefreshCmd": "cat(var_dic_list()) "
    }
   },
   "types_to_exclude": [
    "module",
    "function",
    "builtin_function_or_method",
    "instance",
    "_Feature"
   ],
   "window_display": false
  }
 },
 "nbformat": 4,
 "nbformat_minor": 4
}
